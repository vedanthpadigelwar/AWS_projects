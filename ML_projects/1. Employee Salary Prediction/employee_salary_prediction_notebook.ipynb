{
 "cells": [
  {
   "cell_type": "markdown",
   "metadata": {
    "colab_type": "text",
    "id": "M27qF7CTrBqc"
   },
   "source": [
    "# TASK #1: UNDERSTAND THE PROBLEM STATEMENT "
   ]
  },
  {
   "cell_type": "markdown",
   "metadata": {
    "colab_type": "text",
    "id": "xNl52nl3qiyL"
   },
   "source": [
    "- The objective of this case study is to predict the employee salary based on the number of years of experience. \n",
    "- In simple linear regression, we predict the value of one variable Y based on another variable X.\n",
    "- X is called the independent variable and Y is called the dependant variable.\n",
    "- Why simple? Because it examines relationship between two variables only.\n",
    "- Why linear? when the independent variable increases (or decreases), the dependent variable increases (or decreases) in a linear fashion.\n"
   ]
  },
  {
   "cell_type": "markdown",
   "metadata": {
    "colab_type": "text",
    "id": "zKmFmyaGunc7"
   },
   "source": [
    "# TASK #2: IMPORT LIBRARIES AND DATASETS"
   ]
  },
  {
   "cell_type": "code",
   "execution_count": null,
   "metadata": {},
   "outputs": [],
   "source": [
    "#!pip install seaborn\n",
    "#!pip install tensorflow"
   ]
  },
  {
   "cell_type": "code",
   "execution_count": 1,
   "metadata": {},
   "outputs": [],
   "source": [
    "# install seaborn library\n",
    "# !pip install seaborn\n",
    "# !pip install tensorflow\n",
    "import tensorflow as tf\n",
    "import pandas as pd\n",
    "import numpy as np\n",
    "import seaborn as sns\n",
    "import matplotlib.pyplot as plt\n"
   ]
  },
  {
   "cell_type": "code",
   "execution_count": 2,
   "metadata": {
    "colab": {},
    "colab_type": "code",
    "id": "tjIiJdM4u1IE"
   },
   "outputs": [],
   "source": [
    "# read the csv file \n",
    "salary_df = pd.read_csv('salary.csv')"
   ]
  },
  {
   "cell_type": "code",
   "execution_count": 3,
   "metadata": {
    "colab": {
     "base_uri": "https://localhost:8080/",
     "height": 204
    },
    "colab_type": "code",
    "id": "q4_wPDKCu5Uc",
    "outputId": "886d2aaf-0205-4f46-96a7-629d0f367d2f"
   },
   "outputs": [
    {
     "data": {
      "text/html": [
       "<div>\n",
       "<style scoped>\n",
       "    .dataframe tbody tr th:only-of-type {\n",
       "        vertical-align: middle;\n",
       "    }\n",
       "\n",
       "    .dataframe tbody tr th {\n",
       "        vertical-align: top;\n",
       "    }\n",
       "\n",
       "    .dataframe thead th {\n",
       "        text-align: right;\n",
       "    }\n",
       "</style>\n",
       "<table border=\"1\" class=\"dataframe\">\n",
       "  <thead>\n",
       "    <tr style=\"text-align: right;\">\n",
       "      <th></th>\n",
       "      <th>YearsExperience</th>\n",
       "      <th>Salary</th>\n",
       "    </tr>\n",
       "  </thead>\n",
       "  <tbody>\n",
       "    <tr>\n",
       "      <th>0</th>\n",
       "      <td>1.1</td>\n",
       "      <td>39343</td>\n",
       "    </tr>\n",
       "    <tr>\n",
       "      <th>1</th>\n",
       "      <td>1.3</td>\n",
       "      <td>46205</td>\n",
       "    </tr>\n",
       "    <tr>\n",
       "      <th>2</th>\n",
       "      <td>1.5</td>\n",
       "      <td>37731</td>\n",
       "    </tr>\n",
       "    <tr>\n",
       "      <th>3</th>\n",
       "      <td>2.0</td>\n",
       "      <td>43525</td>\n",
       "    </tr>\n",
       "    <tr>\n",
       "      <th>4</th>\n",
       "      <td>2.2</td>\n",
       "      <td>39891</td>\n",
       "    </tr>\n",
       "    <tr>\n",
       "      <th>5</th>\n",
       "      <td>2.9</td>\n",
       "      <td>56642</td>\n",
       "    </tr>\n",
       "    <tr>\n",
       "      <th>6</th>\n",
       "      <td>3.0</td>\n",
       "      <td>60150</td>\n",
       "    </tr>\n",
       "    <tr>\n",
       "      <th>7</th>\n",
       "      <td>3.2</td>\n",
       "      <td>54445</td>\n",
       "    </tr>\n",
       "    <tr>\n",
       "      <th>8</th>\n",
       "      <td>3.2</td>\n",
       "      <td>64445</td>\n",
       "    </tr>\n",
       "    <tr>\n",
       "      <th>9</th>\n",
       "      <td>3.7</td>\n",
       "      <td>57189</td>\n",
       "    </tr>\n",
       "    <tr>\n",
       "      <th>10</th>\n",
       "      <td>3.9</td>\n",
       "      <td>63218</td>\n",
       "    </tr>\n",
       "    <tr>\n",
       "      <th>11</th>\n",
       "      <td>4.0</td>\n",
       "      <td>55794</td>\n",
       "    </tr>\n",
       "    <tr>\n",
       "      <th>12</th>\n",
       "      <td>4.0</td>\n",
       "      <td>56957</td>\n",
       "    </tr>\n",
       "    <tr>\n",
       "      <th>13</th>\n",
       "      <td>4.1</td>\n",
       "      <td>57081</td>\n",
       "    </tr>\n",
       "    <tr>\n",
       "      <th>14</th>\n",
       "      <td>4.5</td>\n",
       "      <td>61111</td>\n",
       "    </tr>\n",
       "    <tr>\n",
       "      <th>15</th>\n",
       "      <td>4.9</td>\n",
       "      <td>67938</td>\n",
       "    </tr>\n",
       "    <tr>\n",
       "      <th>16</th>\n",
       "      <td>5.1</td>\n",
       "      <td>66029</td>\n",
       "    </tr>\n",
       "    <tr>\n",
       "      <th>17</th>\n",
       "      <td>5.3</td>\n",
       "      <td>83088</td>\n",
       "    </tr>\n",
       "    <tr>\n",
       "      <th>18</th>\n",
       "      <td>5.9</td>\n",
       "      <td>81363</td>\n",
       "    </tr>\n",
       "    <tr>\n",
       "      <th>19</th>\n",
       "      <td>6.0</td>\n",
       "      <td>93940</td>\n",
       "    </tr>\n",
       "    <tr>\n",
       "      <th>20</th>\n",
       "      <td>6.8</td>\n",
       "      <td>91738</td>\n",
       "    </tr>\n",
       "    <tr>\n",
       "      <th>21</th>\n",
       "      <td>7.1</td>\n",
       "      <td>98273</td>\n",
       "    </tr>\n",
       "    <tr>\n",
       "      <th>22</th>\n",
       "      <td>7.9</td>\n",
       "      <td>101302</td>\n",
       "    </tr>\n",
       "    <tr>\n",
       "      <th>23</th>\n",
       "      <td>8.2</td>\n",
       "      <td>113812</td>\n",
       "    </tr>\n",
       "    <tr>\n",
       "      <th>24</th>\n",
       "      <td>8.7</td>\n",
       "      <td>109431</td>\n",
       "    </tr>\n",
       "    <tr>\n",
       "      <th>25</th>\n",
       "      <td>9.0</td>\n",
       "      <td>105582</td>\n",
       "    </tr>\n",
       "    <tr>\n",
       "      <th>26</th>\n",
       "      <td>9.5</td>\n",
       "      <td>116969</td>\n",
       "    </tr>\n",
       "    <tr>\n",
       "      <th>27</th>\n",
       "      <td>9.6</td>\n",
       "      <td>112635</td>\n",
       "    </tr>\n",
       "    <tr>\n",
       "      <th>28</th>\n",
       "      <td>10.3</td>\n",
       "      <td>122391</td>\n",
       "    </tr>\n",
       "    <tr>\n",
       "      <th>29</th>\n",
       "      <td>10.5</td>\n",
       "      <td>121872</td>\n",
       "    </tr>\n",
       "    <tr>\n",
       "      <th>30</th>\n",
       "      <td>11.2</td>\n",
       "      <td>127345</td>\n",
       "    </tr>\n",
       "    <tr>\n",
       "      <th>31</th>\n",
       "      <td>11.5</td>\n",
       "      <td>126756</td>\n",
       "    </tr>\n",
       "    <tr>\n",
       "      <th>32</th>\n",
       "      <td>12.3</td>\n",
       "      <td>128765</td>\n",
       "    </tr>\n",
       "    <tr>\n",
       "      <th>33</th>\n",
       "      <td>12.9</td>\n",
       "      <td>135675</td>\n",
       "    </tr>\n",
       "    <tr>\n",
       "      <th>34</th>\n",
       "      <td>13.5</td>\n",
       "      <td>139465</td>\n",
       "    </tr>\n",
       "  </tbody>\n",
       "</table>\n",
       "</div>"
      ],
      "text/plain": [
       "    YearsExperience  Salary\n",
       "0               1.1   39343\n",
       "1               1.3   46205\n",
       "2               1.5   37731\n",
       "3               2.0   43525\n",
       "4               2.2   39891\n",
       "5               2.9   56642\n",
       "6               3.0   60150\n",
       "7               3.2   54445\n",
       "8               3.2   64445\n",
       "9               3.7   57189\n",
       "10              3.9   63218\n",
       "11              4.0   55794\n",
       "12              4.0   56957\n",
       "13              4.1   57081\n",
       "14              4.5   61111\n",
       "15              4.9   67938\n",
       "16              5.1   66029\n",
       "17              5.3   83088\n",
       "18              5.9   81363\n",
       "19              6.0   93940\n",
       "20              6.8   91738\n",
       "21              7.1   98273\n",
       "22              7.9  101302\n",
       "23              8.2  113812\n",
       "24              8.7  109431\n",
       "25              9.0  105582\n",
       "26              9.5  116969\n",
       "27              9.6  112635\n",
       "28             10.3  122391\n",
       "29             10.5  121872\n",
       "30             11.2  127345\n",
       "31             11.5  126756\n",
       "32             12.3  128765\n",
       "33             12.9  135675\n",
       "34             13.5  139465"
      ]
     },
     "execution_count": 3,
     "metadata": {},
     "output_type": "execute_result"
    }
   ],
   "source": [
    "salary_df"
   ]
  },
  {
   "cell_type": "markdown",
   "metadata": {},
   "source": [
    "MINI CHALLENGE\n",
    " - Use head and tail methods to print the first and last 7 rows of the dataframe\n",
    " - Try to find the maximum salary value in the dataframe "
   ]
  },
  {
   "cell_type": "code",
   "execution_count": 4,
   "metadata": {},
   "outputs": [
    {
     "data": {
      "text/html": [
       "<div>\n",
       "<style scoped>\n",
       "    .dataframe tbody tr th:only-of-type {\n",
       "        vertical-align: middle;\n",
       "    }\n",
       "\n",
       "    .dataframe tbody tr th {\n",
       "        vertical-align: top;\n",
       "    }\n",
       "\n",
       "    .dataframe thead th {\n",
       "        text-align: right;\n",
       "    }\n",
       "</style>\n",
       "<table border=\"1\" class=\"dataframe\">\n",
       "  <thead>\n",
       "    <tr style=\"text-align: right;\">\n",
       "      <th></th>\n",
       "      <th>YearsExperience</th>\n",
       "      <th>Salary</th>\n",
       "    </tr>\n",
       "  </thead>\n",
       "  <tbody>\n",
       "    <tr>\n",
       "      <th>0</th>\n",
       "      <td>1.1</td>\n",
       "      <td>39343</td>\n",
       "    </tr>\n",
       "    <tr>\n",
       "      <th>1</th>\n",
       "      <td>1.3</td>\n",
       "      <td>46205</td>\n",
       "    </tr>\n",
       "    <tr>\n",
       "      <th>2</th>\n",
       "      <td>1.5</td>\n",
       "      <td>37731</td>\n",
       "    </tr>\n",
       "    <tr>\n",
       "      <th>3</th>\n",
       "      <td>2.0</td>\n",
       "      <td>43525</td>\n",
       "    </tr>\n",
       "    <tr>\n",
       "      <th>4</th>\n",
       "      <td>2.2</td>\n",
       "      <td>39891</td>\n",
       "    </tr>\n",
       "    <tr>\n",
       "      <th>5</th>\n",
       "      <td>2.9</td>\n",
       "      <td>56642</td>\n",
       "    </tr>\n",
       "    <tr>\n",
       "      <th>6</th>\n",
       "      <td>3.0</td>\n",
       "      <td>60150</td>\n",
       "    </tr>\n",
       "  </tbody>\n",
       "</table>\n",
       "</div>"
      ],
      "text/plain": [
       "   YearsExperience  Salary\n",
       "0              1.1   39343\n",
       "1              1.3   46205\n",
       "2              1.5   37731\n",
       "3              2.0   43525\n",
       "4              2.2   39891\n",
       "5              2.9   56642\n",
       "6              3.0   60150"
      ]
     },
     "execution_count": 4,
     "metadata": {},
     "output_type": "execute_result"
    }
   ],
   "source": [
    "salary_df.head(7)"
   ]
  },
  {
   "cell_type": "code",
   "execution_count": 5,
   "metadata": {},
   "outputs": [
    {
     "data": {
      "text/html": [
       "<div>\n",
       "<style scoped>\n",
       "    .dataframe tbody tr th:only-of-type {\n",
       "        vertical-align: middle;\n",
       "    }\n",
       "\n",
       "    .dataframe tbody tr th {\n",
       "        vertical-align: top;\n",
       "    }\n",
       "\n",
       "    .dataframe thead th {\n",
       "        text-align: right;\n",
       "    }\n",
       "</style>\n",
       "<table border=\"1\" class=\"dataframe\">\n",
       "  <thead>\n",
       "    <tr style=\"text-align: right;\">\n",
       "      <th></th>\n",
       "      <th>YearsExperience</th>\n",
       "      <th>Salary</th>\n",
       "    </tr>\n",
       "  </thead>\n",
       "  <tbody>\n",
       "    <tr>\n",
       "      <th>28</th>\n",
       "      <td>10.3</td>\n",
       "      <td>122391</td>\n",
       "    </tr>\n",
       "    <tr>\n",
       "      <th>29</th>\n",
       "      <td>10.5</td>\n",
       "      <td>121872</td>\n",
       "    </tr>\n",
       "    <tr>\n",
       "      <th>30</th>\n",
       "      <td>11.2</td>\n",
       "      <td>127345</td>\n",
       "    </tr>\n",
       "    <tr>\n",
       "      <th>31</th>\n",
       "      <td>11.5</td>\n",
       "      <td>126756</td>\n",
       "    </tr>\n",
       "    <tr>\n",
       "      <th>32</th>\n",
       "      <td>12.3</td>\n",
       "      <td>128765</td>\n",
       "    </tr>\n",
       "    <tr>\n",
       "      <th>33</th>\n",
       "      <td>12.9</td>\n",
       "      <td>135675</td>\n",
       "    </tr>\n",
       "    <tr>\n",
       "      <th>34</th>\n",
       "      <td>13.5</td>\n",
       "      <td>139465</td>\n",
       "    </tr>\n",
       "  </tbody>\n",
       "</table>\n",
       "</div>"
      ],
      "text/plain": [
       "    YearsExperience  Salary\n",
       "28             10.3  122391\n",
       "29             10.5  121872\n",
       "30             11.2  127345\n",
       "31             11.5  126756\n",
       "32             12.3  128765\n",
       "33             12.9  135675\n",
       "34             13.5  139465"
      ]
     },
     "execution_count": 5,
     "metadata": {},
     "output_type": "execute_result"
    }
   ],
   "source": [
    "salary_df.tail(7)"
   ]
  },
  {
   "cell_type": "code",
   "execution_count": 12,
   "metadata": {},
   "outputs": [
    {
     "data": {
      "text/plain": [
       "139465"
      ]
     },
     "execution_count": 12,
     "metadata": {},
     "output_type": "execute_result"
    }
   ],
   "source": [
    "salary_df['Salary'].max()"
   ]
  },
  {
   "cell_type": "markdown",
   "metadata": {
    "colab_type": "text",
    "id": "tMcr7xqMQre2"
   },
   "source": [
    "# TASK #3: PERFORM EXPLORATORY DATA ANALYSIS AND VISUALIZATION"
   ]
  },
  {
   "cell_type": "code",
   "execution_count": 6,
   "metadata": {},
   "outputs": [
    {
     "data": {
      "text/plain": [
       "<AxesSubplot:>"
      ]
     },
     "execution_count": 6,
     "metadata": {},
     "output_type": "execute_result"
    },
    {
     "data": {
      "image/png": "[encoded data removed]",
      "text/plain": [
       "<Figure size 432x288 with 1 Axes>"
      ]
     },
     "metadata": {
      "needs_background": "light"
     },
     "output_type": "display_data"
    }
   ],
   "source": [
    "# check if there are any Null values\n",
    "sns.heatmap(salary_df.isnull(), yticklabels = False, cbar = False, cmap=\"Blues\")\n"
   ]
  },
  {
   "cell_type": "code",
   "execution_count": 7,
   "metadata": {
    "colab": {
     "base_uri": "https://localhost:8080/",
     "height": 272
    },
    "colab_type": "code",
    "id": "hMq3-KWOx0e1",
    "outputId": "22a5b184-1f07-46ef-dfc1-f8377fd7042f",
    "scrolled": true
   },
   "outputs": [
    {
     "name": "stdout",
     "output_type": "stream",
     "text": [
      "<class 'pandas.core.frame.DataFrame'>\n",
      "RangeIndex: 35 entries, 0 to 34\n",
      "Data columns (total 2 columns):\n",
      " #   Column           Non-Null Count  Dtype  \n",
      "---  ------           --------------  -----  \n",
      " 0   YearsExperience  35 non-null     float64\n",
      " 1   Salary           35 non-null     int64  \n",
      "dtypes: float64(1), int64(1)\n",
      "memory usage: 688.0 bytes\n"
     ]
    }
   ],
   "source": [
    "# Check the dataframe info\n",
    "\n",
    "salary_df.info()"
   ]
  },
  {
   "cell_type": "code",
   "execution_count": 8,
   "metadata": {
    "colab": {
     "base_uri": "https://localhost:8080/",
     "height": 297
    },
    "colab_type": "code",
    "id": "Nn1Oxk2SzPX3",
    "outputId": "95f0265a-5e75-4a32-d771-4b3d15850c3c"
   },
   "outputs": [
    {
     "data": {
      "text/html": [
       "<div>\n",
       "<style scoped>\n",
       "    .dataframe tbody tr th:only-of-type {\n",
       "        vertical-align: middle;\n",
       "    }\n",
       "\n",
       "    .dataframe tbody tr th {\n",
       "        vertical-align: top;\n",
       "    }\n",
       "\n",
       "    .dataframe thead th {\n",
       "        text-align: right;\n",
       "    }\n",
       "</style>\n",
       "<table border=\"1\" class=\"dataframe\">\n",
       "  <thead>\n",
       "    <tr style=\"text-align: right;\">\n",
       "      <th></th>\n",
       "      <th>YearsExperience</th>\n",
       "      <th>Salary</th>\n",
       "    </tr>\n",
       "  </thead>\n",
       "  <tbody>\n",
       "    <tr>\n",
       "      <th>count</th>\n",
       "      <td>35.000000</td>\n",
       "      <td>35.000000</td>\n",
       "    </tr>\n",
       "    <tr>\n",
       "      <th>mean</th>\n",
       "      <td>6.308571</td>\n",
       "      <td>83945.600000</td>\n",
       "    </tr>\n",
       "    <tr>\n",
       "      <th>std</th>\n",
       "      <td>3.618610</td>\n",
       "      <td>32162.673003</td>\n",
       "    </tr>\n",
       "    <tr>\n",
       "      <th>min</th>\n",
       "      <td>1.100000</td>\n",
       "      <td>37731.000000</td>\n",
       "    </tr>\n",
       "    <tr>\n",
       "      <th>25%</th>\n",
       "      <td>3.450000</td>\n",
       "      <td>57019.000000</td>\n",
       "    </tr>\n",
       "    <tr>\n",
       "      <th>50%</th>\n",
       "      <td>5.300000</td>\n",
       "      <td>81363.000000</td>\n",
       "    </tr>\n",
       "    <tr>\n",
       "      <th>75%</th>\n",
       "      <td>9.250000</td>\n",
       "      <td>113223.500000</td>\n",
       "    </tr>\n",
       "    <tr>\n",
       "      <th>max</th>\n",
       "      <td>13.500000</td>\n",
       "      <td>139465.000000</td>\n",
       "    </tr>\n",
       "  </tbody>\n",
       "</table>\n",
       "</div>"
      ],
      "text/plain": [
       "       YearsExperience         Salary\n",
       "count        35.000000      35.000000\n",
       "mean          6.308571   83945.600000\n",
       "std           3.618610   32162.673003\n",
       "min           1.100000   37731.000000\n",
       "25%           3.450000   57019.000000\n",
       "50%           5.300000   81363.000000\n",
       "75%           9.250000  113223.500000\n",
       "max          13.500000  139465.000000"
      ]
     },
     "execution_count": 8,
     "metadata": {},
     "output_type": "execute_result"
    }
   ],
   "source": [
    "# Statistical summary of the dataframe\n",
    "\n",
    "salary_df.describe()"
   ]
  },
  {
   "cell_type": "markdown",
   "metadata": {},
   "source": [
    "MINI CHALLENGE\n",
    " - What are the number of years of experience corresponding to employees with minimum and maximim salaries?"
   ]
  },
  {
   "cell_type": "code",
   "execution_count": 21,
   "metadata": {},
   "outputs": [
    {
     "data": {
      "text/html": [
       "<div>\n",
       "<style scoped>\n",
       "    .dataframe tbody tr th:only-of-type {\n",
       "        vertical-align: middle;\n",
       "    }\n",
       "\n",
       "    .dataframe tbody tr th {\n",
       "        vertical-align: top;\n",
       "    }\n",
       "\n",
       "    .dataframe thead th {\n",
       "        text-align: right;\n",
       "    }\n",
       "</style>\n",
       "<table border=\"1\" class=\"dataframe\">\n",
       "  <thead>\n",
       "    <tr style=\"text-align: right;\">\n",
       "      <th></th>\n",
       "      <th>YearsExperience</th>\n",
       "      <th>Salary</th>\n",
       "    </tr>\n",
       "  </thead>\n",
       "  <tbody>\n",
       "    <tr>\n",
       "      <th>2</th>\n",
       "      <td>1.5</td>\n",
       "      <td>37731</td>\n",
       "    </tr>\n",
       "  </tbody>\n",
       "</table>\n",
       "</div>"
      ],
      "text/plain": [
       "   YearsExperience  Salary\n",
       "2              1.5   37731"
      ]
     },
     "execution_count": 21,
     "metadata": {},
     "output_type": "execute_result"
    }
   ],
   "source": [
    "salary_df[salary_df['Salary'] == salary_df['Salary'].min()]"
   ]
  },
  {
   "cell_type": "code",
   "execution_count": 19,
   "metadata": {},
   "outputs": [
    {
     "data": {
      "text/html": [
       "<div>\n",
       "<style scoped>\n",
       "    .dataframe tbody tr th:only-of-type {\n",
       "        vertical-align: middle;\n",
       "    }\n",
       "\n",
       "    .dataframe tbody tr th {\n",
       "        vertical-align: top;\n",
       "    }\n",
       "\n",
       "    .dataframe thead th {\n",
       "        text-align: right;\n",
       "    }\n",
       "</style>\n",
       "<table border=\"1\" class=\"dataframe\">\n",
       "  <thead>\n",
       "    <tr style=\"text-align: right;\">\n",
       "      <th></th>\n",
       "      <th>YearsExperience</th>\n",
       "      <th>Salary</th>\n",
       "    </tr>\n",
       "  </thead>\n",
       "  <tbody>\n",
       "    <tr>\n",
       "      <th>34</th>\n",
       "      <td>13.5</td>\n",
       "      <td>139465</td>\n",
       "    </tr>\n",
       "  </tbody>\n",
       "</table>\n",
       "</div>"
      ],
      "text/plain": [
       "    YearsExperience  Salary\n",
       "34             13.5  139465"
      ]
     },
     "execution_count": 19,
     "metadata": {},
     "output_type": "execute_result"
    }
   ],
   "source": [
    "salary_df[salary_df['Salary'] == salary_df['Salary'].max()]"
   ]
  },
  {
   "cell_type": "code",
   "execution_count": 22,
   "metadata": {},
   "outputs": [
    {
     "name": "stderr",
     "output_type": "stream",
     "text": [
      "/usr/local/lib/python3.7/site-packages/pandas/plotting/_matplotlib/tools.py:331: MatplotlibDeprecationWarning: \n",
      "The is_first_col function was deprecated in Matplotlib 3.4 and will be removed two minor releases later. Use ax.get_subplotspec().is_first_col() instead.\n",
      "  if ax.is_first_col():\n"
     ]
    },
    {
     "data": {
      "text/plain": [
       "array([[<AxesSubplot:title={'center':'YearsExperience'}>,\n",
       "        <AxesSubplot:title={'center':'Salary'}>]], dtype=object)"
      ]
     },
     "execution_count": 22,
     "metadata": {},
     "output_type": "execute_result"
    },
    {
     "data": {
      "image/png": "[encoded data removed]",
      "text/plain": [
       "<Figure size 1440x720 with 2 Axes>"
      ]
     },
     "metadata": {
      "needs_background": "light"
     },
     "output_type": "display_data"
    }
   ],
   "source": [
    "salary_df.hist(bins = 30, figsize = (20,10), color = 'r')\n"
   ]
  },
  {
   "cell_type": "code",
   "execution_count": 23,
   "metadata": {
    "colab": {
     "base_uri": "https://localhost:8080/",
     "height": 1000
    },
    "colab_type": "code",
    "id": "Ka9uFRXSkWHw",
    "outputId": "f42a681e-93d4-4b1f-a29c-f58fc8a6f974"
   },
   "outputs": [
    {
     "data": {
      "text/plain": [
       "<seaborn.axisgrid.PairGrid at 0x7f7c468d3e10>"
      ]
     },
     "execution_count": 23,
     "metadata": {},
     "output_type": "execute_result"
    },
    {
     "data": {
      "image/png": "[encoded data removed]",
      "text/plain": [
       "<Figure size 360x360 with 6 Axes>"
      ]
     },
     "metadata": {
      "needs_background": "light"
     },
     "output_type": "display_data"
    }
   ],
   "source": [
    "# plot pairplot\n",
    "\n",
    "sns.pairplot(salary_df)"
   ]
  },
  {
   "cell_type": "code",
   "execution_count": 24,
   "metadata": {
    "colab": {
     "base_uri": "https://localhost:8080/",
     "height": 297
    },
    "colab_type": "code",
    "id": "9q-tFxvskWDa",
    "outputId": "8834e9ec-7676-4e86-c5e7-20f4e9eccbcb"
   },
   "outputs": [
    {
     "data": {
      "image/png": "[encoded data removed]",
      "text/plain": [
       "<Figure size 432x288 with 2 Axes>"
      ]
     },
     "metadata": {
      "needs_background": "light"
     },
     "output_type": "display_data"
    }
   ],
   "source": [
    "corr_matrix = salary_df.corr()\n",
    "sns.heatmap(corr_matrix, annot = True)\n",
    "plt.show()"
   ]
  },
  {
   "cell_type": "markdown",
   "metadata": {},
   "source": [
    "MINI CHALLENGE\n",
    "- Use regplot in Seaborn to obtain a straight line fit between \"salary\" and \"years of experience\""
   ]
  },
  {
   "cell_type": "code",
   "execution_count": 25,
   "metadata": {},
   "outputs": [
    {
     "data": {
      "text/plain": [
       "<AxesSubplot:xlabel='YearsExperience', ylabel='Salary'>"
      ]
     },
     "execution_count": 25,
     "metadata": {},
     "output_type": "execute_result"
    },
    {
     "data": {
      "image/png": "[encoded data removed]",
      "text/plain": [
       "<Figure size 432x288 with 1 Axes>"
      ]
     },
     "metadata": {
      "needs_background": "light"
     },
     "output_type": "display_data"
    }
   ],
   "source": [
    "sns.regplot(x='YearsExperience',y='Salary',data=salary_df)"
   ]
  },
  {
   "cell_type": "markdown",
   "metadata": {
    "colab_type": "text",
    "id": "53qDZFRn3-S1"
   },
   "source": [
    "# TASK #4: CREATE TRAINING AND TESTING DATASET"
   ]
  },
  {
   "cell_type": "code",
   "execution_count": 26,
   "metadata": {
    "colab": {},
    "colab_type": "code",
    "id": "4OXZB2F21e4H"
   },
   "outputs": [],
   "source": [
    "X = salary_df[['YearsExperience']]\n",
    "y = salary_df[['Salary']]\n"
   ]
  },
  {
   "cell_type": "code",
   "execution_count": 27,
   "metadata": {
    "scrolled": true
   },
   "outputs": [
    {
     "data": {
      "text/html": [
       "<div>\n",
       "<style scoped>\n",
       "    .dataframe tbody tr th:only-of-type {\n",
       "        vertical-align: middle;\n",
       "    }\n",
       "\n",
       "    .dataframe tbody tr th {\n",
       "        vertical-align: top;\n",
       "    }\n",
       "\n",
       "    .dataframe thead th {\n",
       "        text-align: right;\n",
       "    }\n",
       "</style>\n",
       "<table border=\"1\" class=\"dataframe\">\n",
       "  <thead>\n",
       "    <tr style=\"text-align: right;\">\n",
       "      <th></th>\n",
       "      <th>YearsExperience</th>\n",
       "    </tr>\n",
       "  </thead>\n",
       "  <tbody>\n",
       "    <tr>\n",
       "      <th>0</th>\n",
       "      <td>1.1</td>\n",
       "    </tr>\n",
       "    <tr>\n",
       "      <th>1</th>\n",
       "      <td>1.3</td>\n",
       "    </tr>\n",
       "    <tr>\n",
       "      <th>2</th>\n",
       "      <td>1.5</td>\n",
       "    </tr>\n",
       "    <tr>\n",
       "      <th>3</th>\n",
       "      <td>2.0</td>\n",
       "    </tr>\n",
       "    <tr>\n",
       "      <th>4</th>\n",
       "      <td>2.2</td>\n",
       "    </tr>\n",
       "    <tr>\n",
       "      <th>5</th>\n",
       "      <td>2.9</td>\n",
       "    </tr>\n",
       "    <tr>\n",
       "      <th>6</th>\n",
       "      <td>3.0</td>\n",
       "    </tr>\n",
       "    <tr>\n",
       "      <th>7</th>\n",
       "      <td>3.2</td>\n",
       "    </tr>\n",
       "    <tr>\n",
       "      <th>8</th>\n",
       "      <td>3.2</td>\n",
       "    </tr>\n",
       "    <tr>\n",
       "      <th>9</th>\n",
       "      <td>3.7</td>\n",
       "    </tr>\n",
       "    <tr>\n",
       "      <th>10</th>\n",
       "      <td>3.9</td>\n",
       "    </tr>\n",
       "    <tr>\n",
       "      <th>11</th>\n",
       "      <td>4.0</td>\n",
       "    </tr>\n",
       "    <tr>\n",
       "      <th>12</th>\n",
       "      <td>4.0</td>\n",
       "    </tr>\n",
       "    <tr>\n",
       "      <th>13</th>\n",
       "      <td>4.1</td>\n",
       "    </tr>\n",
       "    <tr>\n",
       "      <th>14</th>\n",
       "      <td>4.5</td>\n",
       "    </tr>\n",
       "    <tr>\n",
       "      <th>15</th>\n",
       "      <td>4.9</td>\n",
       "    </tr>\n",
       "    <tr>\n",
       "      <th>16</th>\n",
       "      <td>5.1</td>\n",
       "    </tr>\n",
       "    <tr>\n",
       "      <th>17</th>\n",
       "      <td>5.3</td>\n",
       "    </tr>\n",
       "    <tr>\n",
       "      <th>18</th>\n",
       "      <td>5.9</td>\n",
       "    </tr>\n",
       "    <tr>\n",
       "      <th>19</th>\n",
       "      <td>6.0</td>\n",
       "    </tr>\n",
       "    <tr>\n",
       "      <th>20</th>\n",
       "      <td>6.8</td>\n",
       "    </tr>\n",
       "    <tr>\n",
       "      <th>21</th>\n",
       "      <td>7.1</td>\n",
       "    </tr>\n",
       "    <tr>\n",
       "      <th>22</th>\n",
       "      <td>7.9</td>\n",
       "    </tr>\n",
       "    <tr>\n",
       "      <th>23</th>\n",
       "      <td>8.2</td>\n",
       "    </tr>\n",
       "    <tr>\n",
       "      <th>24</th>\n",
       "      <td>8.7</td>\n",
       "    </tr>\n",
       "    <tr>\n",
       "      <th>25</th>\n",
       "      <td>9.0</td>\n",
       "    </tr>\n",
       "    <tr>\n",
       "      <th>26</th>\n",
       "      <td>9.5</td>\n",
       "    </tr>\n",
       "    <tr>\n",
       "      <th>27</th>\n",
       "      <td>9.6</td>\n",
       "    </tr>\n",
       "    <tr>\n",
       "      <th>28</th>\n",
       "      <td>10.3</td>\n",
       "    </tr>\n",
       "    <tr>\n",
       "      <th>29</th>\n",
       "      <td>10.5</td>\n",
       "    </tr>\n",
       "    <tr>\n",
       "      <th>30</th>\n",
       "      <td>11.2</td>\n",
       "    </tr>\n",
       "    <tr>\n",
       "      <th>31</th>\n",
       "      <td>11.5</td>\n",
       "    </tr>\n",
       "    <tr>\n",
       "      <th>32</th>\n",
       "      <td>12.3</td>\n",
       "    </tr>\n",
       "    <tr>\n",
       "      <th>33</th>\n",
       "      <td>12.9</td>\n",
       "    </tr>\n",
       "    <tr>\n",
       "      <th>34</th>\n",
       "      <td>13.5</td>\n",
       "    </tr>\n",
       "  </tbody>\n",
       "</table>\n",
       "</div>"
      ],
      "text/plain": [
       "    YearsExperience\n",
       "0               1.1\n",
       "1               1.3\n",
       "2               1.5\n",
       "3               2.0\n",
       "4               2.2\n",
       "5               2.9\n",
       "6               3.0\n",
       "7               3.2\n",
       "8               3.2\n",
       "9               3.7\n",
       "10              3.9\n",
       "11              4.0\n",
       "12              4.0\n",
       "13              4.1\n",
       "14              4.5\n",
       "15              4.9\n",
       "16              5.1\n",
       "17              5.3\n",
       "18              5.9\n",
       "19              6.0\n",
       "20              6.8\n",
       "21              7.1\n",
       "22              7.9\n",
       "23              8.2\n",
       "24              8.7\n",
       "25              9.0\n",
       "26              9.5\n",
       "27              9.6\n",
       "28             10.3\n",
       "29             10.5\n",
       "30             11.2\n",
       "31             11.5\n",
       "32             12.3\n",
       "33             12.9\n",
       "34             13.5"
      ]
     },
     "execution_count": 27,
     "metadata": {},
     "output_type": "execute_result"
    }
   ],
   "source": [
    "X"
   ]
  },
  {
   "cell_type": "code",
   "execution_count": 28,
   "metadata": {},
   "outputs": [
    {
     "data": {
      "text/html": [
       "<div>\n",
       "<style scoped>\n",
       "    .dataframe tbody tr th:only-of-type {\n",
       "        vertical-align: middle;\n",
       "    }\n",
       "\n",
       "    .dataframe tbody tr th {\n",
       "        vertical-align: top;\n",
       "    }\n",
       "\n",
       "    .dataframe thead th {\n",
       "        text-align: right;\n",
       "    }\n",
       "</style>\n",
       "<table border=\"1\" class=\"dataframe\">\n",
       "  <thead>\n",
       "    <tr style=\"text-align: right;\">\n",
       "      <th></th>\n",
       "      <th>Salary</th>\n",
       "    </tr>\n",
       "  </thead>\n",
       "  <tbody>\n",
       "    <tr>\n",
       "      <th>0</th>\n",
       "      <td>39343</td>\n",
       "    </tr>\n",
       "    <tr>\n",
       "      <th>1</th>\n",
       "      <td>46205</td>\n",
       "    </tr>\n",
       "    <tr>\n",
       "      <th>2</th>\n",
       "      <td>37731</td>\n",
       "    </tr>\n",
       "    <tr>\n",
       "      <th>3</th>\n",
       "      <td>43525</td>\n",
       "    </tr>\n",
       "    <tr>\n",
       "      <th>4</th>\n",
       "      <td>39891</td>\n",
       "    </tr>\n",
       "    <tr>\n",
       "      <th>5</th>\n",
       "      <td>56642</td>\n",
       "    </tr>\n",
       "    <tr>\n",
       "      <th>6</th>\n",
       "      <td>60150</td>\n",
       "    </tr>\n",
       "    <tr>\n",
       "      <th>7</th>\n",
       "      <td>54445</td>\n",
       "    </tr>\n",
       "    <tr>\n",
       "      <th>8</th>\n",
       "      <td>64445</td>\n",
       "    </tr>\n",
       "    <tr>\n",
       "      <th>9</th>\n",
       "      <td>57189</td>\n",
       "    </tr>\n",
       "    <tr>\n",
       "      <th>10</th>\n",
       "      <td>63218</td>\n",
       "    </tr>\n",
       "    <tr>\n",
       "      <th>11</th>\n",
       "      <td>55794</td>\n",
       "    </tr>\n",
       "    <tr>\n",
       "      <th>12</th>\n",
       "      <td>56957</td>\n",
       "    </tr>\n",
       "    <tr>\n",
       "      <th>13</th>\n",
       "      <td>57081</td>\n",
       "    </tr>\n",
       "    <tr>\n",
       "      <th>14</th>\n",
       "      <td>61111</td>\n",
       "    </tr>\n",
       "    <tr>\n",
       "      <th>15</th>\n",
       "      <td>67938</td>\n",
       "    </tr>\n",
       "    <tr>\n",
       "      <th>16</th>\n",
       "      <td>66029</td>\n",
       "    </tr>\n",
       "    <tr>\n",
       "      <th>17</th>\n",
       "      <td>83088</td>\n",
       "    </tr>\n",
       "    <tr>\n",
       "      <th>18</th>\n",
       "      <td>81363</td>\n",
       "    </tr>\n",
       "    <tr>\n",
       "      <th>19</th>\n",
       "      <td>93940</td>\n",
       "    </tr>\n",
       "    <tr>\n",
       "      <th>20</th>\n",
       "      <td>91738</td>\n",
       "    </tr>\n",
       "    <tr>\n",
       "      <th>21</th>\n",
       "      <td>98273</td>\n",
       "    </tr>\n",
       "    <tr>\n",
       "      <th>22</th>\n",
       "      <td>101302</td>\n",
       "    </tr>\n",
       "    <tr>\n",
       "      <th>23</th>\n",
       "      <td>113812</td>\n",
       "    </tr>\n",
       "    <tr>\n",
       "      <th>24</th>\n",
       "      <td>109431</td>\n",
       "    </tr>\n",
       "    <tr>\n",
       "      <th>25</th>\n",
       "      <td>105582</td>\n",
       "    </tr>\n",
       "    <tr>\n",
       "      <th>26</th>\n",
       "      <td>116969</td>\n",
       "    </tr>\n",
       "    <tr>\n",
       "      <th>27</th>\n",
       "      <td>112635</td>\n",
       "    </tr>\n",
       "    <tr>\n",
       "      <th>28</th>\n",
       "      <td>122391</td>\n",
       "    </tr>\n",
       "    <tr>\n",
       "      <th>29</th>\n",
       "      <td>121872</td>\n",
       "    </tr>\n",
       "    <tr>\n",
       "      <th>30</th>\n",
       "      <td>127345</td>\n",
       "    </tr>\n",
       "    <tr>\n",
       "      <th>31</th>\n",
       "      <td>126756</td>\n",
       "    </tr>\n",
       "    <tr>\n",
       "      <th>32</th>\n",
       "      <td>128765</td>\n",
       "    </tr>\n",
       "    <tr>\n",
       "      <th>33</th>\n",
       "      <td>135675</td>\n",
       "    </tr>\n",
       "    <tr>\n",
       "      <th>34</th>\n",
       "      <td>139465</td>\n",
       "    </tr>\n",
       "  </tbody>\n",
       "</table>\n",
       "</div>"
      ],
      "text/plain": [
       "    Salary\n",
       "0    39343\n",
       "1    46205\n",
       "2    37731\n",
       "3    43525\n",
       "4    39891\n",
       "5    56642\n",
       "6    60150\n",
       "7    54445\n",
       "8    64445\n",
       "9    57189\n",
       "10   63218\n",
       "11   55794\n",
       "12   56957\n",
       "13   57081\n",
       "14   61111\n",
       "15   67938\n",
       "16   66029\n",
       "17   83088\n",
       "18   81363\n",
       "19   93940\n",
       "20   91738\n",
       "21   98273\n",
       "22  101302\n",
       "23  113812\n",
       "24  109431\n",
       "25  105582\n",
       "26  116969\n",
       "27  112635\n",
       "28  122391\n",
       "29  121872\n",
       "30  127345\n",
       "31  126756\n",
       "32  128765\n",
       "33  135675\n",
       "34  139465"
      ]
     },
     "execution_count": 28,
     "metadata": {},
     "output_type": "execute_result"
    }
   ],
   "source": [
    "y"
   ]
  },
  {
   "cell_type": "code",
   "execution_count": 29,
   "metadata": {
    "colab": {
     "base_uri": "https://localhost:8080/",
     "height": 34
    },
    "colab_type": "code",
    "id": "XpGU63Ne1e9P",
    "outputId": "e16c74ca-dc1c-416c-dc44-7f927bb99bc6"
   },
   "outputs": [
    {
     "data": {
      "text/plain": [
       "(35, 1)"
      ]
     },
     "execution_count": 29,
     "metadata": {},
     "output_type": "execute_result"
    }
   ],
   "source": [
    "X.shape"
   ]
  },
  {
   "cell_type": "code",
   "execution_count": 30,
   "metadata": {
    "colab": {
     "base_uri": "https://localhost:8080/",
     "height": 34
    },
    "colab_type": "code",
    "id": "OjGj0RALA0qZ",
    "outputId": "26559a6c-880b-45b4-a1e8-3c4b92bea889"
   },
   "outputs": [
    {
     "data": {
      "text/plain": [
       "(35, 1)"
      ]
     },
     "execution_count": 30,
     "metadata": {},
     "output_type": "execute_result"
    }
   ],
   "source": [
    "y.shape"
   ]
  },
  {
   "cell_type": "code",
   "execution_count": 31,
   "metadata": {
    "colab": {},
    "colab_type": "code",
    "id": "jIeiK1maA6mm"
   },
   "outputs": [],
   "source": [
    "X = np.array(X).astype('float32')\n",
    "y = np.array(y).astype('float32')"
   ]
  },
  {
   "cell_type": "code",
   "execution_count": 32,
   "metadata": {},
   "outputs": [
    {
     "data": {
      "text/plain": [
       "array([[ 1.1],\n",
       "       [ 1.3],\n",
       "       [ 1.5],\n",
       "       [ 2. ],\n",
       "       [ 2.2],\n",
       "       [ 2.9],\n",
       "       [ 3. ],\n",
       "       [ 3.2],\n",
       "       [ 3.2],\n",
       "       [ 3.7],\n",
       "       [ 3.9],\n",
       "       [ 4. ],\n",
       "       [ 4. ],\n",
       "       [ 4.1],\n",
       "       [ 4.5],\n",
       "       [ 4.9],\n",
       "       [ 5.1],\n",
       "       [ 5.3],\n",
       "       [ 5.9],\n",
       "       [ 6. ],\n",
       "       [ 6.8],\n",
       "       [ 7.1],\n",
       "       [ 7.9],\n",
       "       [ 8.2],\n",
       "       [ 8.7],\n",
       "       [ 9. ],\n",
       "       [ 9.5],\n",
       "       [ 9.6],\n",
       "       [10.3],\n",
       "       [10.5],\n",
       "       [11.2],\n",
       "       [11.5],\n",
       "       [12.3],\n",
       "       [12.9],\n",
       "       [13.5]], dtype=float32)"
      ]
     },
     "execution_count": 32,
     "metadata": {},
     "output_type": "execute_result"
    }
   ],
   "source": [
    "# Only take the numerical variables and scale them\n",
    "X "
   ]
  },
  {
   "cell_type": "code",
   "execution_count": 34,
   "metadata": {
    "colab": {},
    "colab_type": "code",
    "id": "GoReLFfnA6uF"
   },
   "outputs": [],
   "source": [
    "# split the data into test and train sets\n",
    "from sklearn.model_selection import train_test_split\n",
    "\n",
    "X_train, X_test, y_train, y_test = train_test_split(X, y, test_size = 0.25)\n"
   ]
  },
  {
   "cell_type": "markdown",
   "metadata": {},
   "source": [
    "MINI CHALLENGE\n",
    " - Try splitting the data into 75% for training and the rest for testing\n",
    " - Verify that the split was successful by obtaining the shape of both X_train and X_test\n",
    " - Did you notice any change in the order of the data? why?"
   ]
  },
  {
   "cell_type": "code",
   "execution_count": 35,
   "metadata": {},
   "outputs": [
    {
     "data": {
      "text/plain": [
       "(26, 1)"
      ]
     },
     "execution_count": 35,
     "metadata": {},
     "output_type": "execute_result"
    }
   ],
   "source": [
    "X_train.shape"
   ]
  },
  {
   "cell_type": "code",
   "execution_count": 36,
   "metadata": {},
   "outputs": [
    {
     "data": {
      "text/plain": [
       "(9, 1)"
      ]
     },
     "execution_count": 36,
     "metadata": {},
     "output_type": "execute_result"
    }
   ],
   "source": [
    "X_test.shape"
   ]
  },
  {
   "cell_type": "markdown",
   "metadata": {
    "colab_type": "text",
    "id": "idWHLv5alF4C"
   },
   "source": [
    "# TASK #5: TRAIN A LINEAR REGRESSION MODEL IN SK-LEARN (NOTE THAT SAGEMAKER BUILT-IN ALGORITHMS ARE NOT USED HERE)"
   ]
  },
  {
   "cell_type": "code",
   "execution_count": 45,
   "metadata": {
    "colab": {
     "base_uri": "https://localhost:8080/",
     "height": 34
    },
    "colab_type": "code",
    "id": "yHL-6mKwBURs",
    "outputId": "10d71b6d-9c2b-4bab-8b27-d3c5883e6a25"
   },
   "outputs": [
    {
     "data": {
      "text/plain": [
       "LinearRegression()"
      ]
     },
     "execution_count": 45,
     "metadata": {},
     "output_type": "execute_result"
    }
   ],
   "source": [
    "# using linear regression model\n",
    "from sklearn.linear_model import LinearRegression\n",
    "from sklearn.metrics import mean_squared_error, accuracy_score\n",
    "\n",
    "regresssion_model_sklearn = LinearRegression(fit_intercept = True)\n",
    "regresssion_model_sklearn.fit(X_train, y_train)\n"
   ]
  },
  {
   "cell_type": "code",
   "execution_count": 46,
   "metadata": {
    "colab": {
     "base_uri": "https://localhost:8080/",
     "height": 34
    },
    "colab_type": "code",
    "id": "elD8m5N0BgEY",
    "outputId": "16a1813d-a0f1-4d1f-dc02-d7ad5a445417"
   },
   "outputs": [
    {
     "data": {
      "text/plain": [
       "0.9516967515366519"
      ]
     },
     "execution_count": 46,
     "metadata": {},
     "output_type": "execute_result"
    }
   ],
   "source": [
    "regresssion_model_sklearn_accuracy = regresssion_model_sklearn.score(X_test, y_test)\n",
    "regresssion_model_sklearn_accuracy"
   ]
  },
  {
   "cell_type": "code",
   "execution_count": 47,
   "metadata": {},
   "outputs": [
    {
     "name": "stdout",
     "output_type": "stream",
     "text": [
      "Linear Model Coefficient (m):  [[8700.99]]\n",
      "Linear Model Coefficient (b):  [29462.387]\n"
     ]
    }
   ],
   "source": [
    "print('Linear Model Coefficient (m): ', regresssion_model_sklearn.coef_)\n",
    "print('Linear Model Coefficient (b): ', regresssion_model_sklearn.intercept_)"
   ]
  },
  {
   "cell_type": "markdown",
   "metadata": {},
   "source": [
    "MINI CHALLENGE\n",
    "- Retrain the model while setting the fit_intercept = False, what do you notice?"
   ]
  },
  {
   "cell_type": "code",
   "execution_count": 40,
   "metadata": {},
   "outputs": [
    {
     "data": {
      "text/plain": [
       "0.7002693928579007"
      ]
     },
     "execution_count": 40,
     "metadata": {},
     "output_type": "execute_result"
    }
   ],
   "source": [
    "regresssion_model_sklearn = LinearRegression(fit_intercept = False)\n",
    "regresssion_model_sklearn.fit(X_train, y_train)\n",
    "regresssion_model_sklearn_accuracy = regresssion_model_sklearn.score(X_test, y_test)\n",
    "regresssion_model_sklearn_accuracy"
   ]
  },
  {
   "cell_type": "code",
   "execution_count": 41,
   "metadata": {},
   "outputs": [
    {
     "name": "stdout",
     "output_type": "stream",
     "text": [
      "Linear Model Coefficient (m):  [[12115.71]]\n",
      "Linear Model Coefficient (b):  0.0\n"
     ]
    }
   ],
   "source": [
    "print('Linear Model Coefficient (m): ', regresssion_model_sklearn.coef_)\n",
    "print('Linear Model Coefficient (b): ', regresssion_model_sklearn.intercept_)"
   ]
  },
  {
   "cell_type": "markdown",
   "metadata": {},
   "source": [
    "# TASK #6: EVALUATE TRAINED MODEL PERFORMANCE (NOTE THAT SAGEMAKER BUILT-IN ALGORITHMS ARE NOT USED HERE)"
   ]
  },
  {
   "cell_type": "code",
   "execution_count": 48,
   "metadata": {},
   "outputs": [],
   "source": [
    "y_predict = regresssion_model_sklearn.predict(X_test)"
   ]
  },
  {
   "cell_type": "code",
   "execution_count": 49,
   "metadata": {
    "scrolled": true
   },
   "outputs": [
    {
     "data": {
      "text/plain": [
       "array([[ 65136.445],\n",
       "       [ 61656.05 ],\n",
       "       [105161.   ],\n",
       "       [ 91239.42 ],\n",
       "       [ 68616.84 ],\n",
       "       [ 63396.25 ],\n",
       "       [ 57305.555],\n",
       "       [136484.56 ],\n",
       "       [ 42513.87 ]], dtype=float32)"
      ]
     },
     "execution_count": 49,
     "metadata": {},
     "output_type": "execute_result"
    }
   ],
   "source": [
    "y_predict"
   ]
  },
  {
   "cell_type": "code",
   "execution_count": 50,
   "metadata": {},
   "outputs": [
    {
     "data": {
      "text/plain": [
       "Text(0.5, 1.0, 'Salary vs. Years of Experience')"
      ]
     },
     "execution_count": 50,
     "metadata": {},
     "output_type": "execute_result"
    },
    {
     "data": {
      "image/png": "[encoded data removed]",
      "text/plain": [
       "<Figure size 432x288 with 1 Axes>"
      ]
     },
     "metadata": {
      "needs_background": "light"
     },
     "output_type": "display_data"
    }
   ],
   "source": [
    "plt.scatter(X_train, y_train, color = 'gray')\n",
    "plt.plot(X_train, regresssion_model_sklearn.predict(X_train), color = 'red')\n",
    "plt.ylabel('Salary')\n",
    "plt.xlabel('Number of Years of Experience')\n",
    "plt.title('Salary vs. Years of Experience')"
   ]
  },
  {
   "cell_type": "markdown",
   "metadata": {},
   "source": [
    "MINI CHALLENGE\n",
    " - Use the trained model, obtain the salary corresponding to eployees who have years of experience = 5"
   ]
  },
  {
   "cell_type": "code",
   "execution_count": 51,
   "metadata": {},
   "outputs": [],
   "source": [
    "num_years_exp = [[5]]"
   ]
  },
  {
   "cell_type": "code",
   "execution_count": 54,
   "metadata": {},
   "outputs": [
    {
     "data": {
      "text/plain": [
       "array([[72967.33789062]])"
      ]
     },
     "execution_count": 54,
     "metadata": {},
     "output_type": "execute_result"
    }
   ],
   "source": [
    "salary = regresssion_model_sklearn.predict(num_years_exp)\n",
    "salary"
   ]
  },
  {
   "cell_type": "markdown",
   "metadata": {},
   "source": [
    "# TASK #7: TRAIN A LINEAR LEARNER MODEL USING SAGEMAKER"
   ]
  },
  {
   "cell_type": "code",
   "execution_count": 56,
   "metadata": {},
   "outputs": [
    {
     "name": "stdout",
     "output_type": "stream",
     "text": [
      "arn:aws:iam::880968264155:role/service-role/AmazonSageMaker-ExecutionRole-20210726T142831\n"
     ]
    }
   ],
   "source": [
    "# Boto3 is the Amazon Web Services (AWS) Software Development Kit (SDK) for Python\n",
    "# Boto3 allows Python developer to write software that makes use of services like Amazon S3 and Amazon EC2\n",
    "\n",
    "import sagemaker\n",
    "import boto3\n",
    "from sagemaker import Session\n",
    "\n",
    "# Let's create a Sagemaker session\n",
    "sagemaker_session = sagemaker.Session()\n",
    "bucket = Session().default_bucket()\n",
    "# Let's define the S3 bucket and prefix that we want to use in this session\n",
    "bucket = 'sagemaker-practic' # bucket named 'sagemaker-practical' was created beforehand\n",
    "prefix = 'linear_learner' # prefix is the subfolder within the bucket.\n",
    "\n",
    "# Let's get the execution role for the notebook instance. \n",
    "# This is the IAM role that you created when you created your notebook instance. You pass the role to the training job.\n",
    "# Note that AWS Identity and Access Management (IAM) role that Amazon SageMaker can assume to perform tasks on your behalf (for example, reading training results, called model artifacts, from the S3 bucket and writing training results to Amazon S3). \n",
    "role = sagemaker.get_execution_role()\n",
    "print(role)"
   ]
  },
  {
   "cell_type": "code",
   "execution_count": 57,
   "metadata": {},
   "outputs": [
    {
     "data": {
      "text/plain": [
       "(26, 1)"
      ]
     },
     "execution_count": 57,
     "metadata": {},
     "output_type": "execute_result"
    }
   ],
   "source": [
    "X_train.shape"
   ]
  },
  {
   "cell_type": "code",
   "execution_count": 58,
   "metadata": {},
   "outputs": [],
   "source": [
    "y_train = y_train[:,0]"
   ]
  },
  {
   "cell_type": "code",
   "execution_count": 59,
   "metadata": {},
   "outputs": [
    {
     "data": {
      "text/plain": [
       "(26,)"
      ]
     },
     "execution_count": 59,
     "metadata": {},
     "output_type": "execute_result"
    }
   ],
   "source": [
    "y_train.shape"
   ]
  },
  {
   "cell_type": "code",
   "execution_count": 60,
   "metadata": {},
   "outputs": [
    {
     "data": {
      "text/plain": [
       "0"
      ]
     },
     "execution_count": 60,
     "metadata": {},
     "output_type": "execute_result"
    }
   ],
   "source": [
    "import io # The io module allows for dealing with various types of I/O (text I/O, binary I/O and raw I/O). \n",
    "import numpy as np\n",
    "import sagemaker.amazon.common as smac # sagemaker common libary\n",
    "\n",
    "# Code below converts the data in numpy array format to RecordIO format\n",
    "# This is the format required by Sagemaker Linear Learner \n",
    "\n",
    "buf = io.BytesIO() # create an in-memory byte array (buf is a buffer I will be writing to)\n",
    "smac.write_numpy_to_dense_tensor(buf, X_train, y_train)\n",
    "buf.seek(0) \n",
    "# When you write to in-memory byte arrays, it increments 1 every time you write to it\n",
    "# Let's reset that back to zero \n"
   ]
  },
  {
   "cell_type": "code",
   "execution_count": 61,
   "metadata": {},
   "outputs": [
    {
     "name": "stdout",
     "output_type": "stream",
     "text": [
      "uploaded training data location: s3://sagemaker-practic/linear_learner/train/linear-train-data\n"
     ]
    }
   ],
   "source": [
    "import os\n",
    "\n",
    "# Code to upload RecordIO data to S3\n",
    " \n",
    "# Key refers to the name of the file    \n",
    "key = 'linear-train-data'\n",
    "\n",
    "# The following code uploads the data in record-io format to S3 bucket to be accessed later for training\n",
    "boto3.resource('s3').Bucket(bucket).Object(os.path.join(prefix, 'train', key)).upload_fileobj(buf)\n",
    "\n",
    "# Let's print out the training data location in s3\n",
    "s3_train_data = 's3://{}/{}/train/{}'.format(bucket, prefix, key)\n",
    "print('uploaded training data location: {}'.format(s3_train_data))"
   ]
  },
  {
   "cell_type": "code",
   "execution_count": 62,
   "metadata": {},
   "outputs": [
    {
     "data": {
      "text/plain": [
       "(9, 1)"
      ]
     },
     "execution_count": 62,
     "metadata": {},
     "output_type": "execute_result"
    }
   ],
   "source": [
    "X_test.shape"
   ]
  },
  {
   "cell_type": "code",
   "execution_count": 63,
   "metadata": {},
   "outputs": [
    {
     "data": {
      "text/plain": [
       "(9, 1)"
      ]
     },
     "execution_count": 63,
     "metadata": {},
     "output_type": "execute_result"
    }
   ],
   "source": [
    "y_test.shape"
   ]
  },
  {
   "cell_type": "code",
   "execution_count": 64,
   "metadata": {},
   "outputs": [],
   "source": [
    "# Make sure that the target label is a vector\n",
    "y_test = y_test[:,0]\n"
   ]
  },
  {
   "cell_type": "code",
   "execution_count": 65,
   "metadata": {},
   "outputs": [
    {
     "data": {
      "text/plain": [
       "0"
      ]
     },
     "execution_count": 65,
     "metadata": {},
     "output_type": "execute_result"
    }
   ],
   "source": [
    "# Code to upload RecordIO data to S3\n",
    "\n",
    "buf = io.BytesIO() # create an in-memory byte array (buf is a buffer I will be writing to)\n",
    "smac.write_numpy_to_dense_tensor(buf, X_test, y_test)\n",
    "buf.seek(0) \n",
    "# When you write to in-memory byte arrays, it increments 1 every time you write to it\n",
    "# Let's reset that back to zero \n"
   ]
  },
  {
   "cell_type": "code",
   "execution_count": 66,
   "metadata": {},
   "outputs": [
    {
     "name": "stdout",
     "output_type": "stream",
     "text": [
      "uploaded training data location: s3://sagemaker-practic/linear_learner/test/linear-test-data\n"
     ]
    }
   ],
   "source": [
    "# Key refers to the name of the file    \n",
    "key = 'linear-test-data'\n",
    "\n",
    "# The following code uploads the data in record-io format to S3 bucket to be accessed later for training\n",
    "boto3.resource('s3').Bucket(bucket).Object(os.path.join(prefix, 'test', key)).upload_fileobj(buf)\n",
    "\n",
    "# Let's print out the testing data location in s3\n",
    "s3_test_data = 's3://{}/{}/test/{}'.format(bucket, prefix, key)\n",
    "print('uploaded training data location: {}'.format(s3_test_data))"
   ]
  },
  {
   "cell_type": "code",
   "execution_count": 67,
   "metadata": {},
   "outputs": [
    {
     "name": "stdout",
     "output_type": "stream",
     "text": [
      "Training artifacts will be uploaded to: s3://sagemaker-practic/linear_learner/output\n"
     ]
    }
   ],
   "source": [
    "# create an output placeholder in S3 bucket to store the linear learner output\n",
    "\n",
    "output_location = 's3://{}/{}/output'.format(bucket, prefix)\n",
    "print('Training artifacts will be uploaded to: {}'.format(output_location))"
   ]
  },
  {
   "cell_type": "code",
   "execution_count": 68,
   "metadata": {},
   "outputs": [
    {
     "name": "stderr",
     "output_type": "stream",
     "text": [
      "The method get_image_uri has been renamed in sagemaker>=2.\n",
      "See: https://sagemaker.readthedocs.io/en/stable/v2.html for details.\n",
      "Defaulting to the only supported framework/algorithm version: 1. Ignoring framework/algorithm version: 1.\n"
     ]
    }
   ],
   "source": [
    "# This code is used to get the training container of sagemaker built-in algorithms\n",
    "# all we have to do is to specify the name of the algorithm, that we want to use\n",
    "\n",
    "# Let's obtain a reference to the linearLearner container image\n",
    "# Note that all regression models are named estimators\n",
    "# You don't have to specify (hardcode) the region, get_image_uri will get the current region name using boto3.Session\n",
    "\n",
    "from sagemaker.amazon.amazon_estimator import get_image_uri\n",
    "\n",
    "container = get_image_uri(boto3.Session().region_name, 'linear-learner')"
   ]
  },
  {
   "cell_type": "code",
   "execution_count": 69,
   "metadata": {},
   "outputs": [
    {
     "name": "stderr",
     "output_type": "stream",
     "text": [
      "train_instance_count has been renamed in sagemaker>=2.\n",
      "See: https://sagemaker.readthedocs.io/en/stable/v2.html for details.\n",
      "train_instance_type has been renamed in sagemaker>=2.\n",
      "See: https://sagemaker.readthedocs.io/en/stable/v2.html for details.\n"
     ]
    },
    {
     "name": "stdout",
     "output_type": "stream",
     "text": [
      "2021-07-26 17:08:58 Starting - Starting the training job...\n",
      "2021-07-26 17:09:21 Starting - Launching requested ML instancesProfilerReport-1627319338: InProgress\n",
      "...\n",
      "2021-07-26 17:09:49 Starting - Preparing the instances for training.........\n",
      "2021-07-26 17:11:23 Downloading - Downloading input data...\n",
      "2021-07-26 17:11:47 Training - Downloading the training image..\u001b[34mDocker entrypoint called with argument(s): train\u001b[0m\n",
      "\u001b[34mRunning default environment configuration script\u001b[0m\n",
      "\u001b[34m[07/26/2021 17:12:12 INFO 139733705852736] Reading default configuration from /opt/amazon/lib/python3.7/site-packages/algorithm/resources/default-input.json: {'mini_batch_size': '1000', 'epochs': '15', 'feature_dim': 'auto', 'use_bias': 'true', 'binary_classifier_model_selection_criteria': 'accuracy', 'f_beta': '1.0', 'target_recall': '0.8', 'target_precision': '0.8', 'num_models': 'auto', 'num_calibration_samples': '10000000', 'init_method': 'uniform', 'init_scale': '0.07', 'init_sigma': '0.01', 'init_bias': '0.0', 'optimizer': 'auto', 'loss': 'auto', 'margin': '1.0', 'quantile': '0.5', 'loss_insensitivity': '0.01', 'huber_delta': '1.0', 'num_classes': '1', 'accuracy_top_k': '3', 'wd': 'auto', 'l1': 'auto', 'momentum': 'auto', 'learning_rate': 'auto', 'beta_1': 'auto', 'beta_2': 'auto', 'bias_lr_mult': 'auto', 'bias_wd_mult': 'auto', 'use_lr_scheduler': 'true', 'lr_scheduler_step': 'auto', 'lr_scheduler_factor': 'auto', 'lr_scheduler_minimum_lr': 'auto', 'positive_example_weight_mult': '1.0', 'balance_multiclass_weights': 'false', 'normalize_data': 'true', 'normalize_label': 'auto', 'unbias_data': 'auto', 'unbias_label': 'auto', 'num_point_for_scaler': '10000', '_kvstore': 'auto', '_num_gpus': 'auto', '_num_kv_servers': 'auto', '_log_level': 'info', '_tuning_objective_metric': '', 'early_stopping_patience': '3', 'early_stopping_tolerance': '0.001', '_enable_profiler': 'false'}\u001b[0m\n",
      "\u001b[34m[07/26/2021 17:12:12 INFO 139733705852736] Merging with provided configuration from /opt/ml/input/config/hyperparameters.json: {'loss': 'absolute_loss', 'feature_dim': '1', 'num_models': '32', 'predictor_type': 'regressor', 'epochs': '5', 'mini_batch_size': '5'}\u001b[0m\n",
      "\u001b[34m[07/26/2021 17:12:12 INFO 139733705852736] Final configuration: {'mini_batch_size': '5', 'epochs': '5', 'feature_dim': '1', 'use_bias': 'true', 'binary_classifier_model_selection_criteria': 'accuracy', 'f_beta': '1.0', 'target_recall': '0.8', 'target_precision': '0.8', 'num_models': '32', 'num_calibration_samples': '10000000', 'init_method': 'uniform', 'init_scale': '0.07', 'init_sigma': '0.01', 'init_bias': '0.0', 'optimizer': 'auto', 'loss': 'absolute_loss', 'margin': '1.0', 'quantile': '0.5', 'loss_insensitivity': '0.01', 'huber_delta': '1.0', 'num_classes': '1', 'accuracy_top_k': '3', 'wd': 'auto', 'l1': 'auto', 'momentum': 'auto', 'learning_rate': 'auto', 'beta_1': 'auto', 'beta_2': 'auto', 'bias_lr_mult': 'auto', 'bias_wd_mult': 'auto', 'use_lr_scheduler': 'true', 'lr_scheduler_step': 'auto', 'lr_scheduler_factor': 'auto', 'lr_scheduler_minimum_lr': 'auto', 'positive_example_weight_mult': '1.0', 'balance_multiclass_weights': 'false', 'normalize_data': 'true', 'normalize_label': 'auto', 'unbias_data': 'auto', 'unbias_label': 'auto', 'num_point_for_scaler': '10000', '_kvstore': 'auto', '_num_gpus': 'auto', '_num_kv_servers': 'auto', '_log_level': 'info', '_tuning_objective_metric': '', 'early_stopping_patience': '3', 'early_stopping_tolerance': '0.001', '_enable_profiler': 'false', 'predictor_type': 'regressor'}\u001b[0m\n",
      "\u001b[34m[07/26/2021 17:12:12 WARNING 139733705852736] Loggers have already been setup.\u001b[0m\n",
      "\u001b[34mProcess 1 is a worker.\u001b[0m\n",
      "\u001b[34m[07/26/2021 17:12:12 INFO 139733705852736] Using default worker.\u001b[0m\n",
      "\u001b[34m[07/26/2021 17:12:12 INFO 139733705852736] Checkpoint loading and saving are disabled.\u001b[0m\n",
      "\u001b[34m[2021-07-26 17:12:12.257] [tensorio] [info] epoch_stats={\"data_pipeline\": \"/opt/ml/input/data/train\", \"epoch\": 0, \"duration\": 13, \"num_examples\": 1, \"num_bytes\": 240}\u001b[0m\n",
      "\u001b[34m[07/26/2021 17:12:12 INFO 139733705852736] Create Store: local\u001b[0m\n",
      "\u001b[34m[2021-07-26 17:12:12.313] [tensorio] [info] epoch_stats={\"data_pipeline\": \"/opt/ml/input/data/train\", \"epoch\": 1, \"duration\": 55, \"num_examples\": 6, \"num_bytes\": 1248}\u001b[0m\n",
      "\u001b[34m[07/26/2021 17:12:12 INFO 139733705852736] Scaler algorithm parameters\n",
      " <algorithm.scaler.ScalerAlgorithmStable object at 0x7f15e944ea90>\u001b[0m\n",
      "\u001b[34m[07/26/2021 17:12:12 INFO 139733705852736] Scaling model computed with parameters:\n",
      " {'stdev_label': \u001b[0m\n",
      "\u001b[34m[32945.074]\u001b[0m\n",
      "\u001b[34m<NDArray 1 @cpu(0)>, 'stdev_weight': \u001b[0m\n",
      "\u001b[34m[3.7233188]\u001b[0m\n",
      "\u001b[34m<NDArray 1 @cpu(0)>, 'mean_label': \u001b[0m\n",
      "\u001b[34m[87179.57]\u001b[0m\n",
      "\u001b[34m<NDArray 1 @cpu(0)>, 'mean_weight': \u001b[0m\n",
      "\u001b[34m[6.6359997]\u001b[0m\n",
      "\u001b[34m<NDArray 1 @cpu(0)>}\u001b[0m\n",
      "\u001b[34m[07/26/2021 17:12:12 INFO 139733705852736] nvidia-smi: took 0.030 seconds to run.\u001b[0m\n",
      "\u001b[34m[07/26/2021 17:12:12 INFO 139733705852736] nvidia-smi identified 0 GPUs.\u001b[0m\n",
      "\u001b[34m[07/26/2021 17:12:12 INFO 139733705852736] Number of GPUs being used: 0\u001b[0m\n",
      "\u001b[34m#metrics {\"StartTime\": 1627319532.4121544, \"EndTime\": 1627319532.4121892, \"Dimensions\": {\"Algorithm\": \"Linear Learner\", \"Host\": \"algo-1\", \"Operation\": \"training\", \"Meta\": \"init_train_data_iter\"}, \"Metrics\": {\"Total Records Seen\": {\"sum\": 31.0, \"count\": 1, \"min\": 31, \"max\": 31}, \"Total Batches Seen\": {\"sum\": 7.0, \"count\": 1, \"min\": 7, \"max\": 7}, \"Max Records Seen Between Resets\": {\"sum\": 26.0, \"count\": 1, \"min\": 26, \"max\": 26}, \"Max Batches Seen Between Resets\": {\"sum\": 6.0, \"count\": 1, \"min\": 6, \"max\": 6}, \"Reset Count\": {\"sum\": 2.0, \"count\": 1, \"min\": 2, \"max\": 2}, \"Number of Records Since Last Reset\": {\"sum\": 0.0, \"count\": 1, \"min\": 0, \"max\": 0}, \"Number of Batches Since Last Reset\": {\"sum\": 0.0, \"count\": 1, \"min\": 0, \"max\": 0}}}\n",
      "\u001b[0m\n",
      "\u001b[34m[2021-07-26 17:12:12.526] [tensorio] [info] epoch_stats={\"data_pipeline\": \"/opt/ml/input/data/train\", \"epoch\": 4, \"duration\": 113, \"num_examples\": 6, \"num_bytes\": 1248}\u001b[0m\n",
      "\u001b[34m#metrics {\"StartTime\": 1627319532.5265667, \"EndTime\": 1627319532.5266376, \"Dimensions\": {\"Algorithm\": \"Linear Learner\", \"Host\": \"algo-1\", \"Operation\": \"training\", \"epoch\": 0, \"model\": 0}, \"Metrics\": {\"train_absolute_loss_objective\": {\"sum\": 0.9042939281463623, \"count\": 1, \"min\": 0.9042939281463623, \"max\": 0.9042939281463623}}}\n",
      "\u001b[0m\n",
      "\u001b[34m#metrics {\"StartTime\": 1627319532.5267084, \"EndTime\": 1627319532.5267227, \"Dimensions\": {\"Algorithm\": \"Linear Learner\", \"Host\": \"algo-1\", \"Operation\": \"training\", \"epoch\": 0, \"model\": 1}, \"Metrics\": {\"train_absolute_loss_objective\": {\"sum\": 0.9243914222717285, \"count\": 1, \"min\": 0.9243914222717285, \"max\": 0.9243914222717285}}}\n",
      "\u001b[0m\n",
      "\u001b[34m#metrics {\"StartTime\": 1627319532.5267627, \"EndTime\": 1627319532.5267732, \"Dimensions\": {\"Algorithm\": \"Linear Learner\", \"Host\": \"algo-1\", \"Operation\": \"training\", \"epoch\": 0, \"model\": 2}, \"Metrics\": {\"train_absolute_loss_objective\": {\"sum\": 0.9067284774780273, \"count\": 1, \"min\": 0.9067284774780273, \"max\": 0.9067284774780273}}}\n",
      "\u001b[0m\n",
      "\u001b[34m#metrics {\"StartTime\": 1627319532.5268142, \"EndTime\": 1627319532.5268252, \"Dimensions\": {\"Algorithm\": \"Linear Learner\", \"Host\": \"algo-1\", \"Operation\": \"training\", \"epoch\": 0, \"model\": 3}, \"Metrics\": {\"train_absolute_loss_objective\": {\"sum\": 0.9233643531799316, \"count\": 1, \"min\": 0.9233643531799316, \"max\": 0.9233643531799316}}}\n",
      "\u001b[0m\n",
      "\u001b[34m#metrics {\"StartTime\": 1627319532.5268652, \"EndTime\": 1627319532.5268757, \"Dimensions\": {\"Algorithm\": \"Linear Learner\", \"Host\": \"algo-1\", \"Operation\": \"training\", \"epoch\": 0, \"model\": 4}, \"Metrics\": {\"train_absolute_loss_objective\": {\"sum\": 0.8125773811340332, \"count\": 1, \"min\": 0.8125773811340332, \"max\": 0.8125773811340332}}}\n",
      "\u001b[0m\n",
      "\u001b[34m#metrics {\"StartTime\": 1627319532.526909, \"EndTime\": 1627319532.5269184, \"Dimensions\": {\"Algorithm\": \"Linear Learner\", \"Host\": \"algo-1\", \"Operation\": \"training\", \"epoch\": 0, \"model\": 5}, \"Metrics\": {\"train_absolute_loss_objective\": {\"sum\": 0.8231587886810303, \"count\": 1, \"min\": 0.8231587886810303, \"max\": 0.8231587886810303}}}\n",
      "\u001b[0m\n",
      "\u001b[34m#metrics {\"StartTime\": 1627319532.5269527, \"EndTime\": 1627319532.5269625, \"Dimensions\": {\"Algorithm\": \"Linear Learner\", \"Host\": \"algo-1\", \"Operation\": \"training\", \"epoch\": 0, \"model\": 6}, \"Metrics\": {\"train_absolute_loss_objective\": {\"sum\": 0.913590784072876, \"count\": 1, \"min\": 0.913590784072876, \"max\": 0.913590784072876}}}\n",
      "\u001b[0m\n",
      "\u001b[34m#metrics {\"StartTime\": 1627319532.5269964, \"EndTime\": 1627319532.527006, \"Dimensions\": {\"Algorithm\": \"Linear Learner\", \"Host\": \"algo-1\", \"Operation\": \"training\", \"epoch\": 0, \"model\": 7}, \"Metrics\": {\"train_absolute_loss_objective\": {\"sum\": 0.8821056365966797, \"count\": 1, \"min\": 0.8821056365966797, \"max\": 0.8821056365966797}}}\n",
      "\u001b[0m\n",
      "\u001b[34m#metrics {\"StartTime\": 1627319532.5270386, \"EndTime\": 1627319532.5270474, \"Dimensions\": {\"Algorithm\": \"Linear Learner\", \"Host\": \"algo-1\", \"Operation\": \"training\", \"epoch\": 0, \"model\": 8}, \"Metrics\": {\"train_absolute_loss_objective\": {\"sum\": 0.9607227516174316, \"count\": 1, \"min\": 0.9607227516174316, \"max\": 0.9607227516174316}}}\n",
      "\u001b[0m\n",
      "\u001b[34m#metrics {\"StartTime\": 1627319532.5270796, \"EndTime\": 1627319532.5270886, \"Dimensions\": {\"Algorithm\": \"Linear Learner\", \"Host\": \"algo-1\", \"Operation\": \"training\", \"epoch\": 0, \"model\": 9}, \"Metrics\": {\"train_absolute_loss_objective\": {\"sum\": 0.8921500015258789, \"count\": 1, \"min\": 0.8921500015258789, \"max\": 0.8921500015258789}}}\n",
      "\u001b[0m\n",
      "\u001b[34m#metrics {\"StartTime\": 1627319532.5271206, \"EndTime\": 1627319532.5271297, \"Dimensions\": {\"Algorithm\": \"Linear Learner\", \"Host\": \"algo-1\", \"Operation\": \"training\", \"epoch\": 0, \"model\": 10}, \"Metrics\": {\"train_absolute_loss_objective\": {\"sum\": 0.8989123153686523, \"count\": 1, \"min\": 0.8989123153686523, \"max\": 0.8989123153686523}}}\n",
      "\u001b[0m\n",
      "\u001b[34m#metrics {\"StartTime\": 1627319532.5271618, \"EndTime\": 1627319532.527171, \"Dimensions\": {\"Algorithm\": \"Linear Learner\", \"Host\": \"algo-1\", \"Operation\": \"training\", \"epoch\": 0, \"model\": 11}, \"Metrics\": {\"train_absolute_loss_objective\": {\"sum\": 0.883958854675293, \"count\": 1, \"min\": 0.883958854675293, \"max\": 0.883958854675293}}}\n",
      "\u001b[0m\n",
      "\u001b[34m#metrics {\"StartTime\": 1627319532.5272026, \"EndTime\": 1627319532.5272114, \"Dimensions\": {\"Algorithm\": \"Linear Learner\", \"Host\": \"algo-1\", \"Operation\": \"training\", \"epoch\": 0, \"model\": 12}, \"Metrics\": {\"train_absolute_loss_objective\": {\"sum\": 0.8221986675262452, \"count\": 1, \"min\": 0.8221986675262452, \"max\": 0.8221986675262452}}}\n",
      "\u001b[0m\n",
      "\u001b[34m#metrics {\"StartTime\": 1627319532.527246, \"EndTime\": 1627319532.5272555, \"Dimensions\": {\"Algorithm\": \"Linear Learner\", \"Host\": \"algo-1\", \"Operation\": \"training\", \"epoch\": 0, \"model\": 13}, \"Metrics\": {\"train_absolute_loss_objective\": {\"sum\": 0.8507452011108398, \"count\": 1, \"min\": 0.8507452011108398, \"max\": 0.8507452011108398}}}\n",
      "\u001b[0m\n",
      "\u001b[34m#metrics {\"StartTime\": 1627319532.5272937, \"EndTime\": 1627319532.527304, \"Dimensions\": {\"Algorithm\": \"Linear Learner\", \"Host\": \"algo-1\", \"Operation\": \"training\", \"epoch\": 0, \"model\": 14}, \"Metrics\": {\"train_absolute_loss_objective\": {\"sum\": 0.820581636428833, \"count\": 1, \"min\": 0.820581636428833, \"max\": 0.820581636428833}}}\n",
      "\u001b[0m\n",
      "\u001b[34m#metrics {\"StartTime\": 1627319532.5273426, \"EndTime\": 1627319532.5273526, \"Dimensions\": {\"Algorithm\": \"Linear Learner\", \"Host\": \"algo-1\", \"Operation\": \"training\", \"epoch\": 0, \"model\": 15}, \"Metrics\": {\"train_absolute_loss_objective\": {\"sum\": 0.8575868797302246, \"count\": 1, \"min\": 0.8575868797302246, \"max\": 0.8575868797302246}}}\n",
      "\u001b[0m\n",
      "\u001b[34m#metrics {\"StartTime\": 1627319532.5273912, \"EndTime\": 1627319532.5274012, \"Dimensions\": {\"Algorithm\": \"Linear Learner\", \"Host\": \"algo-1\", \"Operation\": \"training\", \"epoch\": 0, \"model\": 16}, \"Metrics\": {\"train_absolute_loss_objective\": {\"sum\": 0.8678204917907715, \"count\": 1, \"min\": 0.8678204917907715, \"max\": 0.8678204917907715}}}\n",
      "\u001b[0m\n",
      "\u001b[34m#metrics {\"StartTime\": 1627319532.5274339, \"EndTime\": 1627319532.5274434, \"Dimensions\": {\"Algorithm\": \"Linear Learner\", \"Host\": \"algo-1\", \"Operation\": \"training\", \"epoch\": 0, \"model\": 17}, \"Metrics\": {\"train_absolute_loss_objective\": {\"sum\": 0.9195925712585449, \"count\": 1, \"min\": 0.9195925712585449, \"max\": 0.9195925712585449}}}\n",
      "\u001b[0m\n",
      "\u001b[34m#metrics {\"StartTime\": 1627319532.5274808, \"EndTime\": 1627319532.5274909, \"Dimensions\": {\"Algorithm\": \"Linear Learner\", \"Host\": \"algo-1\", \"Operation\": \"training\", \"epoch\": 0, \"model\": 18}, \"Metrics\": {\"train_absolute_loss_objective\": {\"sum\": 0.8951596641540527, \"count\": 1, \"min\": 0.8951596641540527, \"max\": 0.8951596641540527}}}\n",
      "\u001b[0m\n",
      "\u001b[34m#metrics {\"StartTime\": 1627319532.5275288, \"EndTime\": 1627319532.5275388, \"Dimensions\": {\"Algorithm\": \"Linear Learner\", \"Host\": \"algo-1\", \"Operation\": \"training\", \"epoch\": 0, \"model\": 19}, \"Metrics\": {\"train_absolute_loss_objective\": {\"sum\": 0.8924304389953613, \"count\": 1, \"min\": 0.8924304389953613, \"max\": 0.8924304389953613}}}\n",
      "\u001b[0m\n",
      "\u001b[34m#metrics {\"StartTime\": 1627319532.5275717, \"EndTime\": 1627319532.527581, \"Dimensions\": {\"Algorithm\": \"Linear Learner\", \"Host\": \"algo-1\", \"Operation\": \"training\", \"epoch\": 0, \"model\": 20}, \"Metrics\": {\"train_absolute_loss_objective\": {\"sum\": 0.8714673900604248, \"count\": 1, \"min\": 0.8714673900604248, \"max\": 0.8714673900604248}}}\n",
      "\u001b[0m\n",
      "\u001b[34m#metrics {\"StartTime\": 1627319532.5276127, \"EndTime\": 1627319532.527622, \"Dimensions\": {\"Algorithm\": \"Linear Learner\", \"Host\": \"algo-1\", \"Operation\": \"training\", \"epoch\": 0, \"model\": 21}, \"Metrics\": {\"train_absolute_loss_objective\": {\"sum\": 0.8879649353027343, \"count\": 1, \"min\": 0.8879649353027343, \"max\": 0.8879649353027343}}}\n",
      "\u001b[0m\n",
      "\u001b[34m#metrics {\"StartTime\": 1627319532.527659, \"EndTime\": 1627319532.527669, \"Dimensions\": {\"Algorithm\": \"Linear Learner\", \"Host\": \"algo-1\", \"Operation\": \"training\", \"epoch\": 0, \"model\": 22}, \"Metrics\": {\"train_absolute_loss_objective\": {\"sum\": 0.8179947376251221, \"count\": 1, \"min\": 0.8179947376251221, \"max\": 0.8179947376251221}}}\n",
      "\u001b[0m\n",
      "\u001b[34m#metrics {\"StartTime\": 1627319532.5277073, \"EndTime\": 1627319532.5277174, \"Dimensions\": {\"Algorithm\": \"Linear Learner\", \"Host\": \"algo-1\", \"Operation\": \"training\", \"epoch\": 0, \"model\": 23}, \"Metrics\": {\"train_absolute_loss_objective\": {\"sum\": 0.9163406753540039, \"count\": 1, \"min\": 0.9163406753540039, \"max\": 0.9163406753540039}}}\n",
      "\u001b[0m\n",
      "\u001b[34m#metrics {\"StartTime\": 1627319532.5277581, \"EndTime\": 1627319532.5277681, \"Dimensions\": {\"Algorithm\": \"Linear Learner\", \"Host\": \"algo-1\", \"Operation\": \"training\", \"epoch\": 0, \"model\": 24}, \"Metrics\": {\"train_absolute_loss_objective\": {\"sum\": 0.8699367713928222, \"count\": 1, \"min\": 0.8699367713928222, \"max\": 0.8699367713928222}}}\n",
      "\u001b[0m\n",
      "\u001b[34m#metrics {\"StartTime\": 1627319532.5278008, \"EndTime\": 1627319532.52781, \"Dimensions\": {\"Algorithm\": \"Linear Learner\", \"Host\": \"algo-1\", \"Operation\": \"training\", \"epoch\": 0, \"model\": 25}, \"Metrics\": {\"train_absolute_loss_objective\": {\"sum\": 0.9380989646911622, \"count\": 1, \"min\": 0.9380989646911622, \"max\": 0.9380989646911622}}}\n",
      "\u001b[0m\n",
      "\u001b[34m#metrics {\"StartTime\": 1627319532.5278478, \"EndTime\": 1627319532.5278578, \"Dimensions\": {\"Algorithm\": \"Linear Learner\", \"Host\": \"algo-1\", \"Operation\": \"training\", \"epoch\": 0, \"model\": 26}, \"Metrics\": {\"train_absolute_loss_objective\": {\"sum\": 0.9246377182006836, \"count\": 1, \"min\": 0.9246377182006836, \"max\": 0.9246377182006836}}}\n",
      "\u001b[0m\n",
      "\u001b[34m#metrics {\"StartTime\": 1627319532.5278962, \"EndTime\": 1627319532.5279064, \"Dimensions\": {\"Algorithm\": \"Linear Learner\", \"Host\": \"algo-1\", \"Operation\": \"training\", \"epoch\": 0, \"model\": 27}, \"Metrics\": {\"train_absolute_loss_objective\": {\"sum\": 0.9136248779296875, \"count\": 1, \"min\": 0.9136248779296875, \"max\": 0.9136248779296875}}}\n",
      "\u001b[0m\n",
      "\u001b[34m#metrics {\"StartTime\": 1627319532.5279474, \"EndTime\": 1627319532.5279615, \"Dimensions\": {\"Algorithm\": \"Linear Learner\", \"Host\": \"algo-1\", \"Operation\": \"training\", \"epoch\": 0, \"model\": 28}, \"Metrics\": {\"train_absolute_loss_objective\": {\"sum\": 1.0135854244232179, \"count\": 1, \"min\": 1.0135854244232179, \"max\": 1.0135854244232179}}}\n",
      "\u001b[0m\n",
      "\u001b[34m#metrics {\"StartTime\": 1627319532.5280163, \"EndTime\": 1627319532.5280318, \"Dimensions\": {\"Algorithm\": \"Linear Learner\", \"Host\": \"algo-1\", \"Operation\": \"training\", \"epoch\": 0, \"model\": 29}, \"Metrics\": {\"train_absolute_loss_objective\": {\"sum\": 1.0137302207946777, \"count\": 1, \"min\": 1.0137302207946777, \"max\": 1.0137302207946777}}}\n",
      "\u001b[0m\n",
      "\u001b[34m#metrics {\"StartTime\": 1627319532.528085, \"EndTime\": 1627319532.5280995, \"Dimensions\": {\"Algorithm\": \"Linear Learner\", \"Host\": \"algo-1\", \"Operation\": \"training\", \"epoch\": 0, \"model\": 30}, \"Metrics\": {\"train_absolute_loss_objective\": {\"sum\": 1.0058898067474364, \"count\": 1, \"min\": 1.0058898067474364, \"max\": 1.0058898067474364}}}\n",
      "\u001b[0m\n",
      "\u001b[34m#metrics {\"StartTime\": 1627319532.5281484, \"EndTime\": 1627319532.5281625, \"Dimensions\": {\"Algorithm\": \"Linear Learner\", \"Host\": \"algo-1\", \"Operation\": \"training\", \"epoch\": 0, \"model\": 31}, \"Metrics\": {\"train_absolute_loss_objective\": {\"sum\": 1.0177430629730224, \"count\": 1, \"min\": 1.0177430629730224, \"max\": 1.0177430629730224}}}\n",
      "\u001b[0m\n",
      "\u001b[34m[07/26/2021 17:12:12 INFO 139733705852736] #quality_metric: host=algo-1, epoch=0, train absolute_loss_objective <loss>=0.9042939281463623\u001b[0m\n",
      "\u001b[34m[07/26/2021 17:12:12 INFO 139733705852736] #early_stopping_criteria_metric: host=algo-1, epoch=0, criteria=absolute_loss_objective, value=0.8125773811340332\u001b[0m\n",
      "\u001b[34m[07/26/2021 17:12:12 INFO 139733705852736] Epoch 0: Loss improved. Updating best model\u001b[0m\n",
      "\u001b[34m[07/26/2021 17:12:12 INFO 139733705852736] Saving model for epoch: 0\u001b[0m\n",
      "\u001b[34m[07/26/2021 17:12:12 INFO 139733705852736] Saved checkpoint to \"/tmp/tmpini4x2m6/mx-mod-0000.params\"\u001b[0m\n",
      "\u001b[34m[07/26/2021 17:12:12 INFO 139733705852736] #progress_metric: host=algo-1, completed 20.0 % of epochs\u001b[0m\n",
      "\u001b[34m#metrics {\"StartTime\": 1627319532.412438, \"EndTime\": 1627319532.541997, \"Dimensions\": {\"Algorithm\": \"Linear Learner\", \"Host\": \"algo-1\", \"Operation\": \"training\", \"epoch\": 0, \"Meta\": \"training_data_iter\"}, \"Metrics\": {\"Total Records Seen\": {\"sum\": 57.0, \"count\": 1, \"min\": 57, \"max\": 57}, \"Total Batches Seen\": {\"sum\": 13.0, \"count\": 1, \"min\": 13, \"max\": 13}, \"Max Records Seen Between Resets\": {\"sum\": 26.0, \"count\": 1, \"min\": 26, \"max\": 26}, \"Max Batches Seen Between Resets\": {\"sum\": 6.0, \"count\": 1, \"min\": 6, \"max\": 6}, \"Reset Count\": {\"sum\": 3.0, \"count\": 1, \"min\": 3, \"max\": 3}, \"Number of Records Since Last Reset\": {\"sum\": 26.0, \"count\": 1, \"min\": 26, \"max\": 26}, \"Number of Batches Since Last Reset\": {\"sum\": 6.0, \"count\": 1, \"min\": 6, \"max\": 6}}}\n",
      "\u001b[0m\n",
      "\u001b[34m[07/26/2021 17:12:12 INFO 139733705852736] #throughput_metric: host=algo-1, train throughput=200.4671123864637 records/second\u001b[0m\n",
      "\u001b[34m[2021-07-26 17:12:12.650] [tensorio] [info] epoch_stats={\"data_pipeline\": \"/opt/ml/input/data/train\", \"epoch\": 6, \"duration\": 107, \"num_examples\": 6, \"num_bytes\": 1248}\u001b[0m\n",
      "\u001b[34m#metrics {\"StartTime\": 1627319532.65026, \"EndTime\": 1627319532.6503422, \"Dimensions\": {\"Algorithm\": \"Linear Learner\", \"Host\": \"algo-1\", \"Operation\": \"training\", \"epoch\": 1, \"model\": 0}, \"Metrics\": {\"train_absolute_loss_objective\": {\"sum\": 0.8787602519989014, \"count\": 1, \"min\": 0.8787602519989014, \"max\": 0.8787602519989014}}}\n",
      "\u001b[0m\n",
      "\u001b[34m#metrics {\"StartTime\": 1627319532.6504238, \"EndTime\": 1627319532.650442, \"Dimensions\": {\"Algorithm\": \"Linear Learner\", \"Host\": \"algo-1\", \"Operation\": \"training\", \"epoch\": 1, \"model\": 1}, \"Metrics\": {\"train_absolute_loss_objective\": {\"sum\": 0.8988577556610108, \"count\": 1, \"min\": 0.8988577556610108, \"max\": 0.8988577556610108}}}\n",
      "\u001b[0m\n",
      "\u001b[34m#metrics {\"StartTime\": 1627319532.6504934, \"EndTime\": 1627319532.6505096, \"Dimensions\": {\"Algorithm\": \"Linear Learner\", \"Host\": \"algo-1\", \"Operation\": \"training\", \"epoch\": 1, \"model\": 2}, \"Metrics\": {\"train_absolute_loss_objective\": {\"sum\": 0.8811948204040527, \"count\": 1, \"min\": 0.8811948204040527, \"max\": 0.8811948204040527}}}\n",
      "\u001b[0m\n",
      "\u001b[34m#metrics {\"StartTime\": 1627319532.6505575, \"EndTime\": 1627319532.6505735, \"Dimensions\": {\"Algorithm\": \"Linear Learner\", \"Host\": \"algo-1\", \"Operation\": \"training\", \"epoch\": 1, \"model\": 3}, \"Metrics\": {\"train_absolute_loss_objective\": {\"sum\": 0.8978306770324707, \"count\": 1, \"min\": 0.8978306770324707, \"max\": 0.8978306770324707}}}\n",
      "\u001b[0m\n",
      "\u001b[34m#metrics {\"StartTime\": 1627319532.6506255, \"EndTime\": 1627319532.6506414, \"Dimensions\": {\"Algorithm\": \"Linear Learner\", \"Host\": \"algo-1\", \"Operation\": \"training\", \"epoch\": 1, \"model\": 4}, \"Metrics\": {\"train_absolute_loss_objective\": {\"sum\": 0.3334731674194336, \"count\": 1, \"min\": 0.3334731674194336, \"max\": 0.3334731674194336}}}\n",
      "\u001b[0m\n",
      "\u001b[34m#metrics {\"StartTime\": 1627319532.6507804, \"EndTime\": 1627319532.6507988, \"Dimensions\": {\"Algorithm\": \"Linear Learner\", \"Host\": \"algo-1\", \"Operation\": \"training\", \"epoch\": 1, \"model\": 5}, \"Metrics\": {\"train_absolute_loss_objective\": {\"sum\": 0.3410580444335938, \"count\": 1, \"min\": 0.3410580444335938, \"max\": 0.3410580444335938}}}\n",
      "\u001b[0m\n",
      "\u001b[34m#metrics {\"StartTime\": 1627319532.6509218, \"EndTime\": 1627319532.6509402, \"Dimensions\": {\"Algorithm\": \"Linear Learner\", \"Host\": \"algo-1\", \"Operation\": \"training\", \"epoch\": 1, \"model\": 6}, \"Metrics\": {\"train_absolute_loss_objective\": {\"sum\": 0.4076571989059448, \"count\": 1, \"min\": 0.4076571989059448, \"max\": 0.4076571989059448}}}\n",
      "\u001b[0m\n",
      "\u001b[34m#metrics {\"StartTime\": 1627319532.6510518, \"EndTime\": 1627319532.6510694, \"Dimensions\": {\"Algorithm\": \"Linear Learner\", \"Host\": \"algo-1\", \"Operation\": \"training\", \"epoch\": 1, \"model\": 7}, \"Metrics\": {\"train_absolute_loss_objective\": {\"sum\": 0.3833120203018188, \"count\": 1, \"min\": 0.3833120203018188, \"max\": 0.3833120203018188}}}\n",
      "\u001b[0m\n",
      "\u001b[34m#metrics {\"StartTime\": 1627319532.6511219, \"EndTime\": 1627319532.6511393, \"Dimensions\": {\"Algorithm\": \"Linear Learner\", \"Host\": \"algo-1\", \"Operation\": \"training\", \"epoch\": 1, \"model\": 8}, \"Metrics\": {\"train_absolute_loss_objective\": {\"sum\": 0.9351892852783203, \"count\": 1, \"min\": 0.9351892852783203, \"max\": 0.9351892852783203}}}\n",
      "\u001b[0m\n",
      "\u001b[34m#metrics {\"StartTime\": 1627319532.651191, \"EndTime\": 1627319532.6512692, \"Dimensions\": {\"Algorithm\": \"Linear Learner\", \"Host\": \"algo-1\", \"Operation\": \"training\", \"epoch\": 1, \"model\": 9}, \"Metrics\": {\"train_absolute_loss_objective\": {\"sum\": 0.8666167449951172, \"count\": 1, \"min\": 0.8666167449951172, \"max\": 0.8666167449951172}}}\n",
      "\u001b[0m\n",
      "\u001b[34m#metrics {\"StartTime\": 1627319532.6513236, \"EndTime\": 1627319532.6513376, \"Dimensions\": {\"Algorithm\": \"Linear Learner\", \"Host\": \"algo-1\", \"Operation\": \"training\", \"epoch\": 1, \"model\": 10}, \"Metrics\": {\"train_absolute_loss_objective\": {\"sum\": 0.8733790397644043, \"count\": 1, \"min\": 0.8733790397644043, \"max\": 0.8733790397644043}}}\n",
      "\u001b[0m\n",
      "\u001b[34m#metrics {\"StartTime\": 1627319532.6513946, \"EndTime\": 1627319532.6514115, \"Dimensions\": {\"Algorithm\": \"Linear Learner\", \"Host\": \"algo-1\", \"Operation\": \"training\", \"epoch\": 1, \"model\": 11}, \"Metrics\": {\"train_absolute_loss_objective\": {\"sum\": 0.8584256553649903, \"count\": 1, \"min\": 0.8584256553649903, \"max\": 0.8584256553649903}}}\n",
      "\u001b[0m\n",
      "\u001b[34m#metrics {\"StartTime\": 1627319532.6514642, \"EndTime\": 1627319532.6514812, \"Dimensions\": {\"Algorithm\": \"Linear Learner\", \"Host\": \"algo-1\", \"Operation\": \"training\", \"epoch\": 1, \"model\": 12}, \"Metrics\": {\"train_absolute_loss_objective\": {\"sum\": 0.3405045223236084, \"count\": 1, \"min\": 0.3405045223236084, \"max\": 0.3405045223236084}}}\n",
      "\u001b[0m\n",
      "\u001b[34m#metrics {\"StartTime\": 1627319532.6515336, \"EndTime\": 1627319532.65155, \"Dimensions\": {\"Algorithm\": \"Linear Learner\", \"Host\": \"algo-1\", \"Operation\": \"training\", \"epoch\": 1, \"model\": 13}, \"Metrics\": {\"train_absolute_loss_objective\": {\"sum\": 0.36096402645111086, \"count\": 1, \"min\": 0.36096402645111086, \"max\": 0.36096402645111086}}}\n",
      "\u001b[0m\n",
      "\u001b[34m#metrics {\"StartTime\": 1627319532.651598, \"EndTime\": 1627319532.6516132, \"Dimensions\": {\"Algorithm\": \"Linear Learner\", \"Host\": \"algo-1\", \"Operation\": \"training\", \"epoch\": 1, \"model\": 14}, \"Metrics\": {\"train_absolute_loss_objective\": {\"sum\": 0.3393456220626831, \"count\": 1, \"min\": 0.3393456220626831, \"max\": 0.3393456220626831}}}\n",
      "\u001b[0m\n",
      "\u001b[34m#metrics {\"StartTime\": 1627319532.6516647, \"EndTime\": 1627319532.6516802, \"Dimensions\": {\"Algorithm\": \"Linear Learner\", \"Host\": \"algo-1\", \"Operation\": \"training\", \"epoch\": 1, \"model\": 15}, \"Metrics\": {\"train_absolute_loss_objective\": {\"sum\": 0.365867486000061, \"count\": 1, \"min\": 0.365867486000061, \"max\": 0.365867486000061}}}\n",
      "\u001b[0m\n",
      "\u001b[34m#metrics {\"StartTime\": 1627319532.65173, \"EndTime\": 1627319532.6517446, \"Dimensions\": {\"Algorithm\": \"Linear Learner\", \"Host\": \"algo-1\", \"Operation\": \"training\", \"epoch\": 1, \"model\": 16}, \"Metrics\": {\"train_absolute_loss_objective\": {\"sum\": 0.8423453140258789, \"count\": 1, \"min\": 0.8423453140258789, \"max\": 0.8423453140258789}}}\n",
      "\u001b[0m\n",
      "\u001b[34m#metrics {\"StartTime\": 1627319532.6517968, \"EndTime\": 1627319532.6518123, \"Dimensions\": {\"Algorithm\": \"Linear Learner\", \"Host\": \"algo-1\", \"Operation\": \"training\", \"epoch\": 1, \"model\": 17}, \"Metrics\": {\"train_absolute_loss_objective\": {\"sum\": 0.8940935516357422, \"count\": 1, \"min\": 0.8940935516357422, \"max\": 0.8940935516357422}}}\n",
      "\u001b[0m\n",
      "\u001b[34m#metrics {\"StartTime\": 1627319532.6518707, \"EndTime\": 1627319532.651887, \"Dimensions\": {\"Algorithm\": \"Linear Learner\", \"Host\": \"algo-1\", \"Operation\": \"training\", \"epoch\": 1, \"model\": 18}, \"Metrics\": {\"train_absolute_loss_objective\": {\"sum\": 0.8696713638305664, \"count\": 1, \"min\": 0.8696713638305664, \"max\": 0.8696713638305664}}}\n",
      "\u001b[0m\n",
      "\u001b[34m#metrics {\"StartTime\": 1627319532.651938, \"EndTime\": 1627319532.651954, \"Dimensions\": {\"Algorithm\": \"Linear Learner\", \"Host\": \"algo-1\", \"Operation\": \"training\", \"epoch\": 1, \"model\": 19}, \"Metrics\": {\"train_absolute_loss_objective\": {\"sum\": 0.8669433689117432, \"count\": 1, \"min\": 0.8669433689117432, \"max\": 0.8669433689117432}}}\n",
      "\u001b[0m\n",
      "\u001b[34m#metrics {\"StartTime\": 1627319532.652, \"EndTime\": 1627319532.6520135, \"Dimensions\": {\"Algorithm\": \"Linear Learner\", \"Host\": \"algo-1\", \"Operation\": \"training\", \"epoch\": 1, \"model\": 20}, \"Metrics\": {\"train_absolute_loss_objective\": {\"sum\": 0.40719192028045653, \"count\": 1, \"min\": 0.40719192028045653, \"max\": 0.40719192028045653}}}\n",
      "\u001b[0m\n",
      "\u001b[34m#metrics {\"StartTime\": 1627319532.652069, \"EndTime\": 1627319532.6520855, \"Dimensions\": {\"Algorithm\": \"Linear Learner\", \"Host\": \"algo-1\", \"Operation\": \"training\", \"epoch\": 1, \"model\": 21}, \"Metrics\": {\"train_absolute_loss_objective\": {\"sum\": 0.4193851327896118, \"count\": 1, \"min\": 0.4193851327896118, \"max\": 0.4193851327896118}}}\n",
      "\u001b[0m\n",
      "\u001b[34m#metrics {\"StartTime\": 1627319532.6521356, \"EndTime\": 1627319532.6521509, \"Dimensions\": {\"Algorithm\": \"Linear Learner\", \"Host\": \"algo-1\", \"Operation\": \"training\", \"epoch\": 1, \"model\": 22}, \"Metrics\": {\"train_absolute_loss_objective\": {\"sum\": 0.36924769878387453, \"count\": 1, \"min\": 0.36924769878387453, \"max\": 0.36924769878387453}}}\n",
      "\u001b[0m\n",
      "\u001b[34m#metrics {\"StartTime\": 1627319532.6521976, \"EndTime\": 1627319532.652212, \"Dimensions\": {\"Algorithm\": \"Linear Learner\", \"Host\": \"algo-1\", \"Operation\": \"training\", \"epoch\": 1, \"model\": 23}, \"Metrics\": {\"train_absolute_loss_objective\": {\"sum\": 0.44062541007995604, \"count\": 1, \"min\": 0.44062541007995604, \"max\": 0.44062541007995604}}}\n",
      "\u001b[0m\n",
      "\u001b[34m#metrics {\"StartTime\": 1627319532.652266, \"EndTime\": 1627319532.6522803, \"Dimensions\": {\"Algorithm\": \"Linear Learner\", \"Host\": \"algo-1\", \"Operation\": \"training\", \"epoch\": 1, \"model\": 24}, \"Metrics\": {\"train_absolute_loss_objective\": {\"sum\": 0.8870134162902832, \"count\": 1, \"min\": 0.8870134162902832, \"max\": 0.8870134162902832}}}\n",
      "\u001b[0m\n",
      "\u001b[34m#metrics {\"StartTime\": 1627319532.6523302, \"EndTime\": 1627319532.6523468, \"Dimensions\": {\"Algorithm\": \"Linear Learner\", \"Host\": \"algo-1\", \"Operation\": \"training\", \"epoch\": 1, \"model\": 25}, \"Metrics\": {\"train_absolute_loss_objective\": {\"sum\": 0.9140034675598144, \"count\": 1, \"min\": 0.9140034675598144, \"max\": 0.9140034675598144}}}\n",
      "\u001b[0m\n",
      "\u001b[34m#metrics {\"StartTime\": 1627319532.6523943, \"EndTime\": 1627319532.652408, \"Dimensions\": {\"Algorithm\": \"Linear Learner\", \"Host\": \"algo-1\", \"Operation\": \"training\", \"epoch\": 1, \"model\": 26}, \"Metrics\": {\"train_absolute_loss_objective\": {\"sum\": 0.9031820106506347, \"count\": 1, \"min\": 0.9031820106506347, \"max\": 0.9031820106506347}}}\n",
      "\u001b[0m\n",
      "\u001b[34m#metrics {\"StartTime\": 1627319532.6524482, \"EndTime\": 1627319532.6524606, \"Dimensions\": {\"Algorithm\": \"Linear Learner\", \"Host\": \"algo-1\", \"Operation\": \"training\", \"epoch\": 1, \"model\": 27}, \"Metrics\": {\"train_absolute_loss_objective\": {\"sum\": 0.9024260330200196, \"count\": 1, \"min\": 0.9024260330200196, \"max\": 0.9024260330200196}}}\n",
      "\u001b[0m\n",
      "\u001b[34m#metrics {\"StartTime\": 1627319532.65251, \"EndTime\": 1627319532.6525238, \"Dimensions\": {\"Algorithm\": \"Linear Learner\", \"Host\": \"algo-1\", \"Operation\": \"training\", \"epoch\": 1, \"model\": 28}, \"Metrics\": {\"train_absolute_loss_objective\": {\"sum\": 0.9766716766357422, \"count\": 1, \"min\": 0.9766716766357422, \"max\": 0.9766716766357422}}}\n",
      "\u001b[0m\n",
      "\u001b[34m#metrics {\"StartTime\": 1627319532.6525757, \"EndTime\": 1627319532.6525903, \"Dimensions\": {\"Algorithm\": \"Linear Learner\", \"Host\": \"algo-1\", \"Operation\": \"training\", \"epoch\": 1, \"model\": 29}, \"Metrics\": {\"train_absolute_loss_objective\": {\"sum\": 0.9760753059387207, \"count\": 1, \"min\": 0.9760753059387207, \"max\": 0.9760753059387207}}}\n",
      "\u001b[0m\n",
      "\u001b[34m#metrics {\"StartTime\": 1627319532.6526427, \"EndTime\": 1627319532.6526573, \"Dimensions\": {\"Algorithm\": \"Linear Learner\", \"Host\": \"algo-1\", \"Operation\": \"training\", \"epoch\": 1, \"model\": 30}, \"Metrics\": {\"train_absolute_loss_objective\": {\"sum\": 1.0317387294769287, \"count\": 1, \"min\": 1.0317387294769287, \"max\": 1.0317387294769287}}}\n",
      "\u001b[0m\n",
      "\u001b[34m#metrics {\"StartTime\": 1627319532.6527019, \"EndTime\": 1627319532.6527166, \"Dimensions\": {\"Algorithm\": \"Linear Learner\", \"Host\": \"algo-1\", \"Operation\": \"training\", \"epoch\": 1, \"model\": 31}, \"Metrics\": {\"train_absolute_loss_objective\": {\"sum\": 0.9688079071044922, \"count\": 1, \"min\": 0.9688079071044922, \"max\": 0.9688079071044922}}}\n",
      "\u001b[0m\n",
      "\u001b[34m[07/26/2021 17:12:12 INFO 139733705852736] #quality_metric: host=algo-1, epoch=1, train absolute_loss_objective <loss>=0.8787602519989014\u001b[0m\n",
      "\u001b[34m[07/26/2021 17:12:12 INFO 139733705852736] #early_stopping_criteria_metric: host=algo-1, epoch=1, criteria=absolute_loss_objective, value=0.3334731674194336\u001b[0m\n",
      "\u001b[34m[07/26/2021 17:12:12 INFO 139733705852736] Epoch 1: Loss improved. Updating best model\u001b[0m\n",
      "\u001b[34m[07/26/2021 17:12:12 INFO 139733705852736] Saving model for epoch: 1\u001b[0m\n",
      "\u001b[34m[07/26/2021 17:12:12 INFO 139733705852736] Saved checkpoint to \"/tmp/tmpmwf5i3h8/mx-mod-0000.params\"\u001b[0m\n",
      "\u001b[34m[07/26/2021 17:12:12 INFO 139733705852736] #progress_metric: host=algo-1, completed 40.0 % of epochs\u001b[0m\n",
      "\u001b[34m#metrics {\"StartTime\": 1627319532.5422885, \"EndTime\": 1627319532.6658475, \"Dimensions\": {\"Algorithm\": \"Linear Learner\", \"Host\": \"algo-1\", \"Operation\": \"training\", \"epoch\": 1, \"Meta\": \"training_data_iter\"}, \"Metrics\": {\"Total Records Seen\": {\"sum\": 83.0, \"count\": 1, \"min\": 83, \"max\": 83}, \"Total Batches Seen\": {\"sum\": 19.0, \"count\": 1, \"min\": 19, \"max\": 19}, \"Max Records Seen Between Resets\": {\"sum\": 26.0, \"count\": 1, \"min\": 26, \"max\": 26}, \"Max Batches Seen Between Resets\": {\"sum\": 6.0, \"count\": 1, \"min\": 6, \"max\": 6}, \"Reset Count\": {\"sum\": 4.0, \"count\": 1, \"min\": 4, \"max\": 4}, \"Number of Records Since Last Reset\": {\"sum\": 26.0, \"count\": 1, \"min\": 26, \"max\": 26}, \"Number of Batches Since Last Reset\": {\"sum\": 6.0, \"count\": 1, \"min\": 6, \"max\": 6}}}\n",
      "\u001b[0m\n",
      "\u001b[34m[07/26/2021 17:12:12 INFO 139733705852736] #throughput_metric: host=algo-1, train throughput=210.19055402217322 records/second\u001b[0m\n",
      "\u001b[34m[2021-07-26 17:12:12.779] [tensorio] [info] epoch_stats={\"data_pipeline\": \"/opt/ml/input/data/train\", \"epoch\": 8, \"duration\": 113, \"num_examples\": 6, \"num_bytes\": 1248}\u001b[0m\n",
      "\u001b[34m#metrics {\"StartTime\": 1627319532.779934, \"EndTime\": 1627319532.7800064, \"Dimensions\": {\"Algorithm\": \"Linear Learner\", \"Host\": \"algo-1\", \"Operation\": \"training\", \"epoch\": 2, \"model\": 0}, \"Metrics\": {\"train_absolute_loss_objective\": {\"sum\": 0.8557878398895263, \"count\": 1, \"min\": 0.8557878398895263, \"max\": 0.8557878398895263}}}\n",
      "\u001b[0m\n",
      "\u001b[34m#metrics {\"StartTime\": 1627319532.7800953, \"EndTime\": 1627319532.7801151, \"Dimensions\": {\"Algorithm\": \"Linear Learner\", \"Host\": \"algo-1\", \"Operation\": \"training\", \"epoch\": 2, \"model\": 1}, \"Metrics\": {\"train_absolute_loss_objective\": {\"sum\": 0.8758075141906738, \"count\": 1, \"min\": 0.8758075141906738, \"max\": 0.8758075141906738}}}\n",
      "\u001b[0m\n",
      "\u001b[34m#metrics {\"StartTime\": 1627319532.7801812, \"EndTime\": 1627319532.780199, \"Dimensions\": {\"Algorithm\": \"Linear Learner\", \"Host\": \"algo-1\", \"Operation\": \"training\", \"epoch\": 2, \"model\": 2}, \"Metrics\": {\"train_absolute_loss_objective\": {\"sum\": 0.8582223701477051, \"count\": 1, \"min\": 0.8582223701477051, \"max\": 0.8582223701477051}}}\n",
      "\u001b[0m\n",
      "\u001b[34m#metrics {\"StartTime\": 1627319532.780255, \"EndTime\": 1627319532.7802722, \"Dimensions\": {\"Algorithm\": \"Linear Learner\", \"Host\": \"algo-1\", \"Operation\": \"training\", \"epoch\": 2, \"model\": 3}, \"Metrics\": {\"train_absolute_loss_objective\": {\"sum\": 0.8747804641723633, \"count\": 1, \"min\": 0.8747804641723633, \"max\": 0.8747804641723633}}}\n",
      "\u001b[0m\n",
      "\u001b[34m#metrics {\"StartTime\": 1627319532.7803326, \"EndTime\": 1627319532.78035, \"Dimensions\": {\"Algorithm\": \"Linear Learner\", \"Host\": \"algo-1\", \"Operation\": \"training\", \"epoch\": 2, \"model\": 4}, \"Metrics\": {\"train_absolute_loss_objective\": {\"sum\": 0.2307751441001892, \"count\": 1, \"min\": 0.2307751441001892, \"max\": 0.2307751441001892}}}\n",
      "\u001b[0m\n",
      "\u001b[34m#metrics {\"StartTime\": 1627319532.7804008, \"EndTime\": 1627319532.780417, \"Dimensions\": {\"Algorithm\": \"Linear Learner\", \"Host\": \"algo-1\", \"Operation\": \"training\", \"epoch\": 2, \"model\": 5}, \"Metrics\": {\"train_absolute_loss_objective\": {\"sum\": 0.22610701322555543, \"count\": 1, \"min\": 0.22610701322555543, \"max\": 0.22610701322555543}}}\n",
      "\u001b[0m\n",
      "\u001b[34m#metrics {\"StartTime\": 1627319532.780466, \"EndTime\": 1627319532.7804797, \"Dimensions\": {\"Algorithm\": \"Linear Learner\", \"Host\": \"algo-1\", \"Operation\": \"training\", \"epoch\": 2, \"model\": 6}, \"Metrics\": {\"train_absolute_loss_objective\": {\"sum\": 0.2244215178489685, \"count\": 1, \"min\": 0.2244215178489685, \"max\": 0.2244215178489685}}}\n",
      "\u001b[0m\n",
      "\u001b[34m#metrics {\"StartTime\": 1627319532.7805316, \"EndTime\": 1627319532.7805479, \"Dimensions\": {\"Algorithm\": \"Linear Learner\", \"Host\": \"algo-1\", \"Operation\": \"training\", \"epoch\": 2, \"model\": 7}, \"Metrics\": {\"train_absolute_loss_objective\": {\"sum\": 0.2227797245979309, \"count\": 1, \"min\": 0.2227797245979309, \"max\": 0.2227797245979309}}}\n",
      "\u001b[0m\n",
      "\u001b[34m#metrics {\"StartTime\": 1627319532.780596, \"EndTime\": 1627319532.780612, \"Dimensions\": {\"Algorithm\": \"Linear Learner\", \"Host\": \"algo-1\", \"Operation\": \"training\", \"epoch\": 2, \"model\": 8}, \"Metrics\": {\"train_absolute_loss_objective\": {\"sum\": 0.9122178363800049, \"count\": 1, \"min\": 0.9122178363800049, \"max\": 0.9122178363800049}}}\n",
      "\u001b[0m\n",
      "\u001b[34m#metrics {\"StartTime\": 1627319532.7806613, \"EndTime\": 1627319532.7806773, \"Dimensions\": {\"Algorithm\": \"Linear Learner\", \"Host\": \"algo-1\", \"Operation\": \"training\", \"epoch\": 2, \"model\": 9}, \"Metrics\": {\"train_absolute_loss_objective\": {\"sum\": 0.8435677719116211, \"count\": 1, \"min\": 0.8435677719116211, \"max\": 0.8435677719116211}}}\n",
      "\u001b[0m\n",
      "\u001b[34m#metrics {\"StartTime\": 1627319532.780725, \"EndTime\": 1627319532.7807403, \"Dimensions\": {\"Algorithm\": \"Linear Learner\", \"Host\": \"algo-1\", \"Operation\": \"training\", \"epoch\": 2, \"model\": 10}, \"Metrics\": {\"train_absolute_loss_objective\": {\"sum\": 0.8504078483581543, \"count\": 1, \"min\": 0.8504078483581543, \"max\": 0.8504078483581543}}}\n",
      "\u001b[0m\n",
      "\u001b[34m#metrics {\"StartTime\": 1627319532.7807887, \"EndTime\": 1627319532.7808046, \"Dimensions\": {\"Algorithm\": \"Linear Learner\", \"Host\": \"algo-1\", \"Operation\": \"training\", \"epoch\": 2, \"model\": 11}, \"Metrics\": {\"train_absolute_loss_objective\": {\"sum\": 0.8353767108917236, \"count\": 1, \"min\": 0.8353767108917236, \"max\": 0.8353767108917236}}}\n",
      "\u001b[0m\n",
      "\u001b[34m#metrics {\"StartTime\": 1627319532.7808533, \"EndTime\": 1627319532.7808678, \"Dimensions\": {\"Algorithm\": \"Linear Learner\", \"Host\": \"algo-1\", \"Operation\": \"training\", \"epoch\": 2, \"model\": 12}, \"Metrics\": {\"train_absolute_loss_objective\": {\"sum\": 0.2244547700881958, \"count\": 1, \"min\": 0.2244547700881958, \"max\": 0.2244547700881958}}}\n",
      "\u001b[0m\n",
      "\u001b[34m#metrics {\"StartTime\": 1627319532.7809162, \"EndTime\": 1627319532.7809315, \"Dimensions\": {\"Algorithm\": \"Linear Learner\", \"Host\": \"algo-1\", \"Operation\": \"training\", \"epoch\": 2, \"model\": 13}, \"Metrics\": {\"train_absolute_loss_objective\": {\"sum\": 0.2296970510482788, \"count\": 1, \"min\": 0.2296970510482788, \"max\": 0.2296970510482788}}}\n",
      "\u001b[0m\n",
      "\u001b[34m#metrics {\"StartTime\": 1627319532.781017, \"EndTime\": 1627319532.7810345, \"Dimensions\": {\"Algorithm\": \"Linear Learner\", \"Host\": \"algo-1\", \"Operation\": \"training\", \"epoch\": 2, \"model\": 14}, \"Metrics\": {\"train_absolute_loss_objective\": {\"sum\": 0.22535941362380982, \"count\": 1, \"min\": 0.22535941362380982, \"max\": 0.22535941362380982}}}\n",
      "\u001b[0m\n",
      "\u001b[34m#metrics {\"StartTime\": 1627319532.7810938, \"EndTime\": 1627319532.7811117, \"Dimensions\": {\"Algorithm\": \"Linear Learner\", \"Host\": \"algo-1\", \"Operation\": \"training\", \"epoch\": 2, \"model\": 15}, \"Metrics\": {\"train_absolute_loss_objective\": {\"sum\": 0.22785578012466431, \"count\": 1, \"min\": 0.22785578012466431, \"max\": 0.22785578012466431}}}\n",
      "\u001b[0m\n",
      "\u001b[34m#metrics {\"StartTime\": 1627319532.781172, \"EndTime\": 1627319532.7811882, \"Dimensions\": {\"Algorithm\": \"Linear Learner\", \"Host\": \"algo-1\", \"Operation\": \"training\", \"epoch\": 2, \"model\": 16}, \"Metrics\": {\"train_absolute_loss_objective\": {\"sum\": 0.819527473449707, \"count\": 1, \"min\": 0.819527473449707, \"max\": 0.819527473449707}}}\n",
      "\u001b[0m\n",
      "\u001b[34m#metrics {\"StartTime\": 1627319532.781238, \"EndTime\": 1627319532.7812538, \"Dimensions\": {\"Algorithm\": \"Linear Learner\", \"Host\": \"algo-1\", \"Operation\": \"training\", \"epoch\": 2, \"model\": 17}, \"Metrics\": {\"train_absolute_loss_objective\": {\"sum\": 0.8711633396148681, \"count\": 1, \"min\": 0.8711633396148681, \"max\": 0.8711633396148681}}}\n",
      "\u001b[0m\n",
      "\u001b[34m#metrics {\"StartTime\": 1627319532.7813134, \"EndTime\": 1627319532.78133, \"Dimensions\": {\"Algorithm\": \"Linear Learner\", \"Host\": \"algo-1\", \"Operation\": \"training\", \"epoch\": 2, \"model\": 18}, \"Metrics\": {\"train_absolute_loss_objective\": {\"sum\": 0.8468341159820557, \"count\": 1, \"min\": 0.8468341159820557, \"max\": 0.8468341159820557}}}\n",
      "\u001b[0m\n",
      "\u001b[34m#metrics {\"StartTime\": 1627319532.7813792, \"EndTime\": 1627319532.7813945, \"Dimensions\": {\"Algorithm\": \"Linear Learner\", \"Host\": \"algo-1\", \"Operation\": \"training\", \"epoch\": 2, \"model\": 19}, \"Metrics\": {\"train_absolute_loss_objective\": {\"sum\": 0.844030876159668, \"count\": 1, \"min\": 0.844030876159668, \"max\": 0.844030876159668}}}\n",
      "\u001b[0m\n",
      "\u001b[34m#metrics {\"StartTime\": 1627319532.7814503, \"EndTime\": 1627319532.7814665, \"Dimensions\": {\"Algorithm\": \"Linear Learner\", \"Host\": \"algo-1\", \"Operation\": \"training\", \"epoch\": 2, \"model\": 20}, \"Metrics\": {\"train_absolute_loss_objective\": {\"sum\": 0.26402831077575684, \"count\": 1, \"min\": 0.26402831077575684, \"max\": 0.26402831077575684}}}\n",
      "\u001b[0m\n",
      "\u001b[34m#metrics {\"StartTime\": 1627319532.7815275, \"EndTime\": 1627319532.7815444, \"Dimensions\": {\"Algorithm\": \"Linear Learner\", \"Host\": \"algo-1\", \"Operation\": \"training\", \"epoch\": 2, \"model\": 21}, \"Metrics\": {\"train_absolute_loss_objective\": {\"sum\": 0.268181676864624, \"count\": 1, \"min\": 0.268181676864624, \"max\": 0.268181676864624}}}\n",
      "\u001b[0m\n",
      "\u001b[34m#metrics {\"StartTime\": 1627319532.7816038, \"EndTime\": 1627319532.7816195, \"Dimensions\": {\"Algorithm\": \"Linear Learner\", \"Host\": \"algo-1\", \"Operation\": \"training\", \"epoch\": 2, \"model\": 22}, \"Metrics\": {\"train_absolute_loss_objective\": {\"sum\": 0.2838846945762634, \"count\": 1, \"min\": 0.2838846945762634, \"max\": 0.2838846945762634}}}\n",
      "\u001b[0m\n",
      "\u001b[34m#metrics {\"StartTime\": 1627319532.7816684, \"EndTime\": 1627319532.781684, \"Dimensions\": {\"Algorithm\": \"Linear Learner\", \"Host\": \"algo-1\", \"Operation\": \"training\", \"epoch\": 2, \"model\": 23}, \"Metrics\": {\"train_absolute_loss_objective\": {\"sum\": 0.2728085947036743, \"count\": 1, \"min\": 0.2728085947036743, \"max\": 0.2728085947036743}}}\n",
      "\u001b[0m\n",
      "\u001b[34m#metrics {\"StartTime\": 1627319532.7817428, \"EndTime\": 1627319532.7817593, \"Dimensions\": {\"Algorithm\": \"Linear Learner\", \"Host\": \"algo-1\", \"Operation\": \"training\", \"epoch\": 2, \"model\": 24}, \"Metrics\": {\"train_absolute_loss_objective\": {\"sum\": 0.9032280540466309, \"count\": 1, \"min\": 0.9032280540466309, \"max\": 0.9032280540466309}}}\n",
      "\u001b[0m\n",
      "\u001b[34m#metrics {\"StartTime\": 1627319532.7818089, \"EndTime\": 1627319532.7818244, \"Dimensions\": {\"Algorithm\": \"Linear Learner\", \"Host\": \"algo-1\", \"Operation\": \"training\", \"epoch\": 2, \"model\": 25}, \"Metrics\": {\"train_absolute_loss_objective\": {\"sum\": 0.898495683670044, \"count\": 1, \"min\": 0.898495683670044, \"max\": 0.898495683670044}}}\n",
      "\u001b[0m\n",
      "\u001b[34m#metrics {\"StartTime\": 1627319532.7818754, \"EndTime\": 1627319532.781891, \"Dimensions\": {\"Algorithm\": \"Linear Learner\", \"Host\": \"algo-1\", \"Operation\": \"training\", \"epoch\": 2, \"model\": 26}, \"Metrics\": {\"train_absolute_loss_objective\": {\"sum\": 0.89726243019104, \"count\": 1, \"min\": 0.89726243019104, \"max\": 0.89726243019104}}}\n",
      "\u001b[0m\n",
      "\u001b[34m#metrics {\"StartTime\": 1627319532.7819426, \"EndTime\": 1627319532.7819574, \"Dimensions\": {\"Algorithm\": \"Linear Learner\", \"Host\": \"algo-1\", \"Operation\": \"training\", \"epoch\": 2, \"model\": 27}, \"Metrics\": {\"train_absolute_loss_objective\": {\"sum\": 0.9070722007751465, \"count\": 1, \"min\": 0.9070722007751465, \"max\": 0.9070722007751465}}}\n",
      "\u001b[0m\n",
      "\u001b[34m#metrics {\"StartTime\": 1627319532.7820046, \"EndTime\": 1627319532.7820187, \"Dimensions\": {\"Algorithm\": \"Linear Learner\", \"Host\": \"algo-1\", \"Operation\": \"training\", \"epoch\": 2, \"model\": 28}, \"Metrics\": {\"train_absolute_loss_objective\": {\"sum\": 0.9712049865722656, \"count\": 1, \"min\": 0.9712049865722656, \"max\": 0.9712049865722656}}}\n",
      "\u001b[0m\n",
      "\u001b[34m#metrics {\"StartTime\": 1627319532.7820613, \"EndTime\": 1627319532.782074, \"Dimensions\": {\"Algorithm\": \"Linear Learner\", \"Host\": \"algo-1\", \"Operation\": \"training\", \"epoch\": 2, \"model\": 29}, \"Metrics\": {\"train_absolute_loss_objective\": {\"sum\": 0.9723778820037842, \"count\": 1, \"min\": 0.9723778820037842, \"max\": 0.9723778820037842}}}\n",
      "\u001b[0m\n",
      "\u001b[34m#metrics {\"StartTime\": 1627319532.782118, \"EndTime\": 1627319532.7821326, \"Dimensions\": {\"Algorithm\": \"Linear Learner\", \"Host\": \"algo-1\", \"Operation\": \"training\", \"epoch\": 2, \"model\": 30}, \"Metrics\": {\"train_absolute_loss_objective\": {\"sum\": 0.9227527999877929, \"count\": 1, \"min\": 0.9227527999877929, \"max\": 0.9227527999877929}}}\n",
      "\u001b[0m\n",
      "\u001b[34m#metrics {\"StartTime\": 1627319532.7821915, \"EndTime\": 1627319532.7822087, \"Dimensions\": {\"Algorithm\": \"Linear Learner\", \"Host\": \"algo-1\", \"Operation\": \"training\", \"epoch\": 2, \"model\": 31}, \"Metrics\": {\"train_absolute_loss_objective\": {\"sum\": 0.994349536895752, \"count\": 1, \"min\": 0.994349536895752, \"max\": 0.994349536895752}}}\n",
      "\u001b[0m\n",
      "\u001b[34m[07/26/2021 17:12:12 INFO 139733705852736] #quality_metric: host=algo-1, epoch=2, train absolute_loss_objective <loss>=0.8557878398895263\u001b[0m\n",
      "\u001b[34m[07/26/2021 17:12:12 INFO 139733705852736] #early_stopping_criteria_metric: host=algo-1, epoch=2, criteria=absolute_loss_objective, value=0.2227797245979309\u001b[0m\n",
      "\u001b[34m[07/26/2021 17:12:12 INFO 139733705852736] Epoch 2: Loss improved. Updating best model\u001b[0m\n",
      "\u001b[34m[07/26/2021 17:12:12 INFO 139733705852736] Saving model for epoch: 2\u001b[0m\n",
      "\u001b[34m[07/26/2021 17:12:12 INFO 139733705852736] Saved checkpoint to \"/tmp/tmp2_8jbeze/mx-mod-0000.params\"\u001b[0m\n",
      "\u001b[34m[07/26/2021 17:12:12 INFO 139733705852736] #progress_metric: host=algo-1, completed 60.0 % of epochs\u001b[0m\n",
      "\u001b[34m#metrics {\"StartTime\": 1627319532.666127, \"EndTime\": 1627319532.7939456, \"Dimensions\": {\"Algorithm\": \"Linear Learner\", \"Host\": \"algo-1\", \"Operation\": \"training\", \"epoch\": 2, \"Meta\": \"training_data_iter\"}, \"Metrics\": {\"Total Records Seen\": {\"sum\": 109.0, \"count\": 1, \"min\": 109, \"max\": 109}, \"Total Batches Seen\": {\"sum\": 25.0, \"count\": 1, \"min\": 25, \"max\": 25}, \"Max Records Seen Between Resets\": {\"sum\": 26.0, \"count\": 1, \"min\": 26, \"max\": 26}, \"Max Batches Seen Between Resets\": {\"sum\": 6.0, \"count\": 1, \"min\": 6, \"max\": 6}, \"Reset Count\": {\"sum\": 5.0, \"count\": 1, \"min\": 5, \"max\": 5}, \"Number of Records Since Last Reset\": {\"sum\": 26.0, \"count\": 1, \"min\": 26, \"max\": 26}, \"Number of Batches Since Last Reset\": {\"sum\": 6.0, \"count\": 1, \"min\": 6, \"max\": 6}}}\n",
      "\u001b[0m\n",
      "\u001b[34m[07/26/2021 17:12:12 INFO 139733705852736] #throughput_metric: host=algo-1, train throughput=203.20785909677033 records/second\u001b[0m\n",
      "\u001b[34m[2021-07-26 17:12:12.912] [tensorio] [info] epoch_stats={\"data_pipeline\": \"/opt/ml/input/data/train\", \"epoch\": 10, \"duration\": 117, \"num_examples\": 6, \"num_bytes\": 1248}\u001b[0m\n",
      "\u001b[34m#metrics {\"StartTime\": 1627319532.9124172, \"EndTime\": 1627319532.9124982, \"Dimensions\": {\"Algorithm\": \"Linear Learner\", \"Host\": \"algo-1\", \"Operation\": \"training\", \"epoch\": 3, \"model\": 0}, \"Metrics\": {\"train_absolute_loss_objective\": {\"sum\": 0.8331165313720703, \"count\": 1, \"min\": 0.8331165313720703, \"max\": 0.8331165313720703}}}\n",
      "\u001b[0m\n",
      "\u001b[34m#metrics {\"StartTime\": 1627319532.9125817, \"EndTime\": 1627319532.912601, \"Dimensions\": {\"Algorithm\": \"Linear Learner\", \"Host\": \"algo-1\", \"Operation\": \"training\", \"epoch\": 3, \"model\": 1}, \"Metrics\": {\"train_absolute_loss_objective\": {\"sum\": 0.8529072380065919, \"count\": 1, \"min\": 0.8529072380065919, \"max\": 0.8529072380065919}}}\n",
      "\u001b[0m\n",
      "\u001b[34m#metrics {\"StartTime\": 1627319532.9126523, \"EndTime\": 1627319532.912667, \"Dimensions\": {\"Algorithm\": \"Linear Learner\", \"Host\": \"algo-1\", \"Operation\": \"training\", \"epoch\": 3, \"model\": 2}, \"Metrics\": {\"train_absolute_loss_objective\": {\"sum\": 0.8355510902404785, \"count\": 1, \"min\": 0.8355510902404785, \"max\": 0.8355510902404785}}}\n",
      "\u001b[0m\n",
      "\u001b[34m#metrics {\"StartTime\": 1627319532.9127138, \"EndTime\": 1627319532.9127297, \"Dimensions\": {\"Algorithm\": \"Linear Learner\", \"Host\": \"algo-1\", \"Operation\": \"training\", \"epoch\": 3, \"model\": 3}, \"Metrics\": {\"train_absolute_loss_objective\": {\"sum\": 0.8518801689147949, \"count\": 1, \"min\": 0.8518801689147949, \"max\": 0.8518801689147949}}}\n",
      "\u001b[0m\n",
      "\u001b[34m#metrics {\"StartTime\": 1627319532.91278, \"EndTime\": 1627319532.9127946, \"Dimensions\": {\"Algorithm\": \"Linear Learner\", \"Host\": \"algo-1\", \"Operation\": \"training\", \"epoch\": 3, \"model\": 4}, \"Metrics\": {\"train_absolute_loss_objective\": {\"sum\": 0.2680152273178101, \"count\": 1, \"min\": 0.2680152273178101, \"max\": 0.2680152273178101}}}\n",
      "\u001b[0m\n",
      "\u001b[34m#metrics {\"StartTime\": 1627319532.9128828, \"EndTime\": 1627319532.9129004, \"Dimensions\": {\"Algorithm\": \"Linear Learner\", \"Host\": \"algo-1\", \"Operation\": \"training\", \"epoch\": 3, \"model\": 5}, \"Metrics\": {\"train_absolute_loss_objective\": {\"sum\": 0.2649799585342407, \"count\": 1, \"min\": 0.2649799585342407, \"max\": 0.2649799585342407}}}\n",
      "\u001b[0m\n",
      "\u001b[34m#metrics {\"StartTime\": 1627319532.912952, \"EndTime\": 1627319532.9129922, \"Dimensions\": {\"Algorithm\": \"Linear Learner\", \"Host\": \"algo-1\", \"Operation\": \"training\", \"epoch\": 3, \"model\": 6}, \"Metrics\": {\"train_absolute_loss_objective\": {\"sum\": 0.3059003162384033, \"count\": 1, \"min\": 0.3059003162384033, \"max\": 0.3059003162384033}}}\n",
      "\u001b[0m\n",
      "\u001b[34m#metrics {\"StartTime\": 1627319532.9130435, \"EndTime\": 1627319532.913059, \"Dimensions\": {\"Algorithm\": \"Linear Learner\", \"Host\": \"algo-1\", \"Operation\": \"training\", \"epoch\": 3, \"model\": 7}, \"Metrics\": {\"train_absolute_loss_objective\": {\"sum\": 0.3382271695137024, \"count\": 1, \"min\": 0.3382271695137024, \"max\": 0.3382271695137024}}}\n",
      "\u001b[0m\n",
      "\u001b[34m#metrics {\"StartTime\": 1627319532.9131098, \"EndTime\": 1627319532.9131267, \"Dimensions\": {\"Algorithm\": \"Linear Learner\", \"Host\": \"algo-1\", \"Operation\": \"training\", \"epoch\": 3, \"model\": 8}, \"Metrics\": {\"train_absolute_loss_objective\": {\"sum\": 0.8895487308502197, \"count\": 1, \"min\": 0.8895487308502197, \"max\": 0.8895487308502197}}}\n",
      "\u001b[0m\n",
      "\u001b[34m#metrics {\"StartTime\": 1627319532.9131765, \"EndTime\": 1627319532.9131932, \"Dimensions\": {\"Algorithm\": \"Linear Learner\", \"Host\": \"algo-1\", \"Operation\": \"training\", \"epoch\": 3, \"model\": 9}, \"Metrics\": {\"train_absolute_loss_objective\": {\"sum\": 0.8206700229644776, \"count\": 1, \"min\": 0.8206700229644776, \"max\": 0.8206700229644776}}}\n",
      "\u001b[0m\n",
      "\u001b[34m#metrics {\"StartTime\": 1627319532.913243, \"EndTime\": 1627319532.9132574, \"Dimensions\": {\"Algorithm\": \"Linear Learner\", \"Host\": \"algo-1\", \"Operation\": \"training\", \"epoch\": 3, \"model\": 10}, \"Metrics\": {\"train_absolute_loss_objective\": {\"sum\": 0.8277390480041504, \"count\": 1, \"min\": 0.8277390480041504, \"max\": 0.8277390480041504}}}\n",
      "\u001b[0m\n",
      "\u001b[34m#metrics {\"StartTime\": 1627319532.9133067, \"EndTime\": 1627319532.9133222, \"Dimensions\": {\"Algorithm\": \"Linear Learner\", \"Host\": \"algo-1\", \"Operation\": \"training\", \"epoch\": 3, \"model\": 11}, \"Metrics\": {\"train_absolute_loss_objective\": {\"sum\": 0.8124790287017822, \"count\": 1, \"min\": 0.8124790287017822, \"max\": 0.8124790287017822}}}\n",
      "\u001b[0m\n",
      "\u001b[34m#metrics {\"StartTime\": 1627319532.9133716, \"EndTime\": 1627319532.9133868, \"Dimensions\": {\"Algorithm\": \"Linear Learner\", \"Host\": \"algo-1\", \"Operation\": \"training\", \"epoch\": 3, \"model\": 12}, \"Metrics\": {\"train_absolute_loss_objective\": {\"sum\": 0.26108015298843384, \"count\": 1, \"min\": 0.26108015298843384, \"max\": 0.26108015298843384}}}\n",
      "\u001b[0m\n",
      "\u001b[34m#metrics {\"StartTime\": 1627319532.9134326, \"EndTime\": 1627319532.9134471, \"Dimensions\": {\"Algorithm\": \"Linear Learner\", \"Host\": \"algo-1\", \"Operation\": \"training\", \"epoch\": 3, \"model\": 13}, \"Metrics\": {\"train_absolute_loss_objective\": {\"sum\": 0.3276121950149536, \"count\": 1, \"min\": 0.3276121950149536, \"max\": 0.3276121950149536}}}\n",
      "\u001b[0m\n",
      "\u001b[34m#metrics {\"StartTime\": 1627319532.91349, \"EndTime\": 1627319532.9135048, \"Dimensions\": {\"Algorithm\": \"Linear Learner\", \"Host\": \"algo-1\", \"Operation\": \"training\", \"epoch\": 3, \"model\": 14}, \"Metrics\": {\"train_absolute_loss_objective\": {\"sum\": 0.26177568674087526, \"count\": 1, \"min\": 0.26177568674087526, \"max\": 0.26177568674087526}}}\n",
      "\u001b[0m\n",
      "\u001b[34m#metrics {\"StartTime\": 1627319532.9135535, \"EndTime\": 1627319532.9135697, \"Dimensions\": {\"Algorithm\": \"Linear Learner\", \"Host\": \"algo-1\", \"Operation\": \"training\", \"epoch\": 3, \"model\": 15}, \"Metrics\": {\"train_absolute_loss_objective\": {\"sum\": 0.34941232204437256, \"count\": 1, \"min\": 0.34941232204437256, \"max\": 0.34941232204437256}}}\n",
      "\u001b[0m\n",
      "\u001b[34m#metrics {\"StartTime\": 1627319532.9136193, \"EndTime\": 1627319532.913635, \"Dimensions\": {\"Algorithm\": \"Linear Learner\", \"Host\": \"algo-1\", \"Operation\": \"training\", \"epoch\": 3, \"model\": 16}, \"Metrics\": {\"train_absolute_loss_objective\": {\"sum\": 0.7971561813354492, \"count\": 1, \"min\": 0.7971561813354492, \"max\": 0.7971561813354492}}}\n",
      "\u001b[0m\n",
      "\u001b[34m#metrics {\"StartTime\": 1627319532.9136832, \"EndTime\": 1627319532.9136975, \"Dimensions\": {\"Algorithm\": \"Linear Learner\", \"Host\": \"algo-1\", \"Operation\": \"training\", \"epoch\": 3, \"model\": 17}, \"Metrics\": {\"train_absolute_loss_objective\": {\"sum\": 0.8485202693939209, \"count\": 1, \"min\": 0.8485202693939209, \"max\": 0.8485202693939209}}}\n",
      "\u001b[0m\n",
      "\u001b[34m#metrics {\"StartTime\": 1627319532.9137466, \"EndTime\": 1627319532.913762, \"Dimensions\": {\"Algorithm\": \"Linear Learner\", \"Host\": \"algo-1\", \"Operation\": \"training\", \"epoch\": 3, \"model\": 18}, \"Metrics\": {\"train_absolute_loss_objective\": {\"sum\": 0.82443754196167, \"count\": 1, \"min\": 0.82443754196167, \"max\": 0.82443754196167}}}\n",
      "\u001b[0m\n",
      "\u001b[34m#metrics {\"StartTime\": 1627319532.9138105, \"EndTime\": 1627319532.9138255, \"Dimensions\": {\"Algorithm\": \"Linear Learner\", \"Host\": \"algo-1\", \"Operation\": \"training\", \"epoch\": 3, \"model\": 19}, \"Metrics\": {\"train_absolute_loss_objective\": {\"sum\": 0.8214112377166748, \"count\": 1, \"min\": 0.8214112377166748, \"max\": 0.8214112377166748}}}\n",
      "\u001b[0m\n",
      "\u001b[34m#metrics {\"StartTime\": 1627319532.913874, \"EndTime\": 1627319532.9138877, \"Dimensions\": {\"Algorithm\": \"Linear Learner\", \"Host\": \"algo-1\", \"Operation\": \"training\", \"epoch\": 3, \"model\": 20}, \"Metrics\": {\"train_absolute_loss_objective\": {\"sum\": 0.266993465423584, \"count\": 1, \"min\": 0.266993465423584, \"max\": 0.266993465423584}}}\n",
      "\u001b[0m\n",
      "\u001b[34m#metrics {\"StartTime\": 1627319532.9139328, \"EndTime\": 1627319532.9139464, \"Dimensions\": {\"Algorithm\": \"Linear Learner\", \"Host\": \"algo-1\", \"Operation\": \"training\", \"epoch\": 3, \"model\": 21}, \"Metrics\": {\"train_absolute_loss_objective\": {\"sum\": 0.2647127866744995, \"count\": 1, \"min\": 0.2647127866744995, \"max\": 0.2647127866744995}}}\n",
      "\u001b[0m\n",
      "\u001b[34m#metrics {\"StartTime\": 1627319532.914009, \"EndTime\": 1627319532.9140253, \"Dimensions\": {\"Algorithm\": \"Linear Learner\", \"Host\": \"algo-1\", \"Operation\": \"training\", \"epoch\": 3, \"model\": 22}, \"Metrics\": {\"train_absolute_loss_objective\": {\"sum\": 0.3599742937088013, \"count\": 1, \"min\": 0.3599742937088013, \"max\": 0.3599742937088013}}}\n",
      "\u001b[0m\n",
      "\u001b[34m#metrics {\"StartTime\": 1627319532.9140751, \"EndTime\": 1627319532.9140906, \"Dimensions\": {\"Algorithm\": \"Linear Learner\", \"Host\": \"algo-1\", \"Operation\": \"training\", \"epoch\": 3, \"model\": 23}, \"Metrics\": {\"train_absolute_loss_objective\": {\"sum\": 0.2619294595718384, \"count\": 1, \"min\": 0.2619294595718384, \"max\": 0.2619294595718384}}}\n",
      "\u001b[0m\n",
      "\u001b[34m#metrics {\"StartTime\": 1627319532.914144, \"EndTime\": 1627319532.9141593, \"Dimensions\": {\"Algorithm\": \"Linear Learner\", \"Host\": \"algo-1\", \"Operation\": \"training\", \"epoch\": 3, \"model\": 24}, \"Metrics\": {\"train_absolute_loss_objective\": {\"sum\": 0.9130044841766357, \"count\": 1, \"min\": 0.9130044841766357, \"max\": 0.9130044841766357}}}\n",
      "\u001b[0m\n",
      "\u001b[34m#metrics {\"StartTime\": 1627319532.914206, \"EndTime\": 1627319532.9142215, \"Dimensions\": {\"Algorithm\": \"Linear Learner\", \"Host\": \"algo-1\", \"Operation\": \"training\", \"epoch\": 3, \"model\": 25}, \"Metrics\": {\"train_absolute_loss_objective\": {\"sum\": 0.8934240341186523, \"count\": 1, \"min\": 0.8934240341186523, \"max\": 0.8934240341186523}}}\n",
      "\u001b[0m\n",
      "\u001b[34m#metrics {\"StartTime\": 1627319532.914271, \"EndTime\": 1627319532.9142869, \"Dimensions\": {\"Algorithm\": \"Linear Learner\", \"Host\": \"algo-1\", \"Operation\": \"training\", \"epoch\": 3, \"model\": 26}, \"Metrics\": {\"train_absolute_loss_objective\": {\"sum\": 0.9017952346801758, \"count\": 1, \"min\": 0.9017952346801758, \"max\": 0.9017952346801758}}}\n",
      "\u001b[0m\n",
      "\u001b[34m#metrics {\"StartTime\": 1627319532.9143355, \"EndTime\": 1627319532.9143505, \"Dimensions\": {\"Algorithm\": \"Linear Learner\", \"Host\": \"algo-1\", \"Operation\": \"training\", \"epoch\": 3, \"model\": 27}, \"Metrics\": {\"train_absolute_loss_objective\": {\"sum\": 0.9063188743591308, \"count\": 1, \"min\": 0.9063188743591308, \"max\": 0.9063188743591308}}}\n",
      "\u001b[0m\n",
      "\u001b[34m#metrics {\"StartTime\": 1627319532.9143982, \"EndTime\": 1627319532.9144118, \"Dimensions\": {\"Algorithm\": \"Linear Learner\", \"Host\": \"algo-1\", \"Operation\": \"training\", \"epoch\": 3, \"model\": 28}, \"Metrics\": {\"train_absolute_loss_objective\": {\"sum\": 0.9337113094329834, \"count\": 1, \"min\": 0.9337113094329834, \"max\": 0.9337113094329834}}}\n",
      "\u001b[0m\n",
      "\u001b[34m#metrics {\"StartTime\": 1627319532.9144604, \"EndTime\": 1627319532.9144747, \"Dimensions\": {\"Algorithm\": \"Linear Learner\", \"Host\": \"algo-1\", \"Operation\": \"training\", \"epoch\": 3, \"model\": 29}, \"Metrics\": {\"train_absolute_loss_objective\": {\"sum\": 0.9346320152282714, \"count\": 1, \"min\": 0.9346320152282714, \"max\": 0.9346320152282714}}}\n",
      "\u001b[0m\n",
      "\u001b[34m#metrics {\"StartTime\": 1627319532.9145443, \"EndTime\": 1627319532.9145591, \"Dimensions\": {\"Algorithm\": \"Linear Learner\", \"Host\": \"algo-1\", \"Operation\": \"training\", \"epoch\": 3, \"model\": 30}, \"Metrics\": {\"train_absolute_loss_objective\": {\"sum\": 0.93647216796875, \"count\": 1, \"min\": 0.93647216796875, \"max\": 0.93647216796875}}}\n",
      "\u001b[0m\n",
      "\u001b[34m#metrics {\"StartTime\": 1627319532.9146042, \"EndTime\": 1627319532.9146192, \"Dimensions\": {\"Algorithm\": \"Linear Learner\", \"Host\": \"algo-1\", \"Operation\": \"training\", \"epoch\": 3, \"model\": 31}, \"Metrics\": {\"train_absolute_loss_objective\": {\"sum\": 0.9073551940917969, \"count\": 1, \"min\": 0.9073551940917969, \"max\": 0.9073551940917969}}}\n",
      "\u001b[0m\n",
      "\u001b[34m[07/26/2021 17:12:12 INFO 139733705852736] #quality_metric: host=algo-1, epoch=3, train absolute_loss_objective <loss>=0.8331165313720703\u001b[0m\n",
      "\u001b[34m[07/26/2021 17:12:12 INFO 139733705852736] #early_stopping_criteria_metric: host=algo-1, epoch=3, criteria=absolute_loss_objective, value=0.26108015298843384\u001b[0m\n",
      "\u001b[34m[07/26/2021 17:12:12 INFO 139733705852736] Saving model for epoch: 3\u001b[0m\n",
      "\u001b[34m[07/26/2021 17:12:12 INFO 139733705852736] Saved checkpoint to \"/tmp/tmpdwkha8e_/mx-mod-0000.params\"\u001b[0m\n",
      "\u001b[34m[07/26/2021 17:12:12 INFO 139733705852736] #progress_metric: host=algo-1, completed 80.0 % of epochs\u001b[0m\n",
      "\u001b[34m#metrics {\"StartTime\": 1627319532.7942414, \"EndTime\": 1627319532.9231842, \"Dimensions\": {\"Algorithm\": \"Linear Learner\", \"Host\": \"algo-1\", \"Operation\": \"training\", \"epoch\": 3, \"Meta\": \"training_data_iter\"}, \"Metrics\": {\"Total Records Seen\": {\"sum\": 135.0, \"count\": 1, \"min\": 135, \"max\": 135}, \"Total Batches Seen\": {\"sum\": 31.0, \"count\": 1, \"min\": 31, \"max\": 31}, \"Max Records Seen Between Resets\": {\"sum\": 26.0, \"count\": 1, \"min\": 26, \"max\": 26}, \"Max Batches Seen Between Resets\": {\"sum\": 6.0, \"count\": 1, \"min\": 6, \"max\": 6}, \"Reset Count\": {\"sum\": 6.0, \"count\": 1, \"min\": 6, \"max\": 6}, \"Number of Records Since Last Reset\": {\"sum\": 26.0, \"count\": 1, \"min\": 26, \"max\": 26}, \"Number of Batches Since Last Reset\": {\"sum\": 6.0, \"count\": 1, \"min\": 6, \"max\": 6}}}\n",
      "\u001b[0m\n",
      "\u001b[34m[07/26/2021 17:12:12 INFO 139733705852736] #throughput_metric: host=algo-1, train throughput=201.44101049396056 records/second\u001b[0m\n",
      "\u001b[34m[2021-07-26 17:12:13.083] [tensorio] [info] epoch_stats={\"data_pipeline\": \"/opt/ml/input/data/train\", \"epoch\": 12, \"duration\": 159, \"num_examples\": 6, \"num_bytes\": 1248}\u001b[0m\n",
      "\u001b[34m#metrics {\"StartTime\": 1627319533.0831113, \"EndTime\": 1627319533.0832121, \"Dimensions\": {\"Algorithm\": \"Linear Learner\", \"Host\": \"algo-1\", \"Operation\": \"training\", \"epoch\": 4, \"model\": 0}, \"Metrics\": {\"train_absolute_loss_objective\": {\"sum\": 0.8105597591400147, \"count\": 1, \"min\": 0.8105597591400147, \"max\": 0.8105597591400147}}}\n",
      "\u001b[0m\n",
      "\u001b[34m#metrics {\"StartTime\": 1627319533.0833044, \"EndTime\": 1627319533.0833256, \"Dimensions\": {\"Algorithm\": \"Linear Learner\", \"Host\": \"algo-1\", \"Operation\": \"training\", \"epoch\": 4, \"model\": 1}, \"Metrics\": {\"train_absolute_loss_objective\": {\"sum\": 0.8300430679321289, \"count\": 1, \"min\": 0.8300430679321289, \"max\": 0.8300430679321289}}}\n",
      "\u001b[0m\n",
      "\u001b[34m#metrics {\"StartTime\": 1627319533.0833836, \"EndTime\": 1627319533.0834014, \"Dimensions\": {\"Algorithm\": \"Linear Learner\", \"Host\": \"algo-1\", \"Operation\": \"training\", \"epoch\": 4, \"model\": 2}, \"Metrics\": {\"train_absolute_loss_objective\": {\"sum\": 0.8129943180084228, \"count\": 1, \"min\": 0.8129943180084228, \"max\": 0.8129943180084228}}}\n",
      "\u001b[0m\n",
      "\u001b[34m#metrics {\"StartTime\": 1627319533.083457, \"EndTime\": 1627319533.083474, \"Dimensions\": {\"Algorithm\": \"Linear Learner\", \"Host\": \"algo-1\", \"Operation\": \"training\", \"epoch\": 4, \"model\": 3}, \"Metrics\": {\"train_absolute_loss_objective\": {\"sum\": 0.8290160083770752, \"count\": 1, \"min\": 0.8290160083770752, \"max\": 0.8290160083770752}}}\n",
      "\u001b[0m\n",
      "\u001b[34m#metrics {\"StartTime\": 1627319533.0835254, \"EndTime\": 1627319533.08354, \"Dimensions\": {\"Algorithm\": \"Linear Learner\", \"Host\": \"algo-1\", \"Operation\": \"training\", \"epoch\": 4, \"model\": 4}, \"Metrics\": {\"train_absolute_loss_objective\": {\"sum\": 0.20793384075164795, \"count\": 1, \"min\": 0.20793384075164795, \"max\": 0.20793384075164795}}}\n",
      "\u001b[0m\n",
      "\u001b[34m#metrics {\"StartTime\": 1627319533.0835896, \"EndTime\": 1627319533.083606, \"Dimensions\": {\"Algorithm\": \"Linear Learner\", \"Host\": \"algo-1\", \"Operation\": \"training\", \"epoch\": 4, \"model\": 5}, \"Metrics\": {\"train_absolute_loss_objective\": {\"sum\": 0.20569249153137206, \"count\": 1, \"min\": 0.20569249153137206, \"max\": 0.20569249153137206}}}\n",
      "\u001b[0m\n",
      "\u001b[34m#metrics {\"StartTime\": 1627319533.0836606, \"EndTime\": 1627319533.0836775, \"Dimensions\": {\"Algorithm\": \"Linear Learner\", \"Host\": \"algo-1\", \"Operation\": \"training\", \"epoch\": 4, \"model\": 6}, \"Metrics\": {\"train_absolute_loss_objective\": {\"sum\": 0.26917444705963134, \"count\": 1, \"min\": 0.26917444705963134, \"max\": 0.26917444705963134}}}\n",
      "\u001b[0m\n",
      "\u001b[34m#metrics {\"StartTime\": 1627319533.083732, \"EndTime\": 1627319533.083749, \"Dimensions\": {\"Algorithm\": \"Linear Learner\", \"Host\": \"algo-1\", \"Operation\": \"training\", \"epoch\": 4, \"model\": 7}, \"Metrics\": {\"train_absolute_loss_objective\": {\"sum\": 0.25191853046417234, \"count\": 1, \"min\": 0.25191853046417234, \"max\": 0.25191853046417234}}}\n",
      "\u001b[0m\n",
      "\u001b[34m#metrics {\"StartTime\": 1627319533.0838041, \"EndTime\": 1627319533.0838213, \"Dimensions\": {\"Algorithm\": \"Linear Learner\", \"Host\": \"algo-1\", \"Operation\": \"training\", \"epoch\": 4, \"model\": 8}, \"Metrics\": {\"train_absolute_loss_objective\": {\"sum\": 0.8669958305358887, \"count\": 1, \"min\": 0.8669958305358887, \"max\": 0.8669958305358887}}}\n",
      "\u001b[0m\n",
      "\u001b[34m#metrics {\"StartTime\": 1627319533.0838811, \"EndTime\": 1627319533.0838995, \"Dimensions\": {\"Algorithm\": \"Linear Learner\", \"Host\": \"algo-1\", \"Operation\": \"training\", \"epoch\": 4, \"model\": 9}, \"Metrics\": {\"train_absolute_loss_objective\": {\"sum\": 0.7978101444244384, \"count\": 1, \"min\": 0.7978101444244384, \"max\": 0.7978101444244384}}}\n",
      "\u001b[0m\n",
      "\u001b[34m#metrics {\"StartTime\": 1627319533.084001, \"EndTime\": 1627319533.0840204, \"Dimensions\": {\"Algorithm\": \"Linear Learner\", \"Host\": \"algo-1\", \"Operation\": \"training\", \"epoch\": 4, \"model\": 10}, \"Metrics\": {\"train_absolute_loss_objective\": {\"sum\": 0.8051863956451416, \"count\": 1, \"min\": 0.8051863956451416, \"max\": 0.8051863956451416}}}\n",
      "\u001b[0m\n",
      "\u001b[34m#metrics {\"StartTime\": 1627319533.0840757, \"EndTime\": 1627319533.084093, \"Dimensions\": {\"Algorithm\": \"Linear Learner\", \"Host\": \"algo-1\", \"Operation\": \"training\", \"epoch\": 4, \"model\": 11}, \"Metrics\": {\"train_absolute_loss_objective\": {\"sum\": 0.7896191215515137, \"count\": 1, \"min\": 0.7896191215515137, \"max\": 0.7896191215515137}}}\n",
      "\u001b[0m\n",
      "\u001b[34m#metrics {\"StartTime\": 1627319533.0841477, \"EndTime\": 1627319533.0841641, \"Dimensions\": {\"Algorithm\": \"Linear Learner\", \"Host\": \"algo-1\", \"Operation\": \"training\", \"epoch\": 4, \"model\": 12}, \"Metrics\": {\"train_absolute_loss_objective\": {\"sum\": 0.2015039098262787, \"count\": 1, \"min\": 0.2015039098262787, \"max\": 0.2015039098262787}}}\n",
      "\u001b[0m\n",
      "\u001b[34m#metrics {\"StartTime\": 1627319533.0842242, \"EndTime\": 1627319533.0842414, \"Dimensions\": {\"Algorithm\": \"Linear Learner\", \"Host\": \"algo-1\", \"Operation\": \"training\", \"epoch\": 4, \"model\": 13}, \"Metrics\": {\"train_absolute_loss_objective\": {\"sum\": 0.269013569355011, \"count\": 1, \"min\": 0.269013569355011, \"max\": 0.269013569355011}}}\n",
      "\u001b[0m\n",
      "\u001b[34m#metrics {\"StartTime\": 1627319533.0842965, \"EndTime\": 1627319533.0843136, \"Dimensions\": {\"Algorithm\": \"Linear Learner\", \"Host\": \"algo-1\", \"Operation\": \"training\", \"epoch\": 4, \"model\": 14}, \"Metrics\": {\"train_absolute_loss_objective\": {\"sum\": 0.20201148748397826, \"count\": 1, \"min\": 0.20201148748397826, \"max\": 0.20201148748397826}}}\n",
      "\u001b[0m\n",
      "\u001b[34m#metrics {\"StartTime\": 1627319533.084367, \"EndTime\": 1627319533.084384, \"Dimensions\": {\"Algorithm\": \"Linear Learner\", \"Host\": \"algo-1\", \"Operation\": \"training\", \"epoch\": 4, \"model\": 15}, \"Metrics\": {\"train_absolute_loss_objective\": {\"sum\": 0.2568753755092621, \"count\": 1, \"min\": 0.2568753755092621, \"max\": 0.2568753755092621}}}\n",
      "\u001b[0m\n",
      "\u001b[34m#metrics {\"StartTime\": 1627319533.0844378, \"EndTime\": 1627319533.0844543, \"Dimensions\": {\"Algorithm\": \"Linear Learner\", \"Host\": \"algo-1\", \"Operation\": \"training\", \"epoch\": 4, \"model\": 16}, \"Metrics\": {\"train_absolute_loss_objective\": {\"sum\": 0.7750927925109863, \"count\": 1, \"min\": 0.7750927925109863, \"max\": 0.7750927925109863}}}\n",
      "\u001b[0m\n",
      "\u001b[34m#metrics {\"StartTime\": 1627319533.0845118, \"EndTime\": 1627319533.084529, \"Dimensions\": {\"Algorithm\": \"Linear Learner\", \"Host\": \"algo-1\", \"Operation\": \"training\", \"epoch\": 4, \"model\": 17}, \"Metrics\": {\"train_absolute_loss_objective\": {\"sum\": 0.8260982418060303, \"count\": 1, \"min\": 0.8260982418060303, \"max\": 0.8260982418060303}}}\n",
      "\u001b[0m\n",
      "\u001b[34m#metrics {\"StartTime\": 1627319533.0845888, \"EndTime\": 1627319533.0846062, \"Dimensions\": {\"Algorithm\": \"Linear Learner\", \"Host\": \"algo-1\", \"Operation\": \"training\", \"epoch\": 4, \"model\": 18}, \"Metrics\": {\"train_absolute_loss_objective\": {\"sum\": 0.8023411846160888, \"count\": 1, \"min\": 0.8023411846160888, \"max\": 0.8023411846160888}}}\n",
      "\u001b[0m\n",
      "\u001b[34m#metrics {\"StartTime\": 1627319533.0846603, \"EndTime\": 1627319533.0846765, \"Dimensions\": {\"Algorithm\": \"Linear Learner\", \"Host\": \"algo-1\", \"Operation\": \"training\", \"epoch\": 4, \"model\": 19}, \"Metrics\": {\"train_absolute_loss_objective\": {\"sum\": 0.7990199756622315, \"count\": 1, \"min\": 0.7990199756622315, \"max\": 0.7990199756622315}}}\n",
      "\u001b[0m\n",
      "\u001b[34m#metrics {\"StartTime\": 1627319533.0847278, \"EndTime\": 1627319533.084745, \"Dimensions\": {\"Algorithm\": \"Linear Learner\", \"Host\": \"algo-1\", \"Operation\": \"training\", \"epoch\": 4, \"model\": 20}, \"Metrics\": {\"train_absolute_loss_objective\": {\"sum\": 0.33532320022583006, \"count\": 1, \"min\": 0.33532320022583006, \"max\": 0.33532320022583006}}}\n",
      "\u001b[0m\n",
      "\u001b[34m#metrics {\"StartTime\": 1627319533.084796, \"EndTime\": 1627319533.0848114, \"Dimensions\": {\"Algorithm\": \"Linear Learner\", \"Host\": \"algo-1\", \"Operation\": \"training\", \"epoch\": 4, \"model\": 21}, \"Metrics\": {\"train_absolute_loss_objective\": {\"sum\": 0.32197803497314453, \"count\": 1, \"min\": 0.32197803497314453, \"max\": 0.32197803497314453}}}\n",
      "\u001b[0m\n",
      "\u001b[34m#metrics {\"StartTime\": 1627319533.084862, \"EndTime\": 1627319533.0848784, \"Dimensions\": {\"Algorithm\": \"Linear Learner\", \"Host\": \"algo-1\", \"Operation\": \"training\", \"epoch\": 4, \"model\": 22}, \"Metrics\": {\"train_absolute_loss_objective\": {\"sum\": 0.42702393054962157, \"count\": 1, \"min\": 0.42702393054962157, \"max\": 0.42702393054962157}}}\n",
      "\u001b[0m\n",
      "\u001b[34m#metrics {\"StartTime\": 1627319533.0849307, \"EndTime\": 1627319533.084947, \"Dimensions\": {\"Algorithm\": \"Linear Learner\", \"Host\": \"algo-1\", \"Operation\": \"training\", \"epoch\": 4, \"model\": 23}, \"Metrics\": {\"train_absolute_loss_objective\": {\"sum\": 0.3127946186065674, \"count\": 1, \"min\": 0.3127946186065674, \"max\": 0.3127946186065674}}}\n",
      "\u001b[0m\n",
      "\u001b[34m#metrics {\"StartTime\": 1627319533.0850184, \"EndTime\": 1627319533.0850353, \"Dimensions\": {\"Algorithm\": \"Linear Learner\", \"Host\": \"algo-1\", \"Operation\": \"training\", \"epoch\": 4, \"model\": 24}, \"Metrics\": {\"train_absolute_loss_objective\": {\"sum\": 0.9147606658935546, \"count\": 1, \"min\": 0.9147606658935546, \"max\": 0.9147606658935546}}}\n",
      "\u001b[0m\n",
      "\u001b[34m#metrics {\"StartTime\": 1627319533.0850914, \"EndTime\": 1627319533.085108, \"Dimensions\": {\"Algorithm\": \"Linear Learner\", \"Host\": \"algo-1\", \"Operation\": \"training\", \"epoch\": 4, \"model\": 25}, \"Metrics\": {\"train_absolute_loss_objective\": {\"sum\": 0.8964773750305176, \"count\": 1, \"min\": 0.8964773750305176, \"max\": 0.8964773750305176}}}\n",
      "\u001b[0m\n",
      "\u001b[34m#metrics {\"StartTime\": 1627319533.0851572, \"EndTime\": 1627319533.0851738, \"Dimensions\": {\"Algorithm\": \"Linear Learner\", \"Host\": \"algo-1\", \"Operation\": \"training\", \"epoch\": 4, \"model\": 26}, \"Metrics\": {\"train_absolute_loss_objective\": {\"sum\": 0.9063785362243653, \"count\": 1, \"min\": 0.9063785362243653, \"max\": 0.9063785362243653}}}\n",
      "\u001b[0m\n",
      "\u001b[34m#metrics {\"StartTime\": 1627319533.085222, \"EndTime\": 1627319533.0852377, \"Dimensions\": {\"Algorithm\": \"Linear Learner\", \"Host\": \"algo-1\", \"Operation\": \"training\", \"epoch\": 4, \"model\": 27}, \"Metrics\": {\"train_absolute_loss_objective\": {\"sum\": 0.9013813781738281, \"count\": 1, \"min\": 0.9013813781738281, \"max\": 0.9013813781738281}}}\n",
      "\u001b[0m\n",
      "\u001b[34m#metrics {\"StartTime\": 1627319533.085294, \"EndTime\": 1627319533.0853105, \"Dimensions\": {\"Algorithm\": \"Linear Learner\", \"Host\": \"algo-1\", \"Operation\": \"training\", \"epoch\": 4, \"model\": 28}, \"Metrics\": {\"train_absolute_loss_objective\": {\"sum\": 0.9801882934570313, \"count\": 1, \"min\": 0.9801882934570313, \"max\": 0.9801882934570313}}}\n",
      "\u001b[0m\n",
      "\u001b[34m#metrics {\"StartTime\": 1627319533.0853596, \"EndTime\": 1627319533.0853763, \"Dimensions\": {\"Algorithm\": \"Linear Learner\", \"Host\": \"algo-1\", \"Operation\": \"training\", \"epoch\": 4, \"model\": 29}, \"Metrics\": {\"train_absolute_loss_objective\": {\"sum\": 0.9812432289123535, \"count\": 1, \"min\": 0.9812432289123535, \"max\": 0.9812432289123535}}}\n",
      "\u001b[0m\n",
      "\u001b[34m#metrics {\"StartTime\": 1627319533.0854332, \"EndTime\": 1627319533.0854516, \"Dimensions\": {\"Algorithm\": \"Linear Learner\", \"Host\": \"algo-1\", \"Operation\": \"training\", \"epoch\": 4, \"model\": 30}, \"Metrics\": {\"train_absolute_loss_objective\": {\"sum\": 0.9247559547424317, \"count\": 1, \"min\": 0.9247559547424317, \"max\": 0.9247559547424317}}}\n",
      "\u001b[0m\n",
      "\u001b[34m#metrics {\"StartTime\": 1627319533.0855093, \"EndTime\": 1627319533.0855265, \"Dimensions\": {\"Algorithm\": \"Linear Learner\", \"Host\": \"algo-1\", \"Operation\": \"training\", \"epoch\": 4, \"model\": 31}, \"Metrics\": {\"train_absolute_loss_objective\": {\"sum\": 1.0082299423217773, \"count\": 1, \"min\": 1.0082299423217773, \"max\": 1.0082299423217773}}}\n",
      "\u001b[0m\n",
      "\u001b[34m[07/26/2021 17:12:13 INFO 139733705852736] #quality_metric: host=algo-1, epoch=4, train absolute_loss_objective <loss>=0.8105597591400147\u001b[0m\n",
      "\u001b[34m[07/26/2021 17:12:13 INFO 139733705852736] #early_stopping_criteria_metric: host=algo-1, epoch=4, criteria=absolute_loss_objective, value=0.2015039098262787\u001b[0m\n",
      "\u001b[34m[07/26/2021 17:12:13 INFO 139733705852736] Epoch 4: Loss improved. Updating best model\u001b[0m\n",
      "\u001b[34m[07/26/2021 17:12:13 INFO 139733705852736] Saving model for epoch: 4\u001b[0m\n",
      "\u001b[34m[07/26/2021 17:12:13 INFO 139733705852736] Saved checkpoint to \"/tmp/tmp5sg2zw05/mx-mod-0000.params\"\u001b[0m\n",
      "\u001b[34m[07/26/2021 17:12:13 INFO 139733705852736] #progress_metric: host=algo-1, completed 100.0 % of epochs\u001b[0m\n",
      "\u001b[34m#metrics {\"StartTime\": 1627319532.9234672, \"EndTime\": 1627319533.1000328, \"Dimensions\": {\"Algorithm\": \"Linear Learner\", \"Host\": \"algo-1\", \"Operation\": \"training\", \"epoch\": 4, \"Meta\": \"training_data_iter\"}, \"Metrics\": {\"Total Records Seen\": {\"sum\": 161.0, \"count\": 1, \"min\": 161, \"max\": 161}, \"Total Batches Seen\": {\"sum\": 37.0, \"count\": 1, \"min\": 37, \"max\": 37}, \"Max Records Seen Between Resets\": {\"sum\": 26.0, \"count\": 1, \"min\": 26, \"max\": 26}, \"Max Batches Seen Between Resets\": {\"sum\": 6.0, \"count\": 1, \"min\": 6, \"max\": 6}, \"Reset Count\": {\"sum\": 7.0, \"count\": 1, \"min\": 7, \"max\": 7}, \"Number of Records Since Last Reset\": {\"sum\": 26.0, \"count\": 1, \"min\": 26, \"max\": 26}, \"Number of Batches Since Last Reset\": {\"sum\": 6.0, \"count\": 1, \"min\": 6, \"max\": 6}}}\n",
      "\u001b[0m\n",
      "\u001b[34m[07/26/2021 17:12:13 INFO 139733705852736] #throughput_metric: host=algo-1, train throughput=147.14413666827232 records/second\u001b[0m\n",
      "\u001b[34m[07/26/2021 17:12:13 WARNING 139733705852736] wait_for_all_workers will not sync workers since the kv store is not running distributed\u001b[0m\n",
      "\u001b[34m[07/26/2021 17:12:13 WARNING 139733705852736] wait_for_all_workers will not sync workers since the kv store is not running distributed\u001b[0m\n",
      "\u001b[34m[2021-07-26 17:12:13.101] [tensorio] [info] epoch_stats={\"data_pipeline\": \"/opt/ml/input/data/train\", \"epoch\": 14, \"duration\": 0, \"num_examples\": 1, \"num_bytes\": 240}\u001b[0m\n",
      "\u001b[34m[2021-07-26 17:12:13.116] [tensorio] [info] epoch_stats={\"data_pipeline\": \"/opt/ml/input/data/train\", \"epoch\": 16, \"duration\": 12, \"num_examples\": 6, \"num_bytes\": 1248}\u001b[0m\n",
      "\u001b[34m[07/26/2021 17:12:13 INFO 139733705852736] #train_score (algo-1) : ('absolute_loss_objective', 4756.302884615385)\u001b[0m\n",
      "\u001b[34m[07/26/2021 17:12:13 INFO 139733705852736] #train_score (algo-1) : ('mse', 34979364.02478966)\u001b[0m\n",
      "\u001b[34m[07/26/2021 17:12:13 INFO 139733705852736] #train_score (algo-1) : ('absolute_loss', 4756.302884615385)\u001b[0m\n",
      "\u001b[34m[07/26/2021 17:12:13 INFO 139733705852736] #quality_metric: host=algo-1, train absolute_loss_objective <loss>=4756.302884615385\u001b[0m\n",
      "\u001b[34m[07/26/2021 17:12:13 INFO 139733705852736] #quality_metric: host=algo-1, train mse <loss>=34979364.02478966\u001b[0m\n",
      "\u001b[34m[07/26/2021 17:12:13 INFO 139733705852736] #quality_metric: host=algo-1, train absolute_loss <loss>=4756.302884615385\u001b[0m\n",
      "\u001b[34m[07/26/2021 17:12:13 INFO 139733705852736] Best model found for hyperparameters: {\"optimizer\": \"adam\", \"learning_rate\": 0.1, \"wd\": 0.01, \"l1\": 0.0, \"lr_scheduler_step\": 10, \"lr_scheduler_factor\": 0.99, \"lr_scheduler_minimum_lr\": 1e-05}\u001b[0m\n",
      "\u001b[34m[07/26/2021 17:12:13 INFO 139733705852736] Saved checkpoint to \"/tmp/tmp5wvz4rch/mx-mod-0000.params\"\u001b[0m\n",
      "\u001b[34m[07/26/2021 17:12:13 INFO 139733705852736] Test data is not provided.\u001b[0m\n",
      "\u001b[34m#metrics {\"StartTime\": 1627319532.2436051, \"EndTime\": 1627319533.1240447, \"Dimensions\": {\"Algorithm\": \"Linear Learner\", \"Host\": \"algo-1\", \"Operation\": \"training\"}, \"Metrics\": {\"initialize.time\": {\"sum\": 167.7086353302002, \"count\": 1, \"min\": 167.7086353302002, \"max\": 167.7086353302002}, \"epochs\": {\"sum\": 5.0, \"count\": 1, \"min\": 5, \"max\": 5}, \"check_early_stopping.time\": {\"sum\": 5.182504653930664, \"count\": 5, \"min\": 0.20885467529296875, \"max\": 1.4750957489013672}, \"update.time\": {\"sum\": 666.4745807647705, \"count\": 5, \"min\": 120.00656127929688, \"max\": 172.8971004486084}, \"finalize.time\": {\"sum\": 16.910314559936523, \"count\": 1, \"min\": 16.910314559936523, \"max\": 16.910314559936523}, \"setuptime\": {\"sum\": 23.398399353027344, \"count\": 1, \"min\": 23.398399353027344, \"max\": 23.398399353027344}, \"totaltime\": {\"sum\": 1090.0695323944092, \"count\": 1, \"min\": 1090.0695323944092, \"max\": 1090.0695323944092}}}\n",
      "\u001b[0m\n",
      "\n",
      "2021-07-26 17:12:26 Uploading - Uploading generated training model\n",
      "2021-07-26 17:12:26 Completed - Training job completed\n",
      "Training seconds: 63\n",
      "Billable seconds: 63\n"
     ]
    }
   ],
   "source": [
    "# We have pass in the container, the type of instance that we would like to use for training \n",
    "# output path and sagemaker session into the Estimator. \n",
    "# We can also specify how many instances we would like to use for training\n",
    "# sagemaker_session = sagemaker.Session()\n",
    "\n",
    "linear = sagemaker.estimator.Estimator(container,\n",
    "                                       role, \n",
    "                                       train_instance_count = 1, \n",
    "                                       train_instance_type = 'ml.c4.xlarge',\n",
    "                                       output_path = output_location,\n",
    "                                       sagemaker_session = sagemaker_session)\n",
    "\n",
    "\n",
    "# We can tune parameters like the number of features that we are passing in, type of predictor like 'regressor' or 'classifier', mini batch size, epochs\n",
    "# Train 32 different versions of the model and will get the best out of them (built-in parameters optimization!)\n",
    "\n",
    "linear.set_hyperparameters(feature_dim = 1,\n",
    "                           predictor_type = 'regressor',\n",
    "                           mini_batch_size = 5,\n",
    "                           epochs = 5,\n",
    "                           num_models = 32,\n",
    "                           loss = 'absolute_loss')\n",
    "\n",
    "# Now we are ready to pass in the training data from S3 to train the linear learner model\n",
    "\n",
    "linear.fit({'train': s3_train_data})\n",
    "\n",
    "# Let's see the progress using cloudwatch logs"
   ]
  },
  {
   "cell_type": "markdown",
   "metadata": {},
   "source": [
    "MINI CHALLENGE\n",
    "- Try to train the model with more epochs and additional number of models\n"
   ]
  },
  {
   "cell_type": "code",
   "execution_count": null,
   "metadata": {},
   "outputs": [],
   "source": []
  },
  {
   "cell_type": "markdown",
   "metadata": {},
   "source": [
    "- Can you try to reduce the cost of billable seconds?"
   ]
  },
  {
   "cell_type": "code",
   "execution_count": 77,
   "metadata": {},
   "outputs": [
    {
     "name": "stderr",
     "output_type": "stream",
     "text": [
      "train_instance_count has been renamed in sagemaker>=2.\n",
      "See: https://sagemaker.readthedocs.io/en/stable/v2.html for details.\n",
      "train_instance_type has been renamed in sagemaker>=2.\n",
      "See: https://sagemaker.readthedocs.io/en/stable/v2.html for details.\n",
      "train_max_run has been renamed in sagemaker>=2.\n",
      "See: https://sagemaker.readthedocs.io/en/stable/v2.html for details.\n",
      "train_use_spot_instances has been renamed in sagemaker>=2.\n",
      "See: https://sagemaker.readthedocs.io/en/stable/v2.html for details.\n",
      "train_max_wait has been renamed in sagemaker>=2.\n",
      "See: https://sagemaker.readthedocs.io/en/stable/v2.html for details.\n"
     ]
    },
    {
     "name": "stdout",
     "output_type": "stream",
     "text": [
      "2021-07-26 17:17:38 Starting - Starting the training job...\n",
      "2021-07-26 17:18:02 Starting - Launching requested ML instancesProfilerReport-1627319858: InProgress\n",
      "...\n",
      "2021-07-26 17:18:30 Starting - Preparing the instances for training............\n",
      "2021-07-26 17:20:33 Downloading - Downloading input data\n",
      "2021-07-26 17:20:33 Training - Downloading the training image...\n",
      "2021-07-26 17:21:05 Uploading - Uploading generated training model\u001b[34mDocker entrypoint called with argument(s): train\u001b[0m\n",
      "\u001b[34mRunning default environment configuration script\u001b[0m\n",
      "\u001b[34m[07/26/2021 17:20:59 INFO 140025341310784] Reading default configuration from /opt/amazon/lib/python3.7/site-packages/algorithm/resources/default-input.json: {'mini_batch_size': '1000', 'epochs': '15', 'feature_dim': 'auto', 'use_bias': 'true', 'binary_classifier_model_selection_criteria': 'accuracy', 'f_beta': '1.0', 'target_recall': '0.8', 'target_precision': '0.8', 'num_models': 'auto', 'num_calibration_samples': '10000000', 'init_method': 'uniform', 'init_scale': '0.07', 'init_sigma': '0.01', 'init_bias': '0.0', 'optimizer': 'auto', 'loss': 'auto', 'margin': '1.0', 'quantile': '0.5', 'loss_insensitivity': '0.01', 'huber_delta': '1.0', 'num_classes': '1', 'accuracy_top_k': '3', 'wd': 'auto', 'l1': 'auto', 'momentum': 'auto', 'learning_rate': 'auto', 'beta_1': 'auto', 'beta_2': 'auto', 'bias_lr_mult': 'auto', 'bias_wd_mult': 'auto', 'use_lr_scheduler': 'true', 'lr_scheduler_step': 'auto', 'lr_scheduler_factor': 'auto', 'lr_scheduler_minimum_lr': 'auto', 'positive_example_weight_mult': '1.0', 'balance_multiclass_weights': 'false', 'normalize_data': 'true', 'normalize_label': 'auto', 'unbias_data': 'auto', 'unbias_label': 'auto', 'num_point_for_scaler': '10000', '_kvstore': 'auto', '_num_gpus': 'auto', '_num_kv_servers': 'auto', '_log_level': 'info', '_tuning_objective_metric': '', 'early_stopping_patience': '3', 'early_stopping_tolerance': '0.001', '_enable_profiler': 'false'}\u001b[0m\n",
      "\u001b[34m[07/26/2021 17:20:59 INFO 140025341310784] Merging with provided configuration from /opt/ml/input/config/hyperparameters.json: {'loss': 'absolute_loss', 'feature_dim': '1', 'num_models': '32', 'predictor_type': 'regressor', 'epochs': '5', 'mini_batch_size': '5'}\u001b[0m\n",
      "\u001b[34m[07/26/2021 17:20:59 INFO 140025341310784] Final configuration: {'mini_batch_size': '5', 'epochs': '5', 'feature_dim': '1', 'use_bias': 'true', 'binary_classifier_model_selection_criteria': 'accuracy', 'f_beta': '1.0', 'target_recall': '0.8', 'target_precision': '0.8', 'num_models': '32', 'num_calibration_samples': '10000000', 'init_method': 'uniform', 'init_scale': '0.07', 'init_sigma': '0.01', 'init_bias': '0.0', 'optimizer': 'auto', 'loss': 'absolute_loss', 'margin': '1.0', 'quantile': '0.5', 'loss_insensitivity': '0.01', 'huber_delta': '1.0', 'num_classes': '1', 'accuracy_top_k': '3', 'wd': 'auto', 'l1': 'auto', 'momentum': 'auto', 'learning_rate': 'auto', 'beta_1': 'auto', 'beta_2': 'auto', 'bias_lr_mult': 'auto', 'bias_wd_mult': 'auto', 'use_lr_scheduler': 'true', 'lr_scheduler_step': 'auto', 'lr_scheduler_factor': 'auto', 'lr_scheduler_minimum_lr': 'auto', 'positive_example_weight_mult': '1.0', 'balance_multiclass_weights': 'false', 'normalize_data': 'true', 'normalize_label': 'auto', 'unbias_data': 'auto', 'unbias_label': 'auto', 'num_point_for_scaler': '10000', '_kvstore': 'auto', '_num_gpus': 'auto', '_num_kv_servers': 'auto', '_log_level': 'info', '_tuning_objective_metric': '', 'early_stopping_patience': '3', 'early_stopping_tolerance': '0.001', '_enable_profiler': 'false', 'predictor_type': 'regressor'}\u001b[0m\n",
      "\u001b[34m[07/26/2021 17:20:59 WARNING 140025341310784] Loggers have already been setup.\u001b[0m\n",
      "\u001b[34mProcess 1 is a worker.\u001b[0m\n",
      "\u001b[34m[07/26/2021 17:20:59 INFO 140025341310784] Using default worker.\u001b[0m\n",
      "\u001b[34m[07/26/2021 17:20:59 INFO 140025341310784] Checkpoint loading and saving are disabled.\u001b[0m\n",
      "\u001b[34m[2021-07-26 17:20:59.495] [tensorio] [info] epoch_stats={\"data_pipeline\": \"/opt/ml/input/data/train\", \"epoch\": 0, \"duration\": 19, \"num_examples\": 1, \"num_bytes\": 240}\u001b[0m\n",
      "\u001b[34m[07/26/2021 17:20:59 INFO 140025341310784] Create Store: local\u001b[0m\n",
      "\u001b[34m[2021-07-26 17:20:59.547] [tensorio] [info] epoch_stats={\"data_pipeline\": \"/opt/ml/input/data/train\", \"epoch\": 1, \"duration\": 52, \"num_examples\": 6, \"num_bytes\": 1248}\u001b[0m\n",
      "\u001b[34m[07/26/2021 17:20:59 INFO 140025341310784] Scaler algorithm parameters\n",
      " <algorithm.scaler.ScalerAlgorithmStable object at 0x7f59d0cb82d0>\u001b[0m\n",
      "\u001b[34m[07/26/2021 17:20:59 INFO 140025341310784] Scaling model computed with parameters:\n",
      " {'stdev_label': \u001b[0m\n",
      "\u001b[34m[32945.074]\u001b[0m\n",
      "\u001b[34m<NDArray 1 @cpu(0)>, 'stdev_weight': \u001b[0m\n",
      "\u001b[34m[3.7233188]\u001b[0m\n",
      "\u001b[34m<NDArray 1 @cpu(0)>, 'mean_label': \u001b[0m\n",
      "\u001b[34m[87179.57]\u001b[0m\n",
      "\u001b[34m<NDArray 1 @cpu(0)>, 'mean_weight': \u001b[0m\n",
      "\u001b[34m[6.6359997]\u001b[0m\n",
      "\u001b[34m<NDArray 1 @cpu(0)>}\u001b[0m\n",
      "\u001b[34m[07/26/2021 17:20:59 INFO 140025341310784] nvidia-smi: took 0.031 seconds to run.\u001b[0m\n",
      "\u001b[34m[07/26/2021 17:20:59 INFO 140025341310784] nvidia-smi identified 0 GPUs.\u001b[0m\n",
      "\u001b[34m[07/26/2021 17:20:59 INFO 140025341310784] Number of GPUs being used: 0\u001b[0m\n",
      "\u001b[34m#metrics {\"StartTime\": 1627320059.6583884, \"EndTime\": 1627320059.6584206, \"Dimensions\": {\"Algorithm\": \"Linear Learner\", \"Host\": \"algo-1\", \"Operation\": \"training\", \"Meta\": \"init_train_data_iter\"}, \"Metrics\": {\"Total Records Seen\": {\"sum\": 31.0, \"count\": 1, \"min\": 31, \"max\": 31}, \"Total Batches Seen\": {\"sum\": 7.0, \"count\": 1, \"min\": 7, \"max\": 7}, \"Max Records Seen Between Resets\": {\"sum\": 26.0, \"count\": 1, \"min\": 26, \"max\": 26}, \"Max Batches Seen Between Resets\": {\"sum\": 6.0, \"count\": 1, \"min\": 6, \"max\": 6}, \"Reset Count\": {\"sum\": 2.0, \"count\": 1, \"min\": 2, \"max\": 2}, \"Number of Records Since Last Reset\": {\"sum\": 0.0, \"count\": 1, \"min\": 0, \"max\": 0}, \"Number of Batches Since Last Reset\": {\"sum\": 0.0, \"count\": 1, \"min\": 0, \"max\": 0}}}\n",
      "\u001b[0m\n",
      "\u001b[34m[2021-07-26 17:20:59.784] [tensorio] [info] epoch_stats={\"data_pipeline\": \"/opt/ml/input/data/train\", \"epoch\": 4, \"duration\": 125, \"num_examples\": 6, \"num_bytes\": 1248}\u001b[0m\n",
      "\u001b[34m#metrics {\"StartTime\": 1627320059.784215, \"EndTime\": 1627320059.7843075, \"Dimensions\": {\"Algorithm\": \"Linear Learner\", \"Host\": \"algo-1\", \"Operation\": \"training\", \"epoch\": 0, \"model\": 0}, \"Metrics\": {\"train_absolute_loss_objective\": {\"sum\": 0.9042939281463623, \"count\": 1, \"min\": 0.9042939281463623, \"max\": 0.9042939281463623}}}\n",
      "\u001b[0m\n",
      "\u001b[34m#metrics {\"StartTime\": 1627320059.784397, \"EndTime\": 1627320059.7844143, \"Dimensions\": {\"Algorithm\": \"Linear Learner\", \"Host\": \"algo-1\", \"Operation\": \"training\", \"epoch\": 0, \"model\": 1}, \"Metrics\": {\"train_absolute_loss_objective\": {\"sum\": 0.9243914222717285, \"count\": 1, \"min\": 0.9243914222717285, \"max\": 0.9243914222717285}}}\n",
      "\u001b[0m\n",
      "\u001b[34m#metrics {\"StartTime\": 1627320059.7844646, \"EndTime\": 1627320059.7844806, \"Dimensions\": {\"Algorithm\": \"Linear Learner\", \"Host\": \"algo-1\", \"Operation\": \"training\", \"epoch\": 0, \"model\": 2}, \"Metrics\": {\"train_absolute_loss_objective\": {\"sum\": 0.9067284774780273, \"count\": 1, \"min\": 0.9067284774780273, \"max\": 0.9067284774780273}}}\n",
      "\u001b[0m\n",
      "\u001b[34m#metrics {\"StartTime\": 1627320059.7845335, \"EndTime\": 1627320059.7845473, \"Dimensions\": {\"Algorithm\": \"Linear Learner\", \"Host\": \"algo-1\", \"Operation\": \"training\", \"epoch\": 0, \"model\": 3}, \"Metrics\": {\"train_absolute_loss_objective\": {\"sum\": 0.9233643531799316, \"count\": 1, \"min\": 0.9233643531799316, \"max\": 0.9233643531799316}}}\n",
      "\u001b[0m\n",
      "\u001b[34m#metrics {\"StartTime\": 1627320059.7845936, \"EndTime\": 1627320059.7846096, \"Dimensions\": {\"Algorithm\": \"Linear Learner\", \"Host\": \"algo-1\", \"Operation\": \"training\", \"epoch\": 0, \"model\": 4}, \"Metrics\": {\"train_absolute_loss_objective\": {\"sum\": 0.8125773811340332, \"count\": 1, \"min\": 0.8125773811340332, \"max\": 0.8125773811340332}}}\n",
      "\u001b[0m\n",
      "\u001b[34m#metrics {\"StartTime\": 1627320059.7846596, \"EndTime\": 1627320059.7846754, \"Dimensions\": {\"Algorithm\": \"Linear Learner\", \"Host\": \"algo-1\", \"Operation\": \"training\", \"epoch\": 0, \"model\": 5}, \"Metrics\": {\"train_absolute_loss_objective\": {\"sum\": 0.8231587886810303, \"count\": 1, \"min\": 0.8231587886810303, \"max\": 0.8231587886810303}}}\n",
      "\u001b[0m\n",
      "\u001b[34m#metrics {\"StartTime\": 1627320059.7847254, \"EndTime\": 1627320059.7847416, \"Dimensions\": {\"Algorithm\": \"Linear Learner\", \"Host\": \"algo-1\", \"Operation\": \"training\", \"epoch\": 0, \"model\": 6}, \"Metrics\": {\"train_absolute_loss_objective\": {\"sum\": 0.913590784072876, \"count\": 1, \"min\": 0.913590784072876, \"max\": 0.913590784072876}}}\n",
      "\u001b[0m\n",
      "\u001b[34m#metrics {\"StartTime\": 1627320059.784791, \"EndTime\": 1627320059.7848065, \"Dimensions\": {\"Algorithm\": \"Linear Learner\", \"Host\": \"algo-1\", \"Operation\": \"training\", \"epoch\": 0, \"model\": 7}, \"Metrics\": {\"train_absolute_loss_objective\": {\"sum\": 0.8821056365966797, \"count\": 1, \"min\": 0.8821056365966797, \"max\": 0.8821056365966797}}}\n",
      "\u001b[0m\n",
      "\u001b[34m#metrics {\"StartTime\": 1627320059.7848527, \"EndTime\": 1627320059.784866, \"Dimensions\": {\"Algorithm\": \"Linear Learner\", \"Host\": \"algo-1\", \"Operation\": \"training\", \"epoch\": 0, \"model\": 8}, \"Metrics\": {\"train_absolute_loss_objective\": {\"sum\": 0.9607227516174316, \"count\": 1, \"min\": 0.9607227516174316, \"max\": 0.9607227516174316}}}\n",
      "\u001b[0m\n",
      "\u001b[34m#metrics {\"StartTime\": 1627320059.7849221, \"EndTime\": 1627320059.7849388, \"Dimensions\": {\"Algorithm\": \"Linear Learner\", \"Host\": \"algo-1\", \"Operation\": \"training\", \"epoch\": 0, \"model\": 9}, \"Metrics\": {\"train_absolute_loss_objective\": {\"sum\": 0.8921500015258789, \"count\": 1, \"min\": 0.8921500015258789, \"max\": 0.8921500015258789}}}\n",
      "\u001b[0m\n",
      "\u001b[34m#metrics {\"StartTime\": 1627320059.7849877, \"EndTime\": 1627320059.7850041, \"Dimensions\": {\"Algorithm\": \"Linear Learner\", \"Host\": \"algo-1\", \"Operation\": \"training\", \"epoch\": 0, \"model\": 10}, \"Metrics\": {\"train_absolute_loss_objective\": {\"sum\": 0.8989123153686523, \"count\": 1, \"min\": 0.8989123153686523, \"max\": 0.8989123153686523}}}\n",
      "\u001b[0m\n",
      "\u001b[34m#metrics {\"StartTime\": 1627320059.7850578, \"EndTime\": 1627320059.785074, \"Dimensions\": {\"Algorithm\": \"Linear Learner\", \"Host\": \"algo-1\", \"Operation\": \"training\", \"epoch\": 0, \"model\": 11}, \"Metrics\": {\"train_absolute_loss_objective\": {\"sum\": 0.883958854675293, \"count\": 1, \"min\": 0.883958854675293, \"max\": 0.883958854675293}}}\n",
      "\u001b[0m\n",
      "\u001b[34m#metrics {\"StartTime\": 1627320059.7851262, \"EndTime\": 1627320059.7851422, \"Dimensions\": {\"Algorithm\": \"Linear Learner\", \"Host\": \"algo-1\", \"Operation\": \"training\", \"epoch\": 0, \"model\": 12}, \"Metrics\": {\"train_absolute_loss_objective\": {\"sum\": 0.8221986675262452, \"count\": 1, \"min\": 0.8221986675262452, \"max\": 0.8221986675262452}}}\n",
      "\u001b[0m\n",
      "\u001b[34m#metrics {\"StartTime\": 1627320059.7851918, \"EndTime\": 1627320059.7852068, \"Dimensions\": {\"Algorithm\": \"Linear Learner\", \"Host\": \"algo-1\", \"Operation\": \"training\", \"epoch\": 0, \"model\": 13}, \"Metrics\": {\"train_absolute_loss_objective\": {\"sum\": 0.8507452011108398, \"count\": 1, \"min\": 0.8507452011108398, \"max\": 0.8507452011108398}}}\n",
      "\u001b[0m\n",
      "\u001b[34m#metrics {\"StartTime\": 1627320059.785256, \"EndTime\": 1627320059.7852714, \"Dimensions\": {\"Algorithm\": \"Linear Learner\", \"Host\": \"algo-1\", \"Operation\": \"training\", \"epoch\": 0, \"model\": 14}, \"Metrics\": {\"train_absolute_loss_objective\": {\"sum\": 0.820581636428833, \"count\": 1, \"min\": 0.820581636428833, \"max\": 0.820581636428833}}}\n",
      "\u001b[0m\n",
      "\u001b[34m#metrics {\"StartTime\": 1627320059.7853208, \"EndTime\": 1627320059.7853365, \"Dimensions\": {\"Algorithm\": \"Linear Learner\", \"Host\": \"algo-1\", \"Operation\": \"training\", \"epoch\": 0, \"model\": 15}, \"Metrics\": {\"train_absolute_loss_objective\": {\"sum\": 0.8575868797302246, \"count\": 1, \"min\": 0.8575868797302246, \"max\": 0.8575868797302246}}}\n",
      "\u001b[0m\n",
      "\u001b[34m#metrics {\"StartTime\": 1627320059.785386, \"EndTime\": 1627320059.785412, \"Dimensions\": {\"Algorithm\": \"Linear Learner\", \"Host\": \"algo-1\", \"Operation\": \"training\", \"epoch\": 0, \"model\": 16}, \"Metrics\": {\"train_absolute_loss_objective\": {\"sum\": 0.8678204917907715, \"count\": 1, \"min\": 0.8678204917907715, \"max\": 0.8678204917907715}}}\n",
      "\u001b[0m\n",
      "\u001b[34m#metrics {\"StartTime\": 1627320059.7854636, \"EndTime\": 1627320059.785479, \"Dimensions\": {\"Algorithm\": \"Linear Learner\", \"Host\": \"algo-1\", \"Operation\": \"training\", \"epoch\": 0, \"model\": 17}, \"Metrics\": {\"train_absolute_loss_objective\": {\"sum\": 0.9195925712585449, \"count\": 1, \"min\": 0.9195925712585449, \"max\": 0.9195925712585449}}}\n",
      "\u001b[0m\n",
      "\u001b[34m#metrics {\"StartTime\": 1627320059.7855413, \"EndTime\": 1627320059.7855592, \"Dimensions\": {\"Algorithm\": \"Linear Learner\", \"Host\": \"algo-1\", \"Operation\": \"training\", \"epoch\": 0, \"model\": 18}, \"Metrics\": {\"train_absolute_loss_objective\": {\"sum\": 0.8951596641540527, \"count\": 1, \"min\": 0.8951596641540527, \"max\": 0.8951596641540527}}}\n",
      "\u001b[0m\n",
      "\u001b[34m#metrics {\"StartTime\": 1627320059.785614, \"EndTime\": 1627320059.7856293, \"Dimensions\": {\"Algorithm\": \"Linear Learner\", \"Host\": \"algo-1\", \"Operation\": \"training\", \"epoch\": 0, \"model\": 19}, \"Metrics\": {\"train_absolute_loss_objective\": {\"sum\": 0.8924304389953613, \"count\": 1, \"min\": 0.8924304389953613, \"max\": 0.8924304389953613}}}\n",
      "\u001b[0m\n",
      "\u001b[34m#metrics {\"StartTime\": 1627320059.785683, \"EndTime\": 1627320059.7856996, \"Dimensions\": {\"Algorithm\": \"Linear Learner\", \"Host\": \"algo-1\", \"Operation\": \"training\", \"epoch\": 0, \"model\": 20}, \"Metrics\": {\"train_absolute_loss_objective\": {\"sum\": 0.8714673900604248, \"count\": 1, \"min\": 0.8714673900604248, \"max\": 0.8714673900604248}}}\n",
      "\u001b[0m\n",
      "\u001b[34m#metrics {\"StartTime\": 1627320059.785754, \"EndTime\": 1627320059.78577, \"Dimensions\": {\"Algorithm\": \"Linear Learner\", \"Host\": \"algo-1\", \"Operation\": \"training\", \"epoch\": 0, \"model\": 21}, \"Metrics\": {\"train_absolute_loss_objective\": {\"sum\": 0.8879649353027343, \"count\": 1, \"min\": 0.8879649353027343, \"max\": 0.8879649353027343}}}\n",
      "\u001b[0m\n",
      "\u001b[34m#metrics {\"StartTime\": 1627320059.78582, \"EndTime\": 1627320059.7858353, \"Dimensions\": {\"Algorithm\": \"Linear Learner\", \"Host\": \"algo-1\", \"Operation\": \"training\", \"epoch\": 0, \"model\": 22}, \"Metrics\": {\"train_absolute_loss_objective\": {\"sum\": 0.8179947376251221, \"count\": 1, \"min\": 0.8179947376251221, \"max\": 0.8179947376251221}}}\n",
      "\u001b[0m\n",
      "\u001b[34m#metrics {\"StartTime\": 1627320059.7858865, \"EndTime\": 1627320059.7858968, \"Dimensions\": {\"Algorithm\": \"Linear Learner\", \"Host\": \"algo-1\", \"Operation\": \"training\", \"epoch\": 0, \"model\": 23}, \"Metrics\": {\"train_absolute_loss_objective\": {\"sum\": 0.9163406753540039, \"count\": 1, \"min\": 0.9163406753540039, \"max\": 0.9163406753540039}}}\n",
      "\u001b[0m\n",
      "\u001b[34m#metrics {\"StartTime\": 1627320059.7859406, \"EndTime\": 1627320059.7859554, \"Dimensions\": {\"Algorithm\": \"Linear Learner\", \"Host\": \"algo-1\", \"Operation\": \"training\", \"epoch\": 0, \"model\": 24}, \"Metrics\": {\"train_absolute_loss_objective\": {\"sum\": 0.8699367713928222, \"count\": 1, \"min\": 0.8699367713928222, \"max\": 0.8699367713928222}}}\n",
      "\u001b[0m\n",
      "\u001b[34m#metrics {\"StartTime\": 1627320059.7860143, \"EndTime\": 1627320059.7860303, \"Dimensions\": {\"Algorithm\": \"Linear Learner\", \"Host\": \"algo-1\", \"Operation\": \"training\", \"epoch\": 0, \"model\": 25}, \"Metrics\": {\"train_absolute_loss_objective\": {\"sum\": 0.9380989646911622, \"count\": 1, \"min\": 0.9380989646911622, \"max\": 0.9380989646911622}}}\n",
      "\u001b[0m\n",
      "\u001b[34m#metrics {\"StartTime\": 1627320059.7860825, \"EndTime\": 1627320059.7860987, \"Dimensions\": {\"Algorithm\": \"Linear Learner\", \"Host\": \"algo-1\", \"Operation\": \"training\", \"epoch\": 0, \"model\": 26}, \"Metrics\": {\"train_absolute_loss_objective\": {\"sum\": 0.9246377182006836, \"count\": 1, \"min\": 0.9246377182006836, \"max\": 0.9246377182006836}}}\n",
      "\u001b[0m\n",
      "\u001b[34m#metrics {\"StartTime\": 1627320059.7861488, \"EndTime\": 1627320059.7861643, \"Dimensions\": {\"Algorithm\": \"Linear Learner\", \"Host\": \"algo-1\", \"Operation\": \"training\", \"epoch\": 0, \"model\": 27}, \"Metrics\": {\"train_absolute_loss_objective\": {\"sum\": 0.9136248779296875, \"count\": 1, \"min\": 0.9136248779296875, \"max\": 0.9136248779296875}}}\n",
      "\u001b[0m\n",
      "\u001b[34m#metrics {\"StartTime\": 1627320059.7862244, \"EndTime\": 1627320059.7862413, \"Dimensions\": {\"Algorithm\": \"Linear Learner\", \"Host\": \"algo-1\", \"Operation\": \"training\", \"epoch\": 0, \"model\": 28}, \"Metrics\": {\"train_absolute_loss_objective\": {\"sum\": 1.0135854244232179, \"count\": 1, \"min\": 1.0135854244232179, \"max\": 1.0135854244232179}}}\n",
      "\u001b[0m\n",
      "\u001b[34m#metrics {\"StartTime\": 1627320059.7862926, \"EndTime\": 1627320059.7863076, \"Dimensions\": {\"Algorithm\": \"Linear Learner\", \"Host\": \"algo-1\", \"Operation\": \"training\", \"epoch\": 0, \"model\": 29}, \"Metrics\": {\"train_absolute_loss_objective\": {\"sum\": 1.0137302207946777, \"count\": 1, \"min\": 1.0137302207946777, \"max\": 1.0137302207946777}}}\n",
      "\u001b[0m\n",
      "\u001b[34m#metrics {\"StartTime\": 1627320059.7863662, \"EndTime\": 1627320059.7863824, \"Dimensions\": {\"Algorithm\": \"Linear Learner\", \"Host\": \"algo-1\", \"Operation\": \"training\", \"epoch\": 0, \"model\": 30}, \"Metrics\": {\"train_absolute_loss_objective\": {\"sum\": 1.0058898067474364, \"count\": 1, \"min\": 1.0058898067474364, \"max\": 1.0058898067474364}}}\n",
      "\u001b[0m\n",
      "\u001b[34m#metrics {\"StartTime\": 1627320059.7864323, \"EndTime\": 1627320059.7864485, \"Dimensions\": {\"Algorithm\": \"Linear Learner\", \"Host\": \"algo-1\", \"Operation\": \"training\", \"epoch\": 0, \"model\": 31}, \"Metrics\": {\"train_absolute_loss_objective\": {\"sum\": 1.0177430629730224, \"count\": 1, \"min\": 1.0177430629730224, \"max\": 1.0177430629730224}}}\n",
      "\u001b[0m\n",
      "\u001b[34m[07/26/2021 17:20:59 INFO 140025341310784] #quality_metric: host=algo-1, epoch=0, train absolute_loss_objective <loss>=0.9042939281463623\u001b[0m\n",
      "\u001b[34m[07/26/2021 17:20:59 INFO 140025341310784] #early_stopping_criteria_metric: host=algo-1, epoch=0, criteria=absolute_loss_objective, value=0.8125773811340332\u001b[0m\n",
      "\u001b[34m[07/26/2021 17:20:59 INFO 140025341310784] Epoch 0: Loss improved. Updating best model\u001b[0m\n",
      "\u001b[34m[07/26/2021 17:20:59 INFO 140025341310784] Saving model for epoch: 0\u001b[0m\n",
      "\u001b[34m[07/26/2021 17:20:59 INFO 140025341310784] Saved checkpoint to \"/tmp/tmpy0ac96z5/mx-mod-0000.params\"\u001b[0m\n",
      "\u001b[34m[07/26/2021 17:20:59 INFO 140025341310784] #progress_metric: host=algo-1, completed 20.0 % of epochs\u001b[0m\n",
      "\u001b[34m#metrics {\"StartTime\": 1627320059.658704, \"EndTime\": 1627320059.803266, \"Dimensions\": {\"Algorithm\": \"Linear Learner\", \"Host\": \"algo-1\", \"Operation\": \"training\", \"epoch\": 0, \"Meta\": \"training_data_iter\"}, \"Metrics\": {\"Total Records Seen\": {\"sum\": 57.0, \"count\": 1, \"min\": 57, \"max\": 57}, \"Total Batches Seen\": {\"sum\": 13.0, \"count\": 1, \"min\": 13, \"max\": 13}, \"Max Records Seen Between Resets\": {\"sum\": 26.0, \"count\": 1, \"min\": 26, \"max\": 26}, \"Max Batches Seen Between Resets\": {\"sum\": 6.0, \"count\": 1, \"min\": 6, \"max\": 6}, \"Reset Count\": {\"sum\": 3.0, \"count\": 1, \"min\": 3, \"max\": 3}, \"Number of Records Since Last Reset\": {\"sum\": 26.0, \"count\": 1, \"min\": 26, \"max\": 26}, \"Number of Batches Since Last Reset\": {\"sum\": 6.0, \"count\": 1, \"min\": 6, \"max\": 6}}}\n",
      "\u001b[0m\n",
      "\u001b[34m[07/26/2021 17:20:59 INFO 140025341310784] #throughput_metric: host=algo-1, train throughput=179.68144625797885 records/second\u001b[0m\n",
      "\u001b[34m[2021-07-26 17:20:59.905] [tensorio] [info] epoch_stats={\"data_pipeline\": \"/opt/ml/input/data/train\", \"epoch\": 6, \"duration\": 101, \"num_examples\": 6, \"num_bytes\": 1248}\u001b[0m\n",
      "\u001b[34m#metrics {\"StartTime\": 1627320059.9056609, \"EndTime\": 1627320059.905733, \"Dimensions\": {\"Algorithm\": \"Linear Learner\", \"Host\": \"algo-1\", \"Operation\": \"training\", \"epoch\": 1, \"model\": 0}, \"Metrics\": {\"train_absolute_loss_objective\": {\"sum\": 0.8787602519989014, \"count\": 1, \"min\": 0.8787602519989014, \"max\": 0.8787602519989014}}}\n",
      "\u001b[0m\n",
      "\u001b[34m#metrics {\"StartTime\": 1627320059.9058168, \"EndTime\": 1627320059.9058332, \"Dimensions\": {\"Algorithm\": \"Linear Learner\", \"Host\": \"algo-1\", \"Operation\": \"training\", \"epoch\": 1, \"model\": 1}, \"Metrics\": {\"train_absolute_loss_objective\": {\"sum\": 0.8988577556610108, \"count\": 1, \"min\": 0.8988577556610108, \"max\": 0.8988577556610108}}}\n",
      "\u001b[0m\n",
      "\u001b[34m#metrics {\"StartTime\": 1627320059.905882, \"EndTime\": 1627320059.905897, \"Dimensions\": {\"Algorithm\": \"Linear Learner\", \"Host\": \"algo-1\", \"Operation\": \"training\", \"epoch\": 1, \"model\": 2}, \"Metrics\": {\"train_absolute_loss_objective\": {\"sum\": 0.8811948204040527, \"count\": 1, \"min\": 0.8811948204040527, \"max\": 0.8811948204040527}}}\n",
      "\u001b[0m\n",
      "\u001b[34m#metrics {\"StartTime\": 1627320059.9059482, \"EndTime\": 1627320059.905963, \"Dimensions\": {\"Algorithm\": \"Linear Learner\", \"Host\": \"algo-1\", \"Operation\": \"training\", \"epoch\": 1, \"model\": 3}, \"Metrics\": {\"train_absolute_loss_objective\": {\"sum\": 0.8978306770324707, \"count\": 1, \"min\": 0.8978306770324707, \"max\": 0.8978306770324707}}}\n",
      "\u001b[0m\n",
      "\u001b[34m#metrics {\"StartTime\": 1627320059.9060135, \"EndTime\": 1627320059.9060295, \"Dimensions\": {\"Algorithm\": \"Linear Learner\", \"Host\": \"algo-1\", \"Operation\": \"training\", \"epoch\": 1, \"model\": 4}, \"Metrics\": {\"train_absolute_loss_objective\": {\"sum\": 0.3334731674194336, \"count\": 1, \"min\": 0.3334731674194336, \"max\": 0.3334731674194336}}}\n",
      "\u001b[0m\n",
      "\u001b[34m#metrics {\"StartTime\": 1627320059.906079, \"EndTime\": 1627320059.9060946, \"Dimensions\": {\"Algorithm\": \"Linear Learner\", \"Host\": \"algo-1\", \"Operation\": \"training\", \"epoch\": 1, \"model\": 5}, \"Metrics\": {\"train_absolute_loss_objective\": {\"sum\": 0.3410580444335938, \"count\": 1, \"min\": 0.3410580444335938, \"max\": 0.3410580444335938}}}\n",
      "\u001b[0m\n",
      "\u001b[34m#metrics {\"StartTime\": 1627320059.906148, \"EndTime\": 1627320059.9061637, \"Dimensions\": {\"Algorithm\": \"Linear Learner\", \"Host\": \"algo-1\", \"Operation\": \"training\", \"epoch\": 1, \"model\": 6}, \"Metrics\": {\"train_absolute_loss_objective\": {\"sum\": 0.4076571989059448, \"count\": 1, \"min\": 0.4076571989059448, \"max\": 0.4076571989059448}}}\n",
      "\u001b[0m\n",
      "\u001b[34m#metrics {\"StartTime\": 1627320059.9062123, \"EndTime\": 1627320059.9062285, \"Dimensions\": {\"Algorithm\": \"Linear Learner\", \"Host\": \"algo-1\", \"Operation\": \"training\", \"epoch\": 1, \"model\": 7}, \"Metrics\": {\"train_absolute_loss_objective\": {\"sum\": 0.3833120203018188, \"count\": 1, \"min\": 0.3833120203018188, \"max\": 0.3833120203018188}}}\n",
      "\u001b[0m\n",
      "\u001b[34m#metrics {\"StartTime\": 1627320059.906278, \"EndTime\": 1627320059.9062922, \"Dimensions\": {\"Algorithm\": \"Linear Learner\", \"Host\": \"algo-1\", \"Operation\": \"training\", \"epoch\": 1, \"model\": 8}, \"Metrics\": {\"train_absolute_loss_objective\": {\"sum\": 0.9351892852783203, \"count\": 1, \"min\": 0.9351892852783203, \"max\": 0.9351892852783203}}}\n",
      "\u001b[0m\n",
      "\u001b[34m#metrics {\"StartTime\": 1627320059.90634, \"EndTime\": 1627320059.9063554, \"Dimensions\": {\"Algorithm\": \"Linear Learner\", \"Host\": \"algo-1\", \"Operation\": \"training\", \"epoch\": 1, \"model\": 9}, \"Metrics\": {\"train_absolute_loss_objective\": {\"sum\": 0.8666167449951172, \"count\": 1, \"min\": 0.8666167449951172, \"max\": 0.8666167449951172}}}\n",
      "\u001b[0m\n",
      "\u001b[34m#metrics {\"StartTime\": 1627320059.906406, \"EndTime\": 1627320059.9064212, \"Dimensions\": {\"Algorithm\": \"Linear Learner\", \"Host\": \"algo-1\", \"Operation\": \"training\", \"epoch\": 1, \"model\": 10}, \"Metrics\": {\"train_absolute_loss_objective\": {\"sum\": 0.8733790397644043, \"count\": 1, \"min\": 0.8733790397644043, \"max\": 0.8733790397644043}}}\n",
      "\u001b[0m\n",
      "\u001b[34m#metrics {\"StartTime\": 1627320059.9064696, \"EndTime\": 1627320059.9064844, \"Dimensions\": {\"Algorithm\": \"Linear Learner\", \"Host\": \"algo-1\", \"Operation\": \"training\", \"epoch\": 1, \"model\": 11}, \"Metrics\": {\"train_absolute_loss_objective\": {\"sum\": 0.8584256553649903, \"count\": 1, \"min\": 0.8584256553649903, \"max\": 0.8584256553649903}}}\n",
      "\u001b[0m\n",
      "\u001b[34m#metrics {\"StartTime\": 1627320059.9065328, \"EndTime\": 1627320059.9065478, \"Dimensions\": {\"Algorithm\": \"Linear Learner\", \"Host\": \"algo-1\", \"Operation\": \"training\", \"epoch\": 1, \"model\": 12}, \"Metrics\": {\"train_absolute_loss_objective\": {\"sum\": 0.3405045223236084, \"count\": 1, \"min\": 0.3405045223236084, \"max\": 0.3405045223236084}}}\n",
      "\u001b[0m\n",
      "\u001b[34m#metrics {\"StartTime\": 1627320059.9065964, \"EndTime\": 1627320059.9066112, \"Dimensions\": {\"Algorithm\": \"Linear Learner\", \"Host\": \"algo-1\", \"Operation\": \"training\", \"epoch\": 1, \"model\": 13}, \"Metrics\": {\"train_absolute_loss_objective\": {\"sum\": 0.36096402645111086, \"count\": 1, \"min\": 0.36096402645111086, \"max\": 0.36096402645111086}}}\n",
      "\u001b[0m\n",
      "\u001b[34m#metrics {\"StartTime\": 1627320059.906664, \"EndTime\": 1627320059.9066794, \"Dimensions\": {\"Algorithm\": \"Linear Learner\", \"Host\": \"algo-1\", \"Operation\": \"training\", \"epoch\": 1, \"model\": 14}, \"Metrics\": {\"train_absolute_loss_objective\": {\"sum\": 0.3393456220626831, \"count\": 1, \"min\": 0.3393456220626831, \"max\": 0.3393456220626831}}}\n",
      "\u001b[0m\n",
      "\u001b[34m#metrics {\"StartTime\": 1627320059.9067295, \"EndTime\": 1627320059.9067454, \"Dimensions\": {\"Algorithm\": \"Linear Learner\", \"Host\": \"algo-1\", \"Operation\": \"training\", \"epoch\": 1, \"model\": 15}, \"Metrics\": {\"train_absolute_loss_objective\": {\"sum\": 0.365867486000061, \"count\": 1, \"min\": 0.365867486000061, \"max\": 0.365867486000061}}}\n",
      "\u001b[0m\n",
      "\u001b[34m#metrics {\"StartTime\": 1627320059.9068031, \"EndTime\": 1627320059.9068189, \"Dimensions\": {\"Algorithm\": \"Linear Learner\", \"Host\": \"algo-1\", \"Operation\": \"training\", \"epoch\": 1, \"model\": 16}, \"Metrics\": {\"train_absolute_loss_objective\": {\"sum\": 0.8423453140258789, \"count\": 1, \"min\": 0.8423453140258789, \"max\": 0.8423453140258789}}}\n",
      "\u001b[0m\n",
      "\u001b[34m#metrics {\"StartTime\": 1627320059.9068673, \"EndTime\": 1627320059.9068825, \"Dimensions\": {\"Algorithm\": \"Linear Learner\", \"Host\": \"algo-1\", \"Operation\": \"training\", \"epoch\": 1, \"model\": 17}, \"Metrics\": {\"train_absolute_loss_objective\": {\"sum\": 0.8940935516357422, \"count\": 1, \"min\": 0.8940935516357422, \"max\": 0.8940935516357422}}}\n",
      "\u001b[0m\n",
      "\u001b[34m#metrics {\"StartTime\": 1627320059.9069319, \"EndTime\": 1627320059.9069476, \"Dimensions\": {\"Algorithm\": \"Linear Learner\", \"Host\": \"algo-1\", \"Operation\": \"training\", \"epoch\": 1, \"model\": 18}, \"Metrics\": {\"train_absolute_loss_objective\": {\"sum\": 0.8696713638305664, \"count\": 1, \"min\": 0.8696713638305664, \"max\": 0.8696713638305664}}}\n",
      "\u001b[0m\n",
      "\u001b[34m#metrics {\"StartTime\": 1627320059.906997, \"EndTime\": 1627320059.9070134, \"Dimensions\": {\"Algorithm\": \"Linear Learner\", \"Host\": \"algo-1\", \"Operation\": \"training\", \"epoch\": 1, \"model\": 19}, \"Metrics\": {\"train_absolute_loss_objective\": {\"sum\": 0.8669433689117432, \"count\": 1, \"min\": 0.8669433689117432, \"max\": 0.8669433689117432}}}\n",
      "\u001b[0m\n",
      "\u001b[34m#metrics {\"StartTime\": 1627320059.9070635, \"EndTime\": 1627320059.9070797, \"Dimensions\": {\"Algorithm\": \"Linear Learner\", \"Host\": \"algo-1\", \"Operation\": \"training\", \"epoch\": 1, \"model\": 20}, \"Metrics\": {\"train_absolute_loss_objective\": {\"sum\": 0.40719192028045653, \"count\": 1, \"min\": 0.40719192028045653, \"max\": 0.40719192028045653}}}\n",
      "\u001b[0m\n",
      "\u001b[34m#metrics {\"StartTime\": 1627320059.9071307, \"EndTime\": 1627320059.9071455, \"Dimensions\": {\"Algorithm\": \"Linear Learner\", \"Host\": \"algo-1\", \"Operation\": \"training\", \"epoch\": 1, \"model\": 21}, \"Metrics\": {\"train_absolute_loss_objective\": {\"sum\": 0.4193851327896118, \"count\": 1, \"min\": 0.4193851327896118, \"max\": 0.4193851327896118}}}\n",
      "\u001b[0m\n",
      "\u001b[34m#metrics {\"StartTime\": 1627320059.907196, \"EndTime\": 1627320059.9072113, \"Dimensions\": {\"Algorithm\": \"Linear Learner\", \"Host\": \"algo-1\", \"Operation\": \"training\", \"epoch\": 1, \"model\": 22}, \"Metrics\": {\"train_absolute_loss_objective\": {\"sum\": 0.36924769878387453, \"count\": 1, \"min\": 0.36924769878387453, \"max\": 0.36924769878387453}}}\n",
      "\u001b[0m\n",
      "\u001b[34m#metrics {\"StartTime\": 1627320059.9072623, \"EndTime\": 1627320059.9072769, \"Dimensions\": {\"Algorithm\": \"Linear Learner\", \"Host\": \"algo-1\", \"Operation\": \"training\", \"epoch\": 1, \"model\": 23}, \"Metrics\": {\"train_absolute_loss_objective\": {\"sum\": 0.44062541007995604, \"count\": 1, \"min\": 0.44062541007995604, \"max\": 0.44062541007995604}}}\n",
      "\u001b[0m\n",
      "\u001b[34m#metrics {\"StartTime\": 1627320059.9073286, \"EndTime\": 1627320059.9073443, \"Dimensions\": {\"Algorithm\": \"Linear Learner\", \"Host\": \"algo-1\", \"Operation\": \"training\", \"epoch\": 1, \"model\": 24}, \"Metrics\": {\"train_absolute_loss_objective\": {\"sum\": 0.8870134162902832, \"count\": 1, \"min\": 0.8870134162902832, \"max\": 0.8870134162902832}}}\n",
      "\u001b[0m\n",
      "\u001b[34m#metrics {\"StartTime\": 1627320059.9073958, \"EndTime\": 1627320059.9074125, \"Dimensions\": {\"Algorithm\": \"Linear Learner\", \"Host\": \"algo-1\", \"Operation\": \"training\", \"epoch\": 1, \"model\": 25}, \"Metrics\": {\"train_absolute_loss_objective\": {\"sum\": 0.9140034675598144, \"count\": 1, \"min\": 0.9140034675598144, \"max\": 0.9140034675598144}}}\n",
      "\u001b[0m\n",
      "\u001b[34m#metrics {\"StartTime\": 1627320059.9074624, \"EndTime\": 1627320059.9074779, \"Dimensions\": {\"Algorithm\": \"Linear Learner\", \"Host\": \"algo-1\", \"Operation\": \"training\", \"epoch\": 1, \"model\": 26}, \"Metrics\": {\"train_absolute_loss_objective\": {\"sum\": 0.9031820106506347, \"count\": 1, \"min\": 0.9031820106506347, \"max\": 0.9031820106506347}}}\n",
      "\u001b[0m\n",
      "\u001b[34m#metrics {\"StartTime\": 1627320059.9075265, \"EndTime\": 1627320059.9075425, \"Dimensions\": {\"Algorithm\": \"Linear Learner\", \"Host\": \"algo-1\", \"Operation\": \"training\", \"epoch\": 1, \"model\": 27}, \"Metrics\": {\"train_absolute_loss_objective\": {\"sum\": 0.9024260330200196, \"count\": 1, \"min\": 0.9024260330200196, \"max\": 0.9024260330200196}}}\n",
      "\u001b[0m\n",
      "\u001b[34m#metrics {\"StartTime\": 1627320059.9076178, \"EndTime\": 1627320059.9076385, \"Dimensions\": {\"Algorithm\": \"Linear Learner\", \"Host\": \"algo-1\", \"Operation\": \"training\", \"epoch\": 1, \"model\": 28}, \"Metrics\": {\"train_absolute_loss_objective\": {\"sum\": 0.9766716766357422, \"count\": 1, \"min\": 0.9766716766357422, \"max\": 0.9766716766357422}}}\n",
      "\u001b[0m\n",
      "\u001b[34m#metrics {\"StartTime\": 1627320059.9076948, \"EndTime\": 1627320059.9077117, \"Dimensions\": {\"Algorithm\": \"Linear Learner\", \"Host\": \"algo-1\", \"Operation\": \"training\", \"epoch\": 1, \"model\": 29}, \"Metrics\": {\"train_absolute_loss_objective\": {\"sum\": 0.9760753059387207, \"count\": 1, \"min\": 0.9760753059387207, \"max\": 0.9760753059387207}}}\n",
      "\u001b[0m\n",
      "\u001b[34m#metrics {\"StartTime\": 1627320059.9077637, \"EndTime\": 1627320059.90778, \"Dimensions\": {\"Algorithm\": \"Linear Learner\", \"Host\": \"algo-1\", \"Operation\": \"training\", \"epoch\": 1, \"model\": 30}, \"Metrics\": {\"train_absolute_loss_objective\": {\"sum\": 1.0317387294769287, \"count\": 1, \"min\": 1.0317387294769287, \"max\": 1.0317387294769287}}}\n",
      "\u001b[0m\n",
      "\u001b[34m#metrics {\"StartTime\": 1627320059.9078312, \"EndTime\": 1627320059.9078462, \"Dimensions\": {\"Algorithm\": \"Linear Learner\", \"Host\": \"algo-1\", \"Operation\": \"training\", \"epoch\": 1, \"model\": 31}, \"Metrics\": {\"train_absolute_loss_objective\": {\"sum\": 0.9688079071044922, \"count\": 1, \"min\": 0.9688079071044922, \"max\": 0.9688079071044922}}}\n",
      "\u001b[0m\n",
      "\u001b[34m[07/26/2021 17:20:59 INFO 140025341310784] #quality_metric: host=algo-1, epoch=1, train absolute_loss_objective <loss>=0.8787602519989014\u001b[0m\n",
      "\u001b[34m[07/26/2021 17:20:59 INFO 140025341310784] #early_stopping_criteria_metric: host=algo-1, epoch=1, criteria=absolute_loss_objective, value=0.3334731674194336\u001b[0m\n",
      "\u001b[34m[07/26/2021 17:20:59 INFO 140025341310784] Epoch 1: Loss improved. Updating best model\u001b[0m\n",
      "\u001b[34m[07/26/2021 17:20:59 INFO 140025341310784] Saving model for epoch: 1\u001b[0m\n",
      "\u001b[34m[07/26/2021 17:20:59 INFO 140025341310784] Saved checkpoint to \"/tmp/tmpr3syb7b6/mx-mod-0000.params\"\u001b[0m\n",
      "\u001b[34m[07/26/2021 17:20:59 INFO 140025341310784] #progress_metric: host=algo-1, completed 40.0 % of epochs\u001b[0m\n",
      "\u001b[34m#metrics {\"StartTime\": 1627320059.8035676, \"EndTime\": 1627320059.917772, \"Dimensions\": {\"Algorithm\": \"Linear Learner\", \"Host\": \"algo-1\", \"Operation\": \"training\", \"epoch\": 1, \"Meta\": \"training_data_iter\"}, \"Metrics\": {\"Total Records Seen\": {\"sum\": 83.0, \"count\": 1, \"min\": 83, \"max\": 83}, \"Total Batches Seen\": {\"sum\": 19.0, \"count\": 1, \"min\": 19, \"max\": 19}, \"Max Records Seen Between Resets\": {\"sum\": 26.0, \"count\": 1, \"min\": 26, \"max\": 26}, \"Max Batches Seen Between Resets\": {\"sum\": 6.0, \"count\": 1, \"min\": 6, \"max\": 6}, \"Reset Count\": {\"sum\": 4.0, \"count\": 1, \"min\": 4, \"max\": 4}, \"Number of Records Since Last Reset\": {\"sum\": 26.0, \"count\": 1, \"min\": 26, \"max\": 26}, \"Number of Batches Since Last Reset\": {\"sum\": 6.0, \"count\": 1, \"min\": 6, \"max\": 6}}}\n",
      "\u001b[0m\n",
      "\u001b[34m[07/26/2021 17:20:59 INFO 140025341310784] #throughput_metric: host=algo-1, train throughput=227.36341024566494 records/second\u001b[0m\n",
      "\u001b[34m[2021-07-26 17:21:00.095] [tensorio] [info] epoch_stats={\"data_pipeline\": \"/opt/ml/input/data/train\", \"epoch\": 8, \"duration\": 177, \"num_examples\": 6, \"num_bytes\": 1248}\u001b[0m\n",
      "\u001b[34m#metrics {\"StartTime\": 1627320060.0957623, \"EndTime\": 1627320060.095843, \"Dimensions\": {\"Algorithm\": \"Linear Learner\", \"Host\": \"algo-1\", \"Operation\": \"training\", \"epoch\": 2, \"model\": 0}, \"Metrics\": {\"train_absolute_loss_objective\": {\"sum\": 0.8557878398895263, \"count\": 1, \"min\": 0.8557878398895263, \"max\": 0.8557878398895263}}}\n",
      "\u001b[0m\n",
      "\u001b[34m#metrics {\"StartTime\": 1627320060.0959573, \"EndTime\": 1627320060.0959737, \"Dimensions\": {\"Algorithm\": \"Linear Learner\", \"Host\": \"algo-1\", \"Operation\": \"training\", \"epoch\": 2, \"model\": 1}, \"Metrics\": {\"train_absolute_loss_objective\": {\"sum\": 0.8758075141906738, \"count\": 1, \"min\": 0.8758075141906738, \"max\": 0.8758075141906738}}}\n",
      "\u001b[0m\n",
      "\u001b[34m#metrics {\"StartTime\": 1627320060.0960155, \"EndTime\": 1627320060.0960267, \"Dimensions\": {\"Algorithm\": \"Linear Learner\", \"Host\": \"algo-1\", \"Operation\": \"training\", \"epoch\": 2, \"model\": 2}, \"Metrics\": {\"train_absolute_loss_objective\": {\"sum\": 0.8582223701477051, \"count\": 1, \"min\": 0.8582223701477051, \"max\": 0.8582223701477051}}}\n",
      "\u001b[0m\n",
      "\u001b[34m#metrics {\"StartTime\": 1627320060.096063, \"EndTime\": 1627320060.096073, \"Dimensions\": {\"Algorithm\": \"Linear Learner\", \"Host\": \"algo-1\", \"Operation\": \"training\", \"epoch\": 2, \"model\": 3}, \"Metrics\": {\"train_absolute_loss_objective\": {\"sum\": 0.8747804641723633, \"count\": 1, \"min\": 0.8747804641723633, \"max\": 0.8747804641723633}}}\n",
      "\u001b[0m\n",
      "\u001b[34m#metrics {\"StartTime\": 1627320060.09613, \"EndTime\": 1627320060.0961428, \"Dimensions\": {\"Algorithm\": \"Linear Learner\", \"Host\": \"algo-1\", \"Operation\": \"training\", \"epoch\": 2, \"model\": 4}, \"Metrics\": {\"train_absolute_loss_objective\": {\"sum\": 0.2307751441001892, \"count\": 1, \"min\": 0.2307751441001892, \"max\": 0.2307751441001892}}}\n",
      "\u001b[0m\n",
      "\u001b[34m#metrics {\"StartTime\": 1627320060.096181, \"EndTime\": 1627320060.0961907, \"Dimensions\": {\"Algorithm\": \"Linear Learner\", \"Host\": \"algo-1\", \"Operation\": \"training\", \"epoch\": 2, \"model\": 5}, \"Metrics\": {\"train_absolute_loss_objective\": {\"sum\": 0.22610701322555543, \"count\": 1, \"min\": 0.22610701322555543, \"max\": 0.22610701322555543}}}\n",
      "\u001b[0m\n",
      "\u001b[34m#metrics {\"StartTime\": 1627320060.0962253, \"EndTime\": 1627320060.0962348, \"Dimensions\": {\"Algorithm\": \"Linear Learner\", \"Host\": \"algo-1\", \"Operation\": \"training\", \"epoch\": 2, \"model\": 6}, \"Metrics\": {\"train_absolute_loss_objective\": {\"sum\": 0.2244215178489685, \"count\": 1, \"min\": 0.2244215178489685, \"max\": 0.2244215178489685}}}\n",
      "\u001b[0m\n",
      "\u001b[34m#metrics {\"StartTime\": 1627320060.0962903, \"EndTime\": 1627320060.0963035, \"Dimensions\": {\"Algorithm\": \"Linear Learner\", \"Host\": \"algo-1\", \"Operation\": \"training\", \"epoch\": 2, \"model\": 7}, \"Metrics\": {\"train_absolute_loss_objective\": {\"sum\": 0.2227797245979309, \"count\": 1, \"min\": 0.2227797245979309, \"max\": 0.2227797245979309}}}\n",
      "\u001b[0m\n",
      "\u001b[34m#metrics {\"StartTime\": 1627320060.0963635, \"EndTime\": 1627320060.0963757, \"Dimensions\": {\"Algorithm\": \"Linear Learner\", \"Host\": \"algo-1\", \"Operation\": \"training\", \"epoch\": 2, \"model\": 8}, \"Metrics\": {\"train_absolute_loss_objective\": {\"sum\": 0.9122178363800049, \"count\": 1, \"min\": 0.9122178363800049, \"max\": 0.9122178363800049}}}\n",
      "\u001b[0m\n",
      "\u001b[34m#metrics {\"StartTime\": 1627320060.096412, \"EndTime\": 1627320060.0964217, \"Dimensions\": {\"Algorithm\": \"Linear Learner\", \"Host\": \"algo-1\", \"Operation\": \"training\", \"epoch\": 2, \"model\": 9}, \"Metrics\": {\"train_absolute_loss_objective\": {\"sum\": 0.8435677719116211, \"count\": 1, \"min\": 0.8435677719116211, \"max\": 0.8435677719116211}}}\n",
      "\u001b[0m\n",
      "\u001b[34m#metrics {\"StartTime\": 1627320060.0964553, \"EndTime\": 1627320060.096465, \"Dimensions\": {\"Algorithm\": \"Linear Learner\", \"Host\": \"algo-1\", \"Operation\": \"training\", \"epoch\": 2, \"model\": 10}, \"Metrics\": {\"train_absolute_loss_objective\": {\"sum\": 0.8504078483581543, \"count\": 1, \"min\": 0.8504078483581543, \"max\": 0.8504078483581543}}}\n",
      "\u001b[0m\n",
      "\u001b[34m#metrics {\"StartTime\": 1627320060.0965233, \"EndTime\": 1627320060.0965352, \"Dimensions\": {\"Algorithm\": \"Linear Learner\", \"Host\": \"algo-1\", \"Operation\": \"training\", \"epoch\": 2, \"model\": 11}, \"Metrics\": {\"train_absolute_loss_objective\": {\"sum\": 0.8353767108917236, \"count\": 1, \"min\": 0.8353767108917236, \"max\": 0.8353767108917236}}}\n",
      "\u001b[0m\n",
      "\u001b[34m#metrics {\"StartTime\": 1627320060.096571, \"EndTime\": 1627320060.0965805, \"Dimensions\": {\"Algorithm\": \"Linear Learner\", \"Host\": \"algo-1\", \"Operation\": \"training\", \"epoch\": 2, \"model\": 12}, \"Metrics\": {\"train_absolute_loss_objective\": {\"sum\": 0.2244547700881958, \"count\": 1, \"min\": 0.2244547700881958, \"max\": 0.2244547700881958}}}\n",
      "\u001b[0m\n",
      "\u001b[34m#metrics {\"StartTime\": 1627320060.0966246, \"EndTime\": 1627320060.0966341, \"Dimensions\": {\"Algorithm\": \"Linear Learner\", \"Host\": \"algo-1\", \"Operation\": \"training\", \"epoch\": 2, \"model\": 13}, \"Metrics\": {\"train_absolute_loss_objective\": {\"sum\": 0.2296970510482788, \"count\": 1, \"min\": 0.2296970510482788, \"max\": 0.2296970510482788}}}\n",
      "\u001b[0m\n",
      "\u001b[34m#metrics {\"StartTime\": 1627320060.0966682, \"EndTime\": 1627320060.0966775, \"Dimensions\": {\"Algorithm\": \"Linear Learner\", \"Host\": \"algo-1\", \"Operation\": \"training\", \"epoch\": 2, \"model\": 14}, \"Metrics\": {\"train_absolute_loss_objective\": {\"sum\": 0.22535941362380982, \"count\": 1, \"min\": 0.22535941362380982, \"max\": 0.22535941362380982}}}\n",
      "\u001b[0m\n",
      "\u001b[34m#metrics {\"StartTime\": 1627320060.0967367, \"EndTime\": 1627320060.0967486, \"Dimensions\": {\"Algorithm\": \"Linear Learner\", \"Host\": \"algo-1\", \"Operation\": \"training\", \"epoch\": 2, \"model\": 15}, \"Metrics\": {\"train_absolute_loss_objective\": {\"sum\": 0.22785578012466431, \"count\": 1, \"min\": 0.22785578012466431, \"max\": 0.22785578012466431}}}\n",
      "\u001b[0m\n",
      "\u001b[34m#metrics {\"StartTime\": 1627320060.096785, \"EndTime\": 1627320060.0967948, \"Dimensions\": {\"Algorithm\": \"Linear Learner\", \"Host\": \"algo-1\", \"Operation\": \"training\", \"epoch\": 2, \"model\": 16}, \"Metrics\": {\"train_absolute_loss_objective\": {\"sum\": 0.819527473449707, \"count\": 1, \"min\": 0.819527473449707, \"max\": 0.819527473449707}}}\n",
      "\u001b[0m\n",
      "\u001b[34m#metrics {\"StartTime\": 1627320060.0968287, \"EndTime\": 1627320060.0968385, \"Dimensions\": {\"Algorithm\": \"Linear Learner\", \"Host\": \"algo-1\", \"Operation\": \"training\", \"epoch\": 2, \"model\": 17}, \"Metrics\": {\"train_absolute_loss_objective\": {\"sum\": 0.8711633396148681, \"count\": 1, \"min\": 0.8711633396148681, \"max\": 0.8711633396148681}}}\n",
      "\u001b[0m\n",
      "\u001b[34m#metrics {\"StartTime\": 1627320060.0968962, \"EndTime\": 1627320060.096908, \"Dimensions\": {\"Algorithm\": \"Linear Learner\", \"Host\": \"algo-1\", \"Operation\": \"training\", \"epoch\": 2, \"model\": 18}, \"Metrics\": {\"train_absolute_loss_objective\": {\"sum\": 0.8468341159820557, \"count\": 1, \"min\": 0.8468341159820557, \"max\": 0.8468341159820557}}}\n",
      "\u001b[0m\n",
      "\u001b[34m#metrics {\"StartTime\": 1627320060.096944, \"EndTime\": 1627320060.0969536, \"Dimensions\": {\"Algorithm\": \"Linear Learner\", \"Host\": \"algo-1\", \"Operation\": \"training\", \"epoch\": 2, \"model\": 19}, \"Metrics\": {\"train_absolute_loss_objective\": {\"sum\": 0.844030876159668, \"count\": 1, \"min\": 0.844030876159668, \"max\": 0.844030876159668}}}\n",
      "\u001b[0m\n",
      "\u001b[34m#metrics {\"StartTime\": 1627320060.0969877, \"EndTime\": 1627320060.096997, \"Dimensions\": {\"Algorithm\": \"Linear Learner\", \"Host\": \"algo-1\", \"Operation\": \"training\", \"epoch\": 2, \"model\": 20}, \"Metrics\": {\"train_absolute_loss_objective\": {\"sum\": 0.26402831077575684, \"count\": 1, \"min\": 0.26402831077575684, \"max\": 0.26402831077575684}}}\n",
      "\u001b[0m\n",
      "\u001b[34m#metrics {\"StartTime\": 1627320060.0970366, \"EndTime\": 1627320060.0970485, \"Dimensions\": {\"Algorithm\": \"Linear Learner\", \"Host\": \"algo-1\", \"Operation\": \"training\", \"epoch\": 2, \"model\": 21}, \"Metrics\": {\"train_absolute_loss_objective\": {\"sum\": 0.268181676864624, \"count\": 1, \"min\": 0.268181676864624, \"max\": 0.268181676864624}}}\n",
      "\u001b[0m\n",
      "\u001b[34m#metrics {\"StartTime\": 1627320060.0970926, \"EndTime\": 1627320060.0971072, \"Dimensions\": {\"Algorithm\": \"Linear Learner\", \"Host\": \"algo-1\", \"Operation\": \"training\", \"epoch\": 2, \"model\": 22}, \"Metrics\": {\"train_absolute_loss_objective\": {\"sum\": 0.2838846945762634, \"count\": 1, \"min\": 0.2838846945762634, \"max\": 0.2838846945762634}}}\n",
      "\u001b[0m\n",
      "\u001b[34m#metrics {\"StartTime\": 1627320060.0971496, \"EndTime\": 1627320060.0971622, \"Dimensions\": {\"Algorithm\": \"Linear Learner\", \"Host\": \"algo-1\", \"Operation\": \"training\", \"epoch\": 2, \"model\": 23}, \"Metrics\": {\"train_absolute_loss_objective\": {\"sum\": 0.2728085947036743, \"count\": 1, \"min\": 0.2728085947036743, \"max\": 0.2728085947036743}}}\n",
      "\u001b[0m\n",
      "\u001b[34m#metrics {\"StartTime\": 1627320060.09732, \"EndTime\": 1627320060.0973363, \"Dimensions\": {\"Algorithm\": \"Linear Learner\", \"Host\": \"algo-1\", \"Operation\": \"training\", \"epoch\": 2, \"model\": 24}, \"Metrics\": {\"train_absolute_loss_objective\": {\"sum\": 0.9032280540466309, \"count\": 1, \"min\": 0.9032280540466309, \"max\": 0.9032280540466309}}}\n",
      "\u001b[0m\n",
      "\u001b[34m#metrics {\"StartTime\": 1627320060.09738, \"EndTime\": 1627320060.0973914, \"Dimensions\": {\"Algorithm\": \"Linear Learner\", \"Host\": \"algo-1\", \"Operation\": \"training\", \"epoch\": 2, \"model\": 25}, \"Metrics\": {\"train_absolute_loss_objective\": {\"sum\": 0.898495683670044, \"count\": 1, \"min\": 0.898495683670044, \"max\": 0.898495683670044}}}\n",
      "\u001b[0m\n",
      "\u001b[34m#metrics {\"StartTime\": 1627320060.0974677, \"EndTime\": 1627320060.0974839, \"Dimensions\": {\"Algorithm\": \"Linear Learner\", \"Host\": \"algo-1\", \"Operation\": \"training\", \"epoch\": 2, \"model\": 26}, \"Metrics\": {\"train_absolute_loss_objective\": {\"sum\": 0.89726243019104, \"count\": 1, \"min\": 0.89726243019104, \"max\": 0.89726243019104}}}\n",
      "\u001b[0m\n",
      "\u001b[34m#metrics {\"StartTime\": 1627320060.097534, \"EndTime\": 1627320060.09755, \"Dimensions\": {\"Algorithm\": \"Linear Learner\", \"Host\": \"algo-1\", \"Operation\": \"training\", \"epoch\": 2, \"model\": 27}, \"Metrics\": {\"train_absolute_loss_objective\": {\"sum\": 0.9070722007751465, \"count\": 1, \"min\": 0.9070722007751465, \"max\": 0.9070722007751465}}}\n",
      "\u001b[0m\n",
      "\u001b[34m#metrics {\"StartTime\": 1627320060.097597, \"EndTime\": 1627320060.0976129, \"Dimensions\": {\"Algorithm\": \"Linear Learner\", \"Host\": \"algo-1\", \"Operation\": \"training\", \"epoch\": 2, \"model\": 28}, \"Metrics\": {\"train_absolute_loss_objective\": {\"sum\": 0.9712049865722656, \"count\": 1, \"min\": 0.9712049865722656, \"max\": 0.9712049865722656}}}\n",
      "\u001b[0m\n",
      "\u001b[34m#metrics {\"StartTime\": 1627320060.0976892, \"EndTime\": 1627320060.0977051, \"Dimensions\": {\"Algorithm\": \"Linear Learner\", \"Host\": \"algo-1\", \"Operation\": \"training\", \"epoch\": 2, \"model\": 29}, \"Metrics\": {\"train_absolute_loss_objective\": {\"sum\": 0.9723778820037842, \"count\": 1, \"min\": 0.9723778820037842, \"max\": 0.9723778820037842}}}\n",
      "\u001b[0m\n",
      "\u001b[34m#metrics {\"StartTime\": 1627320060.097751, \"EndTime\": 1627320060.0977752, \"Dimensions\": {\"Algorithm\": \"Linear Learner\", \"Host\": \"algo-1\", \"Operation\": \"training\", \"epoch\": 2, \"model\": 30}, \"Metrics\": {\"train_absolute_loss_objective\": {\"sum\": 0.9227527999877929, \"count\": 1, \"min\": 0.9227527999877929, \"max\": 0.9227527999877929}}}\n",
      "\u001b[0m\n",
      "\u001b[34m#metrics {\"StartTime\": 1627320060.0978186, \"EndTime\": 1627320060.097832, \"Dimensions\": {\"Algorithm\": \"Linear Learner\", \"Host\": \"algo-1\", \"Operation\": \"training\", \"epoch\": 2, \"model\": 31}, \"Metrics\": {\"train_absolute_loss_objective\": {\"sum\": 0.994349536895752, \"count\": 1, \"min\": 0.994349536895752, \"max\": 0.994349536895752}}}\n",
      "\u001b[0m\n",
      "\u001b[34m[07/26/2021 17:21:00 INFO 140025341310784] #quality_metric: host=algo-1, epoch=2, train absolute_loss_objective <loss>=0.8557878398895263\u001b[0m\n",
      "\u001b[34m[07/26/2021 17:21:00 INFO 140025341310784] #early_stopping_criteria_metric: host=algo-1, epoch=2, criteria=absolute_loss_objective, value=0.2227797245979309\u001b[0m\n",
      "\u001b[34m[07/26/2021 17:21:00 INFO 140025341310784] Epoch 2: Loss improved. Updating best model\u001b[0m\n",
      "\u001b[34m[07/26/2021 17:21:00 INFO 140025341310784] Saving model for epoch: 2\u001b[0m\n",
      "\u001b[34m[07/26/2021 17:21:00 INFO 140025341310784] Saved checkpoint to \"/tmp/tmpqumulmhj/mx-mod-0000.params\"\u001b[0m\n",
      "\u001b[34m[07/26/2021 17:21:00 INFO 140025341310784] #progress_metric: host=algo-1, completed 60.0 % of epochs\u001b[0m\n",
      "\u001b[34m#metrics {\"StartTime\": 1627320059.918071, \"EndTime\": 1627320060.114796, \"Dimensions\": {\"Algorithm\": \"Linear Learner\", \"Host\": \"algo-1\", \"Operation\": \"training\", \"epoch\": 2, \"Meta\": \"training_data_iter\"}, \"Metrics\": {\"Total Records Seen\": {\"sum\": 109.0, \"count\": 1, \"min\": 109, \"max\": 109}, \"Total Batches Seen\": {\"sum\": 25.0, \"count\": 1, \"min\": 25, \"max\": 25}, \"Max Records Seen Between Resets\": {\"sum\": 26.0, \"count\": 1, \"min\": 26, \"max\": 26}, \"Max Batches Seen Between Resets\": {\"sum\": 6.0, \"count\": 1, \"min\": 6, \"max\": 6}, \"Reset Count\": {\"sum\": 5.0, \"count\": 1, \"min\": 5, \"max\": 5}, \"Number of Records Since Last Reset\": {\"sum\": 26.0, \"count\": 1, \"min\": 26, \"max\": 26}, \"Number of Batches Since Last Reset\": {\"sum\": 6.0, \"count\": 1, \"min\": 6, \"max\": 6}}}\n",
      "\u001b[0m\n",
      "\u001b[34m[07/26/2021 17:21:00 INFO 140025341310784] #throughput_metric: host=algo-1, train throughput=132.06902590348534 records/second\u001b[0m\n",
      "\u001b[34m[2021-07-26 17:21:00.264] [tensorio] [info] epoch_stats={\"data_pipeline\": \"/opt/ml/input/data/train\", \"epoch\": 10, \"duration\": 146, \"num_examples\": 6, \"num_bytes\": 1248}\u001b[0m\n",
      "\u001b[34m#metrics {\"StartTime\": 1627320060.2649784, \"EndTime\": 1627320060.2650638, \"Dimensions\": {\"Algorithm\": \"Linear Learner\", \"Host\": \"algo-1\", \"Operation\": \"training\", \"epoch\": 3, \"model\": 0}, \"Metrics\": {\"train_absolute_loss_objective\": {\"sum\": 0.8331165313720703, \"count\": 1, \"min\": 0.8331165313720703, \"max\": 0.8331165313720703}}}\n",
      "\u001b[0m\n",
      "\u001b[34m#metrics {\"StartTime\": 1627320060.265156, \"EndTime\": 1627320060.2651746, \"Dimensions\": {\"Algorithm\": \"Linear Learner\", \"Host\": \"algo-1\", \"Operation\": \"training\", \"epoch\": 3, \"model\": 1}, \"Metrics\": {\"train_absolute_loss_objective\": {\"sum\": 0.8529072380065919, \"count\": 1, \"min\": 0.8529072380065919, \"max\": 0.8529072380065919}}}\n",
      "\u001b[0m\n",
      "\u001b[34m#metrics {\"StartTime\": 1627320060.2652237, \"EndTime\": 1627320060.2652378, \"Dimensions\": {\"Algorithm\": \"Linear Learner\", \"Host\": \"algo-1\", \"Operation\": \"training\", \"epoch\": 3, \"model\": 2}, \"Metrics\": {\"train_absolute_loss_objective\": {\"sum\": 0.8355510902404785, \"count\": 1, \"min\": 0.8355510902404785, \"max\": 0.8355510902404785}}}\n",
      "\u001b[0m\n",
      "\u001b[34m#metrics {\"StartTime\": 1627320060.26528, \"EndTime\": 1627320060.2652938, \"Dimensions\": {\"Algorithm\": \"Linear Learner\", \"Host\": \"algo-1\", \"Operation\": \"training\", \"epoch\": 3, \"model\": 3}, \"Metrics\": {\"train_absolute_loss_objective\": {\"sum\": 0.8518801689147949, \"count\": 1, \"min\": 0.8518801689147949, \"max\": 0.8518801689147949}}}\n",
      "\u001b[0m\n",
      "\u001b[34m#metrics {\"StartTime\": 1627320060.2653372, \"EndTime\": 1627320060.2653508, \"Dimensions\": {\"Algorithm\": \"Linear Learner\", \"Host\": \"algo-1\", \"Operation\": \"training\", \"epoch\": 3, \"model\": 4}, \"Metrics\": {\"train_absolute_loss_objective\": {\"sum\": 0.2680152273178101, \"count\": 1, \"min\": 0.2680152273178101, \"max\": 0.2680152273178101}}}\n",
      "\u001b[0m\n",
      "\u001b[34m#metrics {\"StartTime\": 1627320060.265402, \"EndTime\": 1627320060.2654185, \"Dimensions\": {\"Algorithm\": \"Linear Learner\", \"Host\": \"algo-1\", \"Operation\": \"training\", \"epoch\": 3, \"model\": 5}, \"Metrics\": {\"train_absolute_loss_objective\": {\"sum\": 0.2649799585342407, \"count\": 1, \"min\": 0.2649799585342407, \"max\": 0.2649799585342407}}}\n",
      "\u001b[0m\n",
      "\u001b[34m#metrics {\"StartTime\": 1627320060.2654696, \"EndTime\": 1627320060.2654846, \"Dimensions\": {\"Algorithm\": \"Linear Learner\", \"Host\": \"algo-1\", \"Operation\": \"training\", \"epoch\": 3, \"model\": 6}, \"Metrics\": {\"train_absolute_loss_objective\": {\"sum\": 0.3059003162384033, \"count\": 1, \"min\": 0.3059003162384033, \"max\": 0.3059003162384033}}}\n",
      "\u001b[0m\n",
      "\u001b[34m#metrics {\"StartTime\": 1627320060.2655377, \"EndTime\": 1627320060.265554, \"Dimensions\": {\"Algorithm\": \"Linear Learner\", \"Host\": \"algo-1\", \"Operation\": \"training\", \"epoch\": 3, \"model\": 7}, \"Metrics\": {\"train_absolute_loss_objective\": {\"sum\": 0.3382271695137024, \"count\": 1, \"min\": 0.3382271695137024, \"max\": 0.3382271695137024}}}\n",
      "\u001b[0m\n",
      "\u001b[34m#metrics {\"StartTime\": 1627320060.2656026, \"EndTime\": 1627320060.2656183, \"Dimensions\": {\"Algorithm\": \"Linear Learner\", \"Host\": \"algo-1\", \"Operation\": \"training\", \"epoch\": 3, \"model\": 8}, \"Metrics\": {\"train_absolute_loss_objective\": {\"sum\": 0.8895487308502197, \"count\": 1, \"min\": 0.8895487308502197, \"max\": 0.8895487308502197}}}\n",
      "\u001b[0m\n",
      "\u001b[34m#metrics {\"StartTime\": 1627320060.2656655, \"EndTime\": 1627320060.265682, \"Dimensions\": {\"Algorithm\": \"Linear Learner\", \"Host\": \"algo-1\", \"Operation\": \"training\", \"epoch\": 3, \"model\": 9}, \"Metrics\": {\"train_absolute_loss_objective\": {\"sum\": 0.8206700229644776, \"count\": 1, \"min\": 0.8206700229644776, \"max\": 0.8206700229644776}}}\n",
      "\u001b[0m\n",
      "\u001b[34m#metrics {\"StartTime\": 1627320060.265732, \"EndTime\": 1627320060.2657468, \"Dimensions\": {\"Algorithm\": \"Linear Learner\", \"Host\": \"algo-1\", \"Operation\": \"training\", \"epoch\": 3, \"model\": 10}, \"Metrics\": {\"train_absolute_loss_objective\": {\"sum\": 0.8277390480041504, \"count\": 1, \"min\": 0.8277390480041504, \"max\": 0.8277390480041504}}}\n",
      "\u001b[0m\n",
      "\u001b[34m#metrics {\"StartTime\": 1627320060.2657933, \"EndTime\": 1627320060.2658098, \"Dimensions\": {\"Algorithm\": \"Linear Learner\", \"Host\": \"algo-1\", \"Operation\": \"training\", \"epoch\": 3, \"model\": 11}, \"Metrics\": {\"train_absolute_loss_objective\": {\"sum\": 0.8124790287017822, \"count\": 1, \"min\": 0.8124790287017822, \"max\": 0.8124790287017822}}}\n",
      "\u001b[0m\n",
      "\u001b[34m#metrics {\"StartTime\": 1627320060.2658594, \"EndTime\": 1627320060.265875, \"Dimensions\": {\"Algorithm\": \"Linear Learner\", \"Host\": \"algo-1\", \"Operation\": \"training\", \"epoch\": 3, \"model\": 12}, \"Metrics\": {\"train_absolute_loss_objective\": {\"sum\": 0.26108015298843384, \"count\": 1, \"min\": 0.26108015298843384, \"max\": 0.26108015298843384}}}\n",
      "\u001b[0m\n",
      "\u001b[34m#metrics {\"StartTime\": 1627320060.265927, \"EndTime\": 1627320060.2659416, \"Dimensions\": {\"Algorithm\": \"Linear Learner\", \"Host\": \"algo-1\", \"Operation\": \"training\", \"epoch\": 3, \"model\": 13}, \"Metrics\": {\"train_absolute_loss_objective\": {\"sum\": 0.3276121950149536, \"count\": 1, \"min\": 0.3276121950149536, \"max\": 0.3276121950149536}}}\n",
      "\u001b[0m\n",
      "\u001b[34m#metrics {\"StartTime\": 1627320060.2659905, \"EndTime\": 1627320060.266005, \"Dimensions\": {\"Algorithm\": \"Linear Learner\", \"Host\": \"algo-1\", \"Operation\": \"training\", \"epoch\": 3, \"model\": 14}, \"Metrics\": {\"train_absolute_loss_objective\": {\"sum\": 0.26177568674087526, \"count\": 1, \"min\": 0.26177568674087526, \"max\": 0.26177568674087526}}}\n",
      "\u001b[0m\n",
      "\u001b[34m#metrics {\"StartTime\": 1627320060.2660553, \"EndTime\": 1627320060.2660708, \"Dimensions\": {\"Algorithm\": \"Linear Learner\", \"Host\": \"algo-1\", \"Operation\": \"training\", \"epoch\": 3, \"model\": 15}, \"Metrics\": {\"train_absolute_loss_objective\": {\"sum\": 0.34941232204437256, \"count\": 1, \"min\": 0.34941232204437256, \"max\": 0.34941232204437256}}}\n",
      "\u001b[0m\n",
      "\u001b[34m#metrics {\"StartTime\": 1627320060.2661204, \"EndTime\": 1627320060.2661355, \"Dimensions\": {\"Algorithm\": \"Linear Learner\", \"Host\": \"algo-1\", \"Operation\": \"training\", \"epoch\": 3, \"model\": 16}, \"Metrics\": {\"train_absolute_loss_objective\": {\"sum\": 0.7971561813354492, \"count\": 1, \"min\": 0.7971561813354492, \"max\": 0.7971561813354492}}}\n",
      "\u001b[0m\n",
      "\u001b[34m#metrics {\"StartTime\": 1627320060.2661827, \"EndTime\": 1627320060.2661974, \"Dimensions\": {\"Algorithm\": \"Linear Learner\", \"Host\": \"algo-1\", \"Operation\": \"training\", \"epoch\": 3, \"model\": 17}, \"Metrics\": {\"train_absolute_loss_objective\": {\"sum\": 0.8485202693939209, \"count\": 1, \"min\": 0.8485202693939209, \"max\": 0.8485202693939209}}}\n",
      "\u001b[0m\n",
      "\u001b[34m#metrics {\"StartTime\": 1627320060.2662468, \"EndTime\": 1627320060.2662618, \"Dimensions\": {\"Algorithm\": \"Linear Learner\", \"Host\": \"algo-1\", \"Operation\": \"training\", \"epoch\": 3, \"model\": 18}, \"Metrics\": {\"train_absolute_loss_objective\": {\"sum\": 0.82443754196167, \"count\": 1, \"min\": 0.82443754196167, \"max\": 0.82443754196167}}}\n",
      "\u001b[0m\n",
      "\u001b[34m#metrics {\"StartTime\": 1627320060.266318, \"EndTime\": 1627320060.2663324, \"Dimensions\": {\"Algorithm\": \"Linear Learner\", \"Host\": \"algo-1\", \"Operation\": \"training\", \"epoch\": 3, \"model\": 19}, \"Metrics\": {\"train_absolute_loss_objective\": {\"sum\": 0.8214112377166748, \"count\": 1, \"min\": 0.8214112377166748, \"max\": 0.8214112377166748}}}\n",
      "\u001b[0m\n",
      "\u001b[34m#metrics {\"StartTime\": 1627320060.2663772, \"EndTime\": 1627320060.266392, \"Dimensions\": {\"Algorithm\": \"Linear Learner\", \"Host\": \"algo-1\", \"Operation\": \"training\", \"epoch\": 3, \"model\": 20}, \"Metrics\": {\"train_absolute_loss_objective\": {\"sum\": 0.266993465423584, \"count\": 1, \"min\": 0.266993465423584, \"max\": 0.266993465423584}}}\n",
      "\u001b[0m\n",
      "\u001b[34m#metrics {\"StartTime\": 1627320060.266502, \"EndTime\": 1627320060.2665222, \"Dimensions\": {\"Algorithm\": \"Linear Learner\", \"Host\": \"algo-1\", \"Operation\": \"training\", \"epoch\": 3, \"model\": 21}, \"Metrics\": {\"train_absolute_loss_objective\": {\"sum\": 0.2647127866744995, \"count\": 1, \"min\": 0.2647127866744995, \"max\": 0.2647127866744995}}}\n",
      "\u001b[0m\n",
      "\u001b[34m#metrics {\"StartTime\": 1627320060.2665756, \"EndTime\": 1627320060.266591, \"Dimensions\": {\"Algorithm\": \"Linear Learner\", \"Host\": \"algo-1\", \"Operation\": \"training\", \"epoch\": 3, \"model\": 22}, \"Metrics\": {\"train_absolute_loss_objective\": {\"sum\": 0.3599742937088013, \"count\": 1, \"min\": 0.3599742937088013, \"max\": 0.3599742937088013}}}\n",
      "\u001b[0m\n",
      "\u001b[34m#metrics {\"StartTime\": 1627320060.2666419, \"EndTime\": 1627320060.2666578, \"Dimensions\": {\"Algorithm\": \"Linear Learner\", \"Host\": \"algo-1\", \"Operation\": \"training\", \"epoch\": 3, \"model\": 23}, \"Metrics\": {\"train_absolute_loss_objective\": {\"sum\": 0.2619294595718384, \"count\": 1, \"min\": 0.2619294595718384, \"max\": 0.2619294595718384}}}\n",
      "\u001b[0m\n",
      "\u001b[34m#metrics {\"StartTime\": 1627320060.2667081, \"EndTime\": 1627320060.2667236, \"Dimensions\": {\"Algorithm\": \"Linear Learner\", \"Host\": \"algo-1\", \"Operation\": \"training\", \"epoch\": 3, \"model\": 24}, \"Metrics\": {\"train_absolute_loss_objective\": {\"sum\": 0.9130044841766357, \"count\": 1, \"min\": 0.9130044841766357, \"max\": 0.9130044841766357}}}\n",
      "\u001b[0m\n",
      "\u001b[34m#metrics {\"StartTime\": 1627320060.2667735, \"EndTime\": 1627320060.266789, \"Dimensions\": {\"Algorithm\": \"Linear Learner\", \"Host\": \"algo-1\", \"Operation\": \"training\", \"epoch\": 3, \"model\": 25}, \"Metrics\": {\"train_absolute_loss_objective\": {\"sum\": 0.8934240341186523, \"count\": 1, \"min\": 0.8934240341186523, \"max\": 0.8934240341186523}}}\n",
      "\u001b[0m\n",
      "\u001b[34m#metrics {\"StartTime\": 1627320060.266839, \"EndTime\": 1627320060.2668543, \"Dimensions\": {\"Algorithm\": \"Linear Learner\", \"Host\": \"algo-1\", \"Operation\": \"training\", \"epoch\": 3, \"model\": 26}, \"Metrics\": {\"train_absolute_loss_objective\": {\"sum\": 0.9017952346801758, \"count\": 1, \"min\": 0.9017952346801758, \"max\": 0.9017952346801758}}}\n",
      "\u001b[0m\n",
      "\u001b[34m#metrics {\"StartTime\": 1627320060.2669125, \"EndTime\": 1627320060.2669294, \"Dimensions\": {\"Algorithm\": \"Linear Learner\", \"Host\": \"algo-1\", \"Operation\": \"training\", \"epoch\": 3, \"model\": 27}, \"Metrics\": {\"train_absolute_loss_objective\": {\"sum\": 0.9063188743591308, \"count\": 1, \"min\": 0.9063188743591308, \"max\": 0.9063188743591308}}}\n",
      "\u001b[0m\n",
      "\u001b[34m#metrics {\"StartTime\": 1627320060.266984, \"EndTime\": 1627320060.2669995, \"Dimensions\": {\"Algorithm\": \"Linear Learner\", \"Host\": \"algo-1\", \"Operation\": \"training\", \"epoch\": 3, \"model\": 28}, \"Metrics\": {\"train_absolute_loss_objective\": {\"sum\": 0.9337113094329834, \"count\": 1, \"min\": 0.9337113094329834, \"max\": 0.9337113094329834}}}\n",
      "\u001b[0m\n",
      "\u001b[34m#metrics {\"StartTime\": 1627320060.2670555, \"EndTime\": 1627320060.267071, \"Dimensions\": {\"Algorithm\": \"Linear Learner\", \"Host\": \"algo-1\", \"Operation\": \"training\", \"epoch\": 3, \"model\": 29}, \"Metrics\": {\"train_absolute_loss_objective\": {\"sum\": 0.9346320152282714, \"count\": 1, \"min\": 0.9346320152282714, \"max\": 0.9346320152282714}}}\n",
      "\u001b[0m\n",
      "\u001b[34m#metrics {\"StartTime\": 1627320060.2671244, \"EndTime\": 1627320060.2671404, \"Dimensions\": {\"Algorithm\": \"Linear Learner\", \"Host\": \"algo-1\", \"Operation\": \"training\", \"epoch\": 3, \"model\": 30}, \"Metrics\": {\"train_absolute_loss_objective\": {\"sum\": 0.93647216796875, \"count\": 1, \"min\": 0.93647216796875, \"max\": 0.93647216796875}}}\n",
      "\u001b[0m\n",
      "\u001b[34m#metrics {\"StartTime\": 1627320060.2671893, \"EndTime\": 1627320060.2672048, \"Dimensions\": {\"Algorithm\": \"Linear Learner\", \"Host\": \"algo-1\", \"Operation\": \"training\", \"epoch\": 3, \"model\": 31}, \"Metrics\": {\"train_absolute_loss_objective\": {\"sum\": 0.9073551940917969, \"count\": 1, \"min\": 0.9073551940917969, \"max\": 0.9073551940917969}}}\n",
      "\u001b[0m\n",
      "\u001b[34m[07/26/2021 17:21:00 INFO 140025341310784] #quality_metric: host=algo-1, epoch=3, train absolute_loss_objective <loss>=0.8331165313720703\u001b[0m\n",
      "\u001b[34m[07/26/2021 17:21:00 INFO 140025341310784] #early_stopping_criteria_metric: host=algo-1, epoch=3, criteria=absolute_loss_objective, value=0.26108015298843384\u001b[0m\n",
      "\u001b[34m[07/26/2021 17:21:00 INFO 140025341310784] Saving model for epoch: 3\u001b[0m\n",
      "\u001b[34m[07/26/2021 17:21:00 INFO 140025341310784] Saved checkpoint to \"/tmp/tmpk1xpcrgv/mx-mod-0000.params\"\u001b[0m\n",
      "\u001b[34m[07/26/2021 17:21:00 INFO 140025341310784] #progress_metric: host=algo-1, completed 80.0 % of epochs\u001b[0m\n",
      "\u001b[34m#metrics {\"StartTime\": 1627320060.1151164, \"EndTime\": 1627320060.2809274, \"Dimensions\": {\"Algorithm\": \"Linear Learner\", \"Host\": \"algo-1\", \"Operation\": \"training\", \"epoch\": 3, \"Meta\": \"training_data_iter\"}, \"Metrics\": {\"Total Records Seen\": {\"sum\": 135.0, \"count\": 1, \"min\": 135, \"max\": 135}, \"Total Batches Seen\": {\"sum\": 31.0, \"count\": 1, \"min\": 31, \"max\": 31}, \"Max Records Seen Between Resets\": {\"sum\": 26.0, \"count\": 1, \"min\": 26, \"max\": 26}, \"Max Batches Seen Between Resets\": {\"sum\": 6.0, \"count\": 1, \"min\": 6, \"max\": 6}, \"Reset Count\": {\"sum\": 6.0, \"count\": 1, \"min\": 6, \"max\": 6}, \"Number of Records Since Last Reset\": {\"sum\": 26.0, \"count\": 1, \"min\": 26, \"max\": 26}, \"Number of Batches Since Last Reset\": {\"sum\": 6.0, \"count\": 1, \"min\": 6, \"max\": 6}}}\n",
      "\u001b[0m\n",
      "\u001b[34m[07/26/2021 17:21:00 INFO 140025341310784] #throughput_metric: host=algo-1, train throughput=156.6862464780334 records/second\u001b[0m\n",
      "\u001b[34m[2021-07-26 17:21:00.429] [tensorio] [info] epoch_stats={\"data_pipeline\": \"/opt/ml/input/data/train\", \"epoch\": 12, \"duration\": 148, \"num_examples\": 6, \"num_bytes\": 1248}\u001b[0m\n",
      "\u001b[34m#metrics {\"StartTime\": 1627320060.4296355, \"EndTime\": 1627320060.4298177, \"Dimensions\": {\"Algorithm\": \"Linear Learner\", \"Host\": \"algo-1\", \"Operation\": \"training\", \"epoch\": 4, \"model\": 0}, \"Metrics\": {\"train_absolute_loss_objective\": {\"sum\": 0.8105597591400147, \"count\": 1, \"min\": 0.8105597591400147, \"max\": 0.8105597591400147}}}\n",
      "\u001b[0m\n",
      "\u001b[34m#metrics {\"StartTime\": 1627320060.4299285, \"EndTime\": 1627320060.4299502, \"Dimensions\": {\"Algorithm\": \"Linear Learner\", \"Host\": \"algo-1\", \"Operation\": \"training\", \"epoch\": 4, \"model\": 1}, \"Metrics\": {\"train_absolute_loss_objective\": {\"sum\": 0.8300430679321289, \"count\": 1, \"min\": 0.8300430679321289, \"max\": 0.8300430679321289}}}\n",
      "\u001b[0m\n",
      "\u001b[34m#metrics {\"StartTime\": 1627320060.430007, \"EndTime\": 1627320060.4301395, \"Dimensions\": {\"Algorithm\": \"Linear Learner\", \"Host\": \"algo-1\", \"Operation\": \"training\", \"epoch\": 4, \"model\": 2}, \"Metrics\": {\"train_absolute_loss_objective\": {\"sum\": 0.8129943180084228, \"count\": 1, \"min\": 0.8129943180084228, \"max\": 0.8129943180084228}}}\n",
      "\u001b[0m\n",
      "\u001b[34m#metrics {\"StartTime\": 1627320060.4302993, \"EndTime\": 1627320060.4303188, \"Dimensions\": {\"Algorithm\": \"Linear Learner\", \"Host\": \"algo-1\", \"Operation\": \"training\", \"epoch\": 4, \"model\": 3}, \"Metrics\": {\"train_absolute_loss_objective\": {\"sum\": 0.8290160083770752, \"count\": 1, \"min\": 0.8290160083770752, \"max\": 0.8290160083770752}}}\n",
      "\u001b[0m\n",
      "\u001b[34m#metrics {\"StartTime\": 1627320060.4304924, \"EndTime\": 1627320060.4305131, \"Dimensions\": {\"Algorithm\": \"Linear Learner\", \"Host\": \"algo-1\", \"Operation\": \"training\", \"epoch\": 4, \"model\": 4}, \"Metrics\": {\"train_absolute_loss_objective\": {\"sum\": 0.20793384075164795, \"count\": 1, \"min\": 0.20793384075164795, \"max\": 0.20793384075164795}}}\n",
      "\u001b[0m\n",
      "\u001b[34m#metrics {\"StartTime\": 1627320060.4306858, \"EndTime\": 1627320060.4307065, \"Dimensions\": {\"Algorithm\": \"Linear Learner\", \"Host\": \"algo-1\", \"Operation\": \"training\", \"epoch\": 4, \"model\": 5}, \"Metrics\": {\"train_absolute_loss_objective\": {\"sum\": 0.20569249153137206, \"count\": 1, \"min\": 0.20569249153137206, \"max\": 0.20569249153137206}}}\n",
      "\u001b[0m\n",
      "\u001b[34m#metrics {\"StartTime\": 1627320060.430872, \"EndTime\": 1627320060.4308925, \"Dimensions\": {\"Algorithm\": \"Linear Learner\", \"Host\": \"algo-1\", \"Operation\": \"training\", \"epoch\": 4, \"model\": 6}, \"Metrics\": {\"train_absolute_loss_objective\": {\"sum\": 0.26917444705963134, \"count\": 1, \"min\": 0.26917444705963134, \"max\": 0.26917444705963134}}}\n",
      "\u001b[0m\n",
      "\u001b[34m#metrics {\"StartTime\": 1627320060.431052, \"EndTime\": 1627320060.4310734, \"Dimensions\": {\"Algorithm\": \"Linear Learner\", \"Host\": \"algo-1\", \"Operation\": \"training\", \"epoch\": 4, \"model\": 7}, \"Metrics\": {\"train_absolute_loss_objective\": {\"sum\": 0.25191853046417234, \"count\": 1, \"min\": 0.25191853046417234, \"max\": 0.25191853046417234}}}\n",
      "\u001b[0m\n",
      "\u001b[34m#metrics {\"StartTime\": 1627320060.4311342, \"EndTime\": 1627320060.4313018, \"Dimensions\": {\"Algorithm\": \"Linear Learner\", \"Host\": \"algo-1\", \"Operation\": \"training\", \"epoch\": 4, \"model\": 8}, \"Metrics\": {\"train_absolute_loss_objective\": {\"sum\": 0.8669958305358887, \"count\": 1, \"min\": 0.8669958305358887, \"max\": 0.8669958305358887}}}\n",
      "\u001b[0m\n",
      "\u001b[34m#metrics {\"StartTime\": 1627320060.4313765, \"EndTime\": 1627320060.4313955, \"Dimensions\": {\"Algorithm\": \"Linear Learner\", \"Host\": \"algo-1\", \"Operation\": \"training\", \"epoch\": 4, \"model\": 9}, \"Metrics\": {\"train_absolute_loss_objective\": {\"sum\": 0.7978101444244384, \"count\": 1, \"min\": 0.7978101444244384, \"max\": 0.7978101444244384}}}\n",
      "\u001b[0m\n",
      "\u001b[34m#metrics {\"StartTime\": 1627320060.4314473, \"EndTime\": 1627320060.4316347, \"Dimensions\": {\"Algorithm\": \"Linear Learner\", \"Host\": \"algo-1\", \"Operation\": \"training\", \"epoch\": 4, \"model\": 10}, \"Metrics\": {\"train_absolute_loss_objective\": {\"sum\": 0.8051863956451416, \"count\": 1, \"min\": 0.8051863956451416, \"max\": 0.8051863956451416}}}\n",
      "\u001b[0m\n",
      "\u001b[34m#metrics {\"StartTime\": 1627320060.431708, \"EndTime\": 1627320060.431727, \"Dimensions\": {\"Algorithm\": \"Linear Learner\", \"Host\": \"algo-1\", \"Operation\": \"training\", \"epoch\": 4, \"model\": 11}, \"Metrics\": {\"train_absolute_loss_objective\": {\"sum\": 0.7896191215515137, \"count\": 1, \"min\": 0.7896191215515137, \"max\": 0.7896191215515137}}}\n",
      "\u001b[0m\n",
      "\u001b[34m#metrics {\"StartTime\": 1627320060.4317844, \"EndTime\": 1627320060.431948, \"Dimensions\": {\"Algorithm\": \"Linear Learner\", \"Host\": \"algo-1\", \"Operation\": \"training\", \"epoch\": 4, \"model\": 12}, \"Metrics\": {\"train_absolute_loss_objective\": {\"sum\": 0.2015039098262787, \"count\": 1, \"min\": 0.2015039098262787, \"max\": 0.2015039098262787}}}\n",
      "\u001b[0m\n",
      "\u001b[34m#metrics {\"StartTime\": 1627320060.4320197, \"EndTime\": 1627320060.4320374, \"Dimensions\": {\"Algorithm\": \"Linear Learner\", \"Host\": \"algo-1\", \"Operation\": \"training\", \"epoch\": 4, \"model\": 13}, \"Metrics\": {\"train_absolute_loss_objective\": {\"sum\": 0.269013569355011, \"count\": 1, \"min\": 0.269013569355011, \"max\": 0.269013569355011}}}\n",
      "\u001b[0m\n",
      "\u001b[34m#metrics {\"StartTime\": 1627320060.4320934, \"EndTime\": 1627320060.432264, \"Dimensions\": {\"Algorithm\": \"Linear Learner\", \"Host\": \"algo-1\", \"Operation\": \"training\", \"epoch\": 4, \"model\": 14}, \"Metrics\": {\"train_absolute_loss_objective\": {\"sum\": 0.20201148748397826, \"count\": 1, \"min\": 0.20201148748397826, \"max\": 0.20201148748397826}}}\n",
      "\u001b[0m\n",
      "\u001b[34m#metrics {\"StartTime\": 1627320060.4323344, \"EndTime\": 1627320060.4323516, \"Dimensions\": {\"Algorithm\": \"Linear Learner\", \"Host\": \"algo-1\", \"Operation\": \"training\", \"epoch\": 4, \"model\": 15}, \"Metrics\": {\"train_absolute_loss_objective\": {\"sum\": 0.2568753755092621, \"count\": 1, \"min\": 0.2568753755092621, \"max\": 0.2568753755092621}}}\n",
      "\u001b[0m\n",
      "\u001b[34m#metrics {\"StartTime\": 1627320060.4324145, \"EndTime\": 1627320060.4325721, \"Dimensions\": {\"Algorithm\": \"Linear Learner\", \"Host\": \"algo-1\", \"Operation\": \"training\", \"epoch\": 4, \"model\": 16}, \"Metrics\": {\"train_absolute_loss_objective\": {\"sum\": 0.7750927925109863, \"count\": 1, \"min\": 0.7750927925109863, \"max\": 0.7750927925109863}}}\n",
      "\u001b[0m\n",
      "\u001b[34m#metrics {\"StartTime\": 1627320060.4326494, \"EndTime\": 1627320060.4326649, \"Dimensions\": {\"Algorithm\": \"Linear Learner\", \"Host\": \"algo-1\", \"Operation\": \"training\", \"epoch\": 4, \"model\": 17}, \"Metrics\": {\"train_absolute_loss_objective\": {\"sum\": 0.8260982418060303, \"count\": 1, \"min\": 0.8260982418060303, \"max\": 0.8260982418060303}}}\n",
      "\u001b[0m\n",
      "\u001b[34m#metrics {\"StartTime\": 1627320060.432724, \"EndTime\": 1627320060.4328802, \"Dimensions\": {\"Algorithm\": \"Linear Learner\", \"Host\": \"algo-1\", \"Operation\": \"training\", \"epoch\": 4, \"model\": 18}, \"Metrics\": {\"train_absolute_loss_objective\": {\"sum\": 0.8023411846160888, \"count\": 1, \"min\": 0.8023411846160888, \"max\": 0.8023411846160888}}}\n",
      "\u001b[0m\n",
      "\u001b[34m#metrics {\"StartTime\": 1627320060.4329426, \"EndTime\": 1627320060.432959, \"Dimensions\": {\"Algorithm\": \"Linear Learner\", \"Host\": \"algo-1\", \"Operation\": \"training\", \"epoch\": 4, \"model\": 19}, \"Metrics\": {\"train_absolute_loss_objective\": {\"sum\": 0.7990199756622315, \"count\": 1, \"min\": 0.7990199756622315, \"max\": 0.7990199756622315}}}\n",
      "\u001b[0m\n",
      "\u001b[34m#metrics {\"StartTime\": 1627320060.433017, \"EndTime\": 1627320060.4331834, \"Dimensions\": {\"Algorithm\": \"Linear Learner\", \"Host\": \"algo-1\", \"Operation\": \"training\", \"epoch\": 4, \"model\": 20}, \"Metrics\": {\"train_absolute_loss_objective\": {\"sum\": 0.33532320022583006, \"count\": 1, \"min\": 0.33532320022583006, \"max\": 0.33532320022583006}}}\n",
      "\u001b[0m\n",
      "\u001b[34m#metrics {\"StartTime\": 1627320060.4332507, \"EndTime\": 1627320060.4332662, \"Dimensions\": {\"Algorithm\": \"Linear Learner\", \"Host\": \"algo-1\", \"Operation\": \"training\", \"epoch\": 4, \"model\": 21}, \"Metrics\": {\"train_absolute_loss_objective\": {\"sum\": 0.32197803497314453, \"count\": 1, \"min\": 0.32197803497314453, \"max\": 0.32197803497314453}}}\n",
      "\u001b[0m\n",
      "\u001b[34m#metrics {\"StartTime\": 1627320060.433312, \"EndTime\": 1627320060.4333253, \"Dimensions\": {\"Algorithm\": \"Linear Learner\", \"Host\": \"algo-1\", \"Operation\": \"training\", \"epoch\": 4, \"model\": 22}, \"Metrics\": {\"train_absolute_loss_objective\": {\"sum\": 0.42702393054962157, \"count\": 1, \"min\": 0.42702393054962157, \"max\": 0.42702393054962157}}}\n",
      "\u001b[0m\n",
      "\u001b[34m#metrics {\"StartTime\": 1627320060.4335787, \"EndTime\": 1627320060.433598, \"Dimensions\": {\"Algorithm\": \"Linear Learner\", \"Host\": \"algo-1\", \"Operation\": \"training\", \"epoch\": 4, \"model\": 23}, \"Metrics\": {\"train_absolute_loss_objective\": {\"sum\": 0.3127946186065674, \"count\": 1, \"min\": 0.3127946186065674, \"max\": 0.3127946186065674}}}\n",
      "\u001b[0m\n",
      "\u001b[34m#metrics {\"StartTime\": 1627320060.4337466, \"EndTime\": 1627320060.433767, \"Dimensions\": {\"Algorithm\": \"Linear Learner\", \"Host\": \"algo-1\", \"Operation\": \"training\", \"epoch\": 4, \"model\": 24}, \"Metrics\": {\"train_absolute_loss_objective\": {\"sum\": 0.9147606658935546, \"count\": 1, \"min\": 0.9147606658935546, \"max\": 0.9147606658935546}}}\n",
      "\u001b[0m\n",
      "\u001b[34m#metrics {\"StartTime\": 1627320060.4339242, \"EndTime\": 1627320060.4339433, \"Dimensions\": {\"Algorithm\": \"Linear Learner\", \"Host\": \"algo-1\", \"Operation\": \"training\", \"epoch\": 4, \"model\": 25}, \"Metrics\": {\"train_absolute_loss_objective\": {\"sum\": 0.8964773750305176, \"count\": 1, \"min\": 0.8964773750305176, \"max\": 0.8964773750305176}}}\n",
      "\u001b[0m\n",
      "\u001b[34m#metrics {\"StartTime\": 1627320060.4339943, \"EndTime\": 1627320060.434147, \"Dimensions\": {\"Algorithm\": \"Linear Learner\", \"Host\": \"algo-1\", \"Operation\": \"training\", \"epoch\": 4, \"model\": 26}, \"Metrics\": {\"train_absolute_loss_objective\": {\"sum\": 0.9063785362243653, \"count\": 1, \"min\": 0.9063785362243653, \"max\": 0.9063785362243653}}}\n",
      "\u001b[0m\n",
      "\u001b[34m#metrics {\"StartTime\": 1627320060.4342158, \"EndTime\": 1627320060.4342332, \"Dimensions\": {\"Algorithm\": \"Linear Learner\", \"Host\": \"algo-1\", \"Operation\": \"training\", \"epoch\": 4, \"model\": 27}, \"Metrics\": {\"train_absolute_loss_objective\": {\"sum\": 0.9013813781738281, \"count\": 1, \"min\": 0.9013813781738281, \"max\": 0.9013813781738281}}}\n",
      "\u001b[0m\n",
      "\u001b[34m#metrics {\"StartTime\": 1627320060.434432, \"EndTime\": 1627320060.4344528, \"Dimensions\": {\"Algorithm\": \"Linear Learner\", \"Host\": \"algo-1\", \"Operation\": \"training\", \"epoch\": 4, \"model\": 28}, \"Metrics\": {\"train_absolute_loss_objective\": {\"sum\": 0.9801882934570313, \"count\": 1, \"min\": 0.9801882934570313, \"max\": 0.9801882934570313}}}\n",
      "\u001b[0m\n",
      "\u001b[34m#metrics {\"StartTime\": 1627320060.4345179, \"EndTime\": 1627320060.434533, \"Dimensions\": {\"Algorithm\": \"Linear Learner\", \"Host\": \"algo-1\", \"Operation\": \"training\", \"epoch\": 4, \"model\": 29}, \"Metrics\": {\"train_absolute_loss_objective\": {\"sum\": 0.9812432289123535, \"count\": 1, \"min\": 0.9812432289123535, \"max\": 0.9812432289123535}}}\n",
      "\u001b[0m\n",
      "\u001b[34m#metrics {\"StartTime\": 1627320060.4345877, \"EndTime\": 1627320060.4347453, \"Dimensions\": {\"Algorithm\": \"Linear Learner\", \"Host\": \"algo-1\", \"Operation\": \"training\", \"epoch\": 4, \"model\": 30}, \"Metrics\": {\"train_absolute_loss_objective\": {\"sum\": 0.9247559547424317, \"count\": 1, \"min\": 0.9247559547424317, \"max\": 0.9247559547424317}}}\n",
      "\u001b[0m\n",
      "\u001b[34m#metrics {\"StartTime\": 1627320060.4348135, \"EndTime\": 1627320060.4348295, \"Dimensions\": {\"Algorithm\": \"Linear Learner\", \"Host\": \"algo-1\", \"Operation\": \"training\", \"epoch\": 4, \"model\": 31}, \"Metrics\": {\"train_absolute_loss_objective\": {\"sum\": 1.0082299423217773, \"count\": 1, \"min\": 1.0082299423217773, \"max\": 1.0082299423217773}}}\n",
      "\u001b[0m\n",
      "\u001b[34m[07/26/2021 17:21:00 INFO 140025341310784] #quality_metric: host=algo-1, epoch=4, train absolute_loss_objective <loss>=0.8105597591400147\u001b[0m\n",
      "\u001b[34m[07/26/2021 17:21:00 INFO 140025341310784] #early_stopping_criteria_metric: host=algo-1, epoch=4, criteria=absolute_loss_objective, value=0.2015039098262787\u001b[0m\n",
      "\u001b[34m[07/26/2021 17:21:00 INFO 140025341310784] Epoch 4: Loss improved. Updating best model\u001b[0m\n",
      "\u001b[34m[07/26/2021 17:21:00 INFO 140025341310784] Saving model for epoch: 4\u001b[0m\n",
      "\u001b[34m[07/26/2021 17:21:00 INFO 140025341310784] Saved checkpoint to \"/tmp/tmpld8hs76j/mx-mod-0000.params\"\u001b[0m\n",
      "\u001b[34m[07/26/2021 17:21:00 INFO 140025341310784] #progress_metric: host=algo-1, completed 100.0 % of epochs\u001b[0m\n",
      "\u001b[34m#metrics {\"StartTime\": 1627320060.2812316, \"EndTime\": 1627320060.4502726, \"Dimensions\": {\"Algorithm\": \"Linear Learner\", \"Host\": \"algo-1\", \"Operation\": \"training\", \"epoch\": 4, \"Meta\": \"training_data_iter\"}, \"Metrics\": {\"Total Records Seen\": {\"sum\": 161.0, \"count\": 1, \"min\": 161, \"max\": 161}, \"Total Batches Seen\": {\"sum\": 37.0, \"count\": 1, \"min\": 37, \"max\": 37}, \"Max Records Seen Between Resets\": {\"sum\": 26.0, \"count\": 1, \"min\": 26, \"max\": 26}, \"Max Batches Seen Between Resets\": {\"sum\": 6.0, \"count\": 1, \"min\": 6, \"max\": 6}, \"Reset Count\": {\"sum\": 7.0, \"count\": 1, \"min\": 7, \"max\": 7}, \"Number of Records Since Last Reset\": {\"sum\": 26.0, \"count\": 1, \"min\": 26, \"max\": 26}, \"Number of Batches Since Last Reset\": {\"sum\": 6.0, \"count\": 1, \"min\": 6, \"max\": 6}}}\n",
      "\u001b[0m\n",
      "\u001b[34m[07/26/2021 17:21:00 INFO 140025341310784] #throughput_metric: host=algo-1, train throughput=153.65699229262657 records/second\u001b[0m\n",
      "\u001b[34m[07/26/2021 17:21:00 WARNING 140025341310784] wait_for_all_workers will not sync workers since the kv store is not running distributed\u001b[0m\n",
      "\u001b[34m[07/26/2021 17:21:00 WARNING 140025341310784] wait_for_all_workers will not sync workers since the kv store is not running distributed\u001b[0m\n",
      "\u001b[34m[2021-07-26 17:21:00.451] [tensorio] [info] epoch_stats={\"data_pipeline\": \"/opt/ml/input/data/train\", \"epoch\": 14, \"duration\": 0, \"num_examples\": 1, \"num_bytes\": 240}\u001b[0m\n",
      "\u001b[34m[2021-07-26 17:21:00.470] [tensorio] [info] epoch_stats={\"data_pipeline\": \"/opt/ml/input/data/train\", \"epoch\": 16, \"duration\": 15, \"num_examples\": 6, \"num_bytes\": 1248}\u001b[0m\n",
      "\u001b[34m[07/26/2021 17:21:00 INFO 140025341310784] #train_score (algo-1) : ('absolute_loss_objective', 4756.302884615385)\u001b[0m\n",
      "\u001b[34m[07/26/2021 17:21:00 INFO 140025341310784] #train_score (algo-1) : ('mse', 34979364.02478966)\u001b[0m\n",
      "\u001b[34m[07/26/2021 17:21:00 INFO 140025341310784] #train_score (algo-1) : ('absolute_loss', 4756.302884615385)\u001b[0m\n",
      "\u001b[34m[07/26/2021 17:21:00 INFO 140025341310784] #quality_metric: host=algo-1, train absolute_loss_objective <loss>=4756.302884615385\u001b[0m\n",
      "\u001b[34m[07/26/2021 17:21:00 INFO 140025341310784] #quality_metric: host=algo-1, train mse <loss>=34979364.02478966\u001b[0m\n",
      "\u001b[34m[07/26/2021 17:21:00 INFO 140025341310784] #quality_metric: host=algo-1, train absolute_loss <loss>=4756.302884615385\u001b[0m\n",
      "\u001b[34m[07/26/2021 17:21:00 INFO 140025341310784] Best model found for hyperparameters: {\"optimizer\": \"adam\", \"learning_rate\": 0.1, \"wd\": 0.01, \"l1\": 0.0, \"lr_scheduler_step\": 10, \"lr_scheduler_factor\": 0.99, \"lr_scheduler_minimum_lr\": 1e-05}\u001b[0m\n",
      "\u001b[34m[07/26/2021 17:21:00 INFO 140025341310784] Saved checkpoint to \"/tmp/tmpxmit1n8v/mx-mod-0000.params\"\u001b[0m\n",
      "\u001b[34m[07/26/2021 17:21:00 INFO 140025341310784] Test data is not provided.\u001b[0m\n",
      "\u001b[34m#metrics {\"StartTime\": 1627320059.4756255, \"EndTime\": 1627320060.480057, \"Dimensions\": {\"Algorithm\": \"Linear Learner\", \"Host\": \"algo-1\", \"Operation\": \"training\"}, \"Metrics\": {\"initialize.time\": {\"sum\": 181.81991577148438, \"count\": 1, \"min\": 181.81991577148438, \"max\": 181.81991577148438}, \"epochs\": {\"sum\": 5.0, \"count\": 1, \"min\": 5, \"max\": 5}, \"check_early_stopping.time\": {\"sum\": 5.829095840454102, \"count\": 5, \"min\": 0.28896331787109375, \"max\": 1.7850399017333984}, \"update.time\": {\"sum\": 767.7865028381348, \"count\": 5, \"min\": 111.33933067321777, \"max\": 193.3116912841797}, \"finalize.time\": {\"sum\": 21.704912185668945, \"count\": 1, \"min\": 21.704912185668945, \"max\": 21.704912185668945}, \"setuptime\": {\"sum\": 24.78623390197754, \"count\": 1, \"min\": 24.78623390197754, \"max\": 24.78623390197754}, \"totaltime\": {\"sum\": 1226.8240451812744, \"count\": 1, \"min\": 1226.8240451812744, \"max\": 1226.8240451812744}}}\n",
      "\u001b[0m\n",
      "\n",
      "2021-07-26 17:21:22 Completed - Training job completed\n",
      "Training seconds: 59\n",
      "Billable seconds: 11\n",
      "Managed Spot Training savings: 81.4%\n"
     ]
    }
   ],
   "source": [
    "# We have pass in the container, the type of instance that we would like to use for training \n",
    "# output path and sagemaker session into the Estimator. \n",
    "# We can also specify how many instances we would like to use for training\n",
    "# sagemaker_session = sagemaker.Session()\n",
    "\n",
    "linear = sagemaker.estimator.Estimator(container,\n",
    "                                       role, \n",
    "                                       train_instance_count = 1, \n",
    "                                       train_instance_type = 'ml.c4.xlarge',\n",
    "                                       output_path = output_location,\n",
    "                                       sagemaker_session = sagemaker_session, train_use_spot_instances = True, train_max_run = 300, train_max_wait = 600)\n",
    "\n",
    "\n",
    "# We can tune parameters like the number of features that we are passing in, type of predictor like 'regressor' or 'classifier', mini batch size, epochs\n",
    "# Train 32 different versions of the model and will get the best out of them (built-in parameters optimization!)\n",
    "\n",
    "linear.set_hyperparameters(feature_dim = 1,\n",
    "                           predictor_type = 'regressor',\n",
    "                           mini_batch_size = 5,\n",
    "                           epochs = 5,\n",
    "                           num_models = 32,\n",
    "                           loss = 'absolute_loss')\n",
    "\n",
    "# Now we are ready to pass in the training data from S3 to train the linear learner model\n",
    "\n",
    "linear.fit({'train': s3_train_data})\n",
    "\n",
    "# Let's see the progress using cloudwatch logs"
   ]
  },
  {
   "cell_type": "markdown",
   "metadata": {},
   "source": [
    "# TASK #8: DEPLOY AND TEST THE TRAINED LINEAR LEARNER MODEL "
   ]
  },
  {
   "cell_type": "code",
   "execution_count": 78,
   "metadata": {},
   "outputs": [
    {
     "name": "stdout",
     "output_type": "stream",
     "text": [
      "-------------!"
     ]
    }
   ],
   "source": [
    "# Deploying the model to perform inference \n",
    "\n",
    "linear_regressor = linear.deploy(initial_instance_count = 1,\n",
    "                                          instance_type = 'ml.m4.xlarge')"
   ]
  },
  {
   "cell_type": "code",
   "execution_count": 80,
   "metadata": {},
   "outputs": [],
   "source": [
    "from sagemaker.predictor import csv_serializer, json_deserializer\n",
    "\n",
    "# Content type overrides the data that will be passed to the deployed model, since the deployed model expects data in text/csv format.\n",
    "\n",
    "# Serializer accepts a single argument, the input data, and returns a sequence of bytes in the specified content type\n",
    "\n",
    "# Deserializer accepts two arguments, the result data and the response content type, and return a sequence of bytes in the specified content type.\n",
    "\n",
    "# Reference: https://sagemaker.readthedocs.io/en/stable/predictors.html\n",
    "\n",
    "#linear_regressor.content_type = 'text/csv'\n",
    "linear_regressor.serializer = csv_serializer\n",
    "linear_regressor.deserializer = json_deserializer"
   ]
  },
  {
   "cell_type": "code",
   "execution_count": 81,
   "metadata": {},
   "outputs": [
    {
     "name": "stderr",
     "output_type": "stream",
     "text": [
      "The csv_serializer has been renamed in sagemaker>=2.\n",
      "See: https://sagemaker.readthedocs.io/en/stable/v2.html for details.\n",
      "The json_deserializer has been renamed in sagemaker>=2.\n",
      "See: https://sagemaker.readthedocs.io/en/stable/v2.html for details.\n"
     ]
    }
   ],
   "source": [
    "# making prediction on the test data\n",
    "\n",
    "result = linear_regressor.predict(X_test)"
   ]
  },
  {
   "cell_type": "code",
   "execution_count": 82,
   "metadata": {},
   "outputs": [
    {
     "data": {
      "text/plain": [
       "{'predictions': [{'score': 66172.484375},\n",
       "  {'score': 62765.734375},\n",
       "  {'score': 105350.109375},\n",
       "  {'score': 91723.109375},\n",
       "  {'score': 69579.234375},\n",
       "  {'score': 64469.109375},\n",
       "  {'score': 58507.296875},\n",
       "  {'score': 136010.875},\n",
       "  {'score': 44028.609375}]}"
      ]
     },
     "execution_count": 82,
     "metadata": {},
     "output_type": "execute_result"
    }
   ],
   "source": [
    "result # results are in Json format"
   ]
  },
  {
   "cell_type": "code",
   "execution_count": 83,
   "metadata": {},
   "outputs": [],
   "source": [
    "# Since the result is in json format, we access the scores by iterating through the scores in the predictions\n",
    "\n",
    "predictions = np.array([r['score'] for r in result['predictions']])"
   ]
  },
  {
   "cell_type": "code",
   "execution_count": 84,
   "metadata": {},
   "outputs": [
    {
     "data": {
      "text/plain": [
       "array([ 66172.484375,  62765.734375, 105350.109375,  91723.109375,\n",
       "        69579.234375,  64469.109375,  58507.296875, 136010.875   ,\n",
       "        44028.609375])"
      ]
     },
     "execution_count": 84,
     "metadata": {},
     "output_type": "execute_result"
    }
   ],
   "source": [
    "predictions"
   ]
  },
  {
   "cell_type": "code",
   "execution_count": 85,
   "metadata": {
    "scrolled": true
   },
   "outputs": [
    {
     "data": {
      "text/plain": [
       "(9,)"
      ]
     },
     "execution_count": 85,
     "metadata": {},
     "output_type": "execute_result"
    }
   ],
   "source": [
    "predictions.shape"
   ]
  },
  {
   "cell_type": "code",
   "execution_count": 86,
   "metadata": {},
   "outputs": [
    {
     "data": {
      "text/plain": [
       "Text(0.5, 1.0, 'Salary vs. Years of Experience')"
      ]
     },
     "execution_count": 86,
     "metadata": {},
     "output_type": "execute_result"
    },
    {
     "data": {
      "image/png": "[encoded data removed]",
      "text/plain": [
       "<Figure size 432x288 with 1 Axes>"
      ]
     },
     "metadata": {
      "needs_background": "light"
     },
     "output_type": "display_data"
    }
   ],
   "source": [
    "# VISUALIZE TEST SET RESULTS\n",
    "plt.scatter(X_test, y_test, color = 'gray')\n",
    "plt.plot(X_test, predictions, color = 'red')\n",
    "plt.xlabel('Years of Experience (Testing Dataset)')\n",
    "plt.ylabel('salary')\n",
    "plt.title('Salary vs. Years of Experience')"
   ]
  },
  {
   "cell_type": "code",
   "execution_count": 87,
   "metadata": {},
   "outputs": [],
   "source": [
    "# Delete the end-point\n",
    "\n",
    "linear_regressor.delete_endpoint()"
   ]
  },
  {
   "cell_type": "markdown",
   "metadata": {},
   "source": [
    "# EXCELLENT JOB! NOW YOU'RE FAMILIAR WITH SAGEMAKER LINEAR LEARNER, YOU SHOULD BE PROUD OF YOUR NEWLY ACQUIRED SKILLS"
   ]
  }
 ],
 "metadata": {
  "colab": {
   "collapsed_sections": [],
   "name": "Graduate_Admission_Prediction.ipynb",
   "provenance": [],
   "toc_visible": true
  },
  "instance_type": "ml.t3.medium",
  "kernelspec": {
   "display_name": "Python 3 (TensorFlow 2.3 Python 3.7 CPU Optimized)",
   "language": "python",
   "name": "python3__SAGEMAKER_INTERNAL__arn:aws:sagemaker:us-east-2:429704687514:image/tensorflow-2.3-cpu-py37-ubuntu18.04-v1"
  },
  "language_info": {
   "codemirror_mode": {
    "name": "ipython",
    "version": 3
   },
   "file_extension": ".py",
   "mimetype": "text/x-python",
   "name": "python",
   "nbconvert_exporter": "python",
   "pygments_lexer": "ipython3",
   "version": "3.7.10"
  }
 },
 "nbformat": 4,
 "nbformat_minor": 4
}
